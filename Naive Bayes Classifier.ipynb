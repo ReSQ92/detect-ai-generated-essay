{
 "cells": [
  {
   "cell_type": "markdown",
   "id": "1f11ca1d",
   "metadata": {},
   "source": [
    "# Building a Naive Bayes Classifer"
   ]
  },
  {
   "cell_type": "code",
   "execution_count": 71,
   "id": "ab9c5757",
   "metadata": {},
   "outputs": [],
   "source": [
    "#import the necessary libraries\n",
    "import numpy as np\n",
    "import pandas as pd\n",
    "import re\n",
    "import nltk\n",
    "from nltk.corpus import stopwords\n",
    "from nltk.tokenize import word_tokenize\n",
    "import csv\n",
    "import os\n",
    "from collections import Counter"
   ]
  },
  {
   "cell_type": "markdown",
   "id": "ab5f7896",
   "metadata": {},
   "source": [
    "### The path of my input file. \n",
    "(to run on your system use the input path on your computer)"
   ]
  },
  {
   "cell_type": "code",
   "execution_count": 72,
   "id": "b38baa4a",
   "metadata": {},
   "outputs": [
    {
     "name": "stdout",
     "output_type": "stream",
     "text": [
      "/Users/renitasequeira/Desktop/detect-ai-generated-essay\n"
     ]
    }
   ],
   "source": [
    "print(os.getcwd())"
   ]
  },
  {
   "cell_type": "code",
   "execution_count": 73,
   "id": "de7d31bb",
   "metadata": {},
   "outputs": [
    {
     "name": "stdout",
     "output_type": "stream",
     "text": [
      "In here\n",
      "/Users/renitasequeira/Desktop/Python/LLM - Detect AI generated text/input/.DS_Store\n",
      "/Users/renitasequeira/Desktop/Python/LLM - Detect AI generated text/input/train_prompts.csv\n",
      "/Users/renitasequeira/Desktop/Python/LLM - Detect AI generated text/input/test_essays.csv\n",
      "/Users/renitasequeira/Desktop/Python/LLM - Detect AI generated text/input/train_essays.csv\n",
      "/Users/renitasequeira/Desktop/Python/LLM - Detect AI generated text/input/sample_submission.csv\n"
     ]
    }
   ],
   "source": [
    "import os\n",
    "for dirname, _, filenames in os.walk('/Users/renitasequeira/Desktop/Python/LLM - Detect AI generated text/input'):\n",
    "    print(\"In here\")\n",
    "    for filename in filenames:\n",
    "        print(os.path.join(dirname, filename))"
   ]
  },
  {
   "cell_type": "markdown",
   "id": "62c8d6ee",
   "metadata": {},
   "source": [
    "## Reading the input files"
   ]
  },
  {
   "cell_type": "code",
   "execution_count": 222,
   "id": "e42d3e5c",
   "metadata": {},
   "outputs": [],
   "source": [
    "df_train= pd.read_csv(\"./input/train_essays.csv\")"
   ]
  },
  {
   "cell_type": "code",
   "execution_count": 75,
   "id": "023732a8",
   "metadata": {},
   "outputs": [],
   "source": [
    "test_data = pd.read_csv(\"./input/test_essays.csv\")"
   ]
  },
  {
   "cell_type": "code",
   "execution_count": 76,
   "id": "991223a8",
   "metadata": {},
   "outputs": [
    {
     "data": {
      "text/html": [
       "<div>\n",
       "<style scoped>\n",
       "    .dataframe tbody tr th:only-of-type {\n",
       "        vertical-align: middle;\n",
       "    }\n",
       "\n",
       "    .dataframe tbody tr th {\n",
       "        vertical-align: top;\n",
       "    }\n",
       "\n",
       "    .dataframe thead th {\n",
       "        text-align: right;\n",
       "    }\n",
       "</style>\n",
       "<table border=\"1\" class=\"dataframe\">\n",
       "  <thead>\n",
       "    <tr style=\"text-align: right;\">\n",
       "      <th></th>\n",
       "      <th>id</th>\n",
       "      <th>prompt_id</th>\n",
       "      <th>text</th>\n",
       "      <th>generated</th>\n",
       "    </tr>\n",
       "  </thead>\n",
       "  <tbody>\n",
       "    <tr>\n",
       "      <th>0</th>\n",
       "      <td>0059830c</td>\n",
       "      <td>0</td>\n",
       "      <td>Cars. Cars have been around since they became ...</td>\n",
       "      <td>0</td>\n",
       "    </tr>\n",
       "    <tr>\n",
       "      <th>1</th>\n",
       "      <td>005db917</td>\n",
       "      <td>0</td>\n",
       "      <td>Transportation is a large necessity in most co...</td>\n",
       "      <td>0</td>\n",
       "    </tr>\n",
       "    <tr>\n",
       "      <th>2</th>\n",
       "      <td>008f63e3</td>\n",
       "      <td>0</td>\n",
       "      <td>\"America's love affair with it's vehicles seem...</td>\n",
       "      <td>0</td>\n",
       "    </tr>\n",
       "    <tr>\n",
       "      <th>3</th>\n",
       "      <td>00940276</td>\n",
       "      <td>0</td>\n",
       "      <td>How often do you ride in a car? Do you drive a...</td>\n",
       "      <td>0</td>\n",
       "    </tr>\n",
       "    <tr>\n",
       "      <th>4</th>\n",
       "      <td>00c39458</td>\n",
       "      <td>0</td>\n",
       "      <td>Cars are a wonderful thing. They are perhaps o...</td>\n",
       "      <td>0</td>\n",
       "    </tr>\n",
       "  </tbody>\n",
       "</table>\n",
       "</div>"
      ],
      "text/plain": [
       "         id  prompt_id                                               text  \\\n",
       "0  0059830c          0  Cars. Cars have been around since they became ...   \n",
       "1  005db917          0  Transportation is a large necessity in most co...   \n",
       "2  008f63e3          0  \"America's love affair with it's vehicles seem...   \n",
       "3  00940276          0  How often do you ride in a car? Do you drive a...   \n",
       "4  00c39458          0  Cars are a wonderful thing. They are perhaps o...   \n",
       "\n",
       "   generated  \n",
       "0          0  \n",
       "1          0  \n",
       "2          0  \n",
       "3          0  \n",
       "4          0  "
      ]
     },
     "execution_count": 76,
     "metadata": {},
     "output_type": "execute_result"
    }
   ],
   "source": [
    "train_data.head()"
   ]
  },
  {
   "cell_type": "code",
   "execution_count": 77,
   "id": "998dec2f",
   "metadata": {},
   "outputs": [
    {
     "data": {
      "text/html": [
       "<div>\n",
       "<style scoped>\n",
       "    .dataframe tbody tr th:only-of-type {\n",
       "        vertical-align: middle;\n",
       "    }\n",
       "\n",
       "    .dataframe tbody tr th {\n",
       "        vertical-align: top;\n",
       "    }\n",
       "\n",
       "    .dataframe thead th {\n",
       "        text-align: right;\n",
       "    }\n",
       "</style>\n",
       "<table border=\"1\" class=\"dataframe\">\n",
       "  <thead>\n",
       "    <tr style=\"text-align: right;\">\n",
       "      <th></th>\n",
       "      <th>id</th>\n",
       "      <th>prompt_id</th>\n",
       "      <th>text</th>\n",
       "    </tr>\n",
       "  </thead>\n",
       "  <tbody>\n",
       "    <tr>\n",
       "      <th>0</th>\n",
       "      <td>0000aaaa</td>\n",
       "      <td>2</td>\n",
       "      <td>Aaa bbb ccc.</td>\n",
       "    </tr>\n",
       "    <tr>\n",
       "      <th>1</th>\n",
       "      <td>1111bbbb</td>\n",
       "      <td>3</td>\n",
       "      <td>Bbb ccc ddd.</td>\n",
       "    </tr>\n",
       "    <tr>\n",
       "      <th>2</th>\n",
       "      <td>2222cccc</td>\n",
       "      <td>4</td>\n",
       "      <td>CCC ddd eee.</td>\n",
       "    </tr>\n",
       "  </tbody>\n",
       "</table>\n",
       "</div>"
      ],
      "text/plain": [
       "         id  prompt_id          text\n",
       "0  0000aaaa          2  Aaa bbb ccc.\n",
       "1  1111bbbb          3  Bbb ccc ddd.\n",
       "2  2222cccc          4  CCC ddd eee."
      ]
     },
     "execution_count": 77,
     "metadata": {},
     "output_type": "execute_result"
    }
   ],
   "source": [
    "test_data.head()"
   ]
  },
  {
   "cell_type": "code",
   "execution_count": 78,
   "id": "4629aa8f",
   "metadata": {},
   "outputs": [],
   "source": [
    "prompt_data = pd.read_csv(\"./input/train_prompts.csv\")"
   ]
  },
  {
   "cell_type": "code",
   "execution_count": 12,
   "id": "1d2335af",
   "metadata": {},
   "outputs": [
    {
     "data": {
      "text/html": [
       "<div>\n",
       "<style scoped>\n",
       "    .dataframe tbody tr th:only-of-type {\n",
       "        vertical-align: middle;\n",
       "    }\n",
       "\n",
       "    .dataframe tbody tr th {\n",
       "        vertical-align: top;\n",
       "    }\n",
       "\n",
       "    .dataframe thead th {\n",
       "        text-align: right;\n",
       "    }\n",
       "</style>\n",
       "<table border=\"1\" class=\"dataframe\">\n",
       "  <thead>\n",
       "    <tr style=\"text-align: right;\">\n",
       "      <th></th>\n",
       "      <th>prompt_id</th>\n",
       "      <th>prompt_name</th>\n",
       "      <th>instructions</th>\n",
       "      <th>source_text</th>\n",
       "    </tr>\n",
       "  </thead>\n",
       "  <tbody>\n",
       "    <tr>\n",
       "      <th>0</th>\n",
       "      <td>0</td>\n",
       "      <td>Car-free cities</td>\n",
       "      <td>Write an explanatory essay to inform fellow ci...</td>\n",
       "      <td># In German Suburb, Life Goes On Without Cars ...</td>\n",
       "    </tr>\n",
       "    <tr>\n",
       "      <th>1</th>\n",
       "      <td>1</td>\n",
       "      <td>Does the electoral college work?</td>\n",
       "      <td>Write a letter to your state senator in which ...</td>\n",
       "      <td># What Is the Electoral College? by the Office...</td>\n",
       "    </tr>\n",
       "  </tbody>\n",
       "</table>\n",
       "</div>"
      ],
      "text/plain": [
       "   prompt_id                       prompt_name  \\\n",
       "0          0                   Car-free cities   \n",
       "1          1  Does the electoral college work?   \n",
       "\n",
       "                                        instructions  \\\n",
       "0  Write an explanatory essay to inform fellow ci...   \n",
       "1  Write a letter to your state senator in which ...   \n",
       "\n",
       "                                         source_text  \n",
       "0  # In German Suburb, Life Goes On Without Cars ...  \n",
       "1  # What Is the Electoral College? by the Office...  "
      ]
     },
     "execution_count": 12,
     "metadata": {},
     "output_type": "execute_result"
    }
   ],
   "source": [
    "prompt_data.head()"
   ]
  },
  {
   "cell_type": "code",
   "execution_count": 14,
   "id": "eb4a8eba",
   "metadata": {},
   "outputs": [
    {
     "name": "stdout",
     "output_type": "stream",
     "text": [
      "   prompt_id                       prompt_name  \\\n",
      "0          0                   Car-free cities   \n",
      "1          1  Does the electoral college work?   \n",
      "\n",
      "                                        instructions  \\\n",
      "0  Write an explanatory essay to inform fellow ci...   \n",
      "1  Write a letter to your state senator in which ...   \n",
      "\n",
      "                                         source_text  \n",
      "0  # In German Suburb, Life Goes On Without Cars ...  \n",
      "1  # What Is the Electoral College? by the Office...  \n"
     ]
    }
   ],
   "source": [
    "print(prompt_data)"
   ]
  },
  {
   "cell_type": "code",
   "execution_count": 13,
   "id": "d1dffa28",
   "metadata": {
    "scrolled": true
   },
   "outputs": [
    {
     "name": "stdout",
     "output_type": "stream",
     "text": [
      "prompt_id,prompt_name,instructions,source_text\n",
      "0,Car-free cities,Write an explanatory essay to inform fellow citizens about the advantages of limiting car usage. Your essay must be based on ideas and information that can be found in the passage set. Manage your time carefully so that you can read the passages; plan your response; write your response; and revise and edit your response. Be sure to use evidence from multiple sources; and avoid overly relying on one source. Your response should be in the form of a multiparagraph essay. Write your essay in the space provided.,\"# In German Suburb, Life Goes On Without Cars by Elisabeth Rosenthal\n",
      "\n",
      "1 VAUBAN, Germany—Residents of this upscale community are suburban pioneers, going where few soccer moms or commuting executives have ever gone before: they have given up their cars.\n",
      "\n",
      "2 Street parking, driveways and home garages are generally forbidden in this experimental new district on the outskirts of Freiburg, near the French and Swiss borders. Vauban’s streets are completely “car-free”—except the main thoroughfare, where the tram to downtown Freiburg runs, and a few streets on one edge of the community. Car ownership is allowed, but there are only two places to park—large garages at the edge of the development, where a car-owner buys a space, for $40,000, along with a home.\n",
      "\n",
      "3 As a result, 70 percent of Vauban’s families do not own cars, and 57 percent sold a car to move here. “When I had a car I was always tense. I’m much happier this way,” said Heidrun Walter, a media trainer and mother of two, as she walked verdant streets where the swish of bicycles and the chatter of wandering children drown out the occasional distant motor.\n",
      "\n",
      "4 Vauban, completed in 2006, is an example of a growing trend in Europe, the United States and elsewhere to separate suburban life from auto use, as a component of a movement called “smart planning.”\n",
      "\n",
      "5 Automobiles are the linchpin of suburbs, where middle-class families from Chicago to Shanghai tend to make their homes. And that, experts say, is a huge impediment to current efforts to drastically reduce greenhouse gas emissions from tailpipes . . . . Passenger cars are responsible for 12 percent of greenhouse gas emissions in Europe . . . and up to 50 percent in some car-intensive areas in the United States.\n",
      "\n",
      "6 While there have been efforts in the past two decades to make cities denser, and better for walking, planners are now taking the concept to the suburbs . . . . Vauban, home to 5,500 residents within a rectangular square mile, may be the most advanced experiment in low-car suburban life. But its basic precepts are being adopted around the world in attempts to make suburbs more compact and more accessible to public transportation, with less space for parking. In this new approach, stores are placed a walk away, on a main street, rather than in malls along some distant highway.\n",
      "\n",
      "7 “All of our development since World War II has been centered on the car, and that will have to change,” said David Goldberg, an official of Transportation for America, a fast-growing coalition of hundreds of groups in the United States . . . who are promoting new communities that are less dependent on cars. Mr. Goldberg added: “How much you drive is as important as whether you have a hybrid.”\n",
      "\n",
      "8 Levittown and Scarsdale, New York suburbs with spread-out homes and private garages, were the dream towns of the 1950s and still exert a strong appeal. But some new suburbs may well look more Vauban-like, not only in developed countries but also in the developing world, where emissions from an increasing number of private cars owned by the burgeoning middle class are choking cities.\n",
      "\n",
      "9 In the United States, the Environmental Protection Agency is promoting “car reduced” communities, and legislators are starting to act, if cautiously. Many experts expect public transport serving suburbs to play a much larger role in a new six-year federal transportation bill to be approved this year, Mr. Goldberg said. In previous bills, 80 percent of appropriations have by law gone to highways and only 20 percent to other transport. \n",
      "\n",
      "Excerpt from “In German Suburb, Life Goes On Without Cars” by Elisabeth Rosenthal, from the New York Times. Copyright © 2009 by the New York Times Company. Reprinted by permission of the New York Times Company via Copyright Clearance Center.\n",
      "\n",
      "# Paris bans driving due to smog by Robert Duffer\n",
      "\n",
      "10 After days of near-record pollution, Paris enforced a partial driving ban to clear the air of the global city.\n",
      "\n",
      "11 On Monday motorists with even-numbered license plates were ordered to leave their cars at home or suffer a 22-euro fine ($31). The same would apply to odd-numbered plates the following day.\n",
      "\n",
      "12 Almost 4,000 drivers were fined, according to Reuters1 . . . [Twenty-seven] people had their cars impounded for their reaction to the fine.\n",
      "\n",
      "13 That’s easier to imagine than a car-free Champs-Elysees.2\n",
      "\n",
      "14 Congestion 3 was down 60 percent in the capital of France, after five-days of intensifying smog . . . [The smog] rivaled Beijing, China, which is known as one of the most polluted cities in the world.\n",
      "\n",
      "15 Cold nights and warm days caused the warmer layer of air to trap car emissions.\n",
      "\n",
      "16 Diesel fuel was blamed, since France has . . . [a] tax policy that favors diesel over gasoline. Diesels make up 67 percent of vehicles in France, compared to a 53.3 percent average of diesel engines in the rest of Western Europe, according to Reuters.\n",
      "\n",
      "17 Paris typically has more smog than other European capitals . . . [Last] week Paris had 147 micrograms of particulate matter (PM) per cubic meter compared with 114 in Brussels and 79.7 in London, Reuters found.\n",
      "\n",
      "18 Delivery companies complained of lost revenue, while exceptions were made for plug-in cars, hybrids, and cars carrying three or more passengers. Public transit was free of charge from Friday to Monday, according to the BBC.\n",
      "\n",
      "19 The smog cleared enough Monday for the ruling French party to rescind the ban for oddnumbered plates on Tuesday. 1\n",
      "\n",
      "Excerpt from “Paris bans driving due to smog” by Robert Duffer, from the Chicago Tribune. Copyright © 2014 by the Chicago Tribune. Reprinted by permission of the Chicago Tribune via Copyright Clearance Center.\n",
      "\n",
      "# Car-free day is spinning into a big hit in Bogota by Andrew Selsky\n",
      "\n",
      "BOGOTA, Colombia—In a program that’s set to spread to other countries, millions of Colombians hiked, biked, skated or took buses to work during a car-free day yesterday, leaving the streets of this capital city eerily devoid of traffic jams.\n",
      "\n",
      "21 It was the third straight year cars have been banned with only buses and taxis permitted for the Day Without Cars in this capital city of 7 million. The goal is to promote alternative transportation and reduce smog. Violators faced $25 fines.\n",
      "\n",
      "22 The turnout was large, despite gray clouds that dumped occasional rain showers on Bogota.\n",
      "\n",
      "23 “The rain hasn’t stopped people from participating,” said Bogota Mayor Antanas Mockus . . . .\n",
      "\n",
      "24 “It’s a good opportunity to take away stress and lower air pollution,” said businessman Carlos Arturo Plaza as he rode a two-seat bicycle with his wife.\n",
      "\n",
      "25 For the first time, two other Colombian cities, Cali and Valledupar, joined the event.\n",
      "\n",
      "26 Municipal authorities from other countries came to Bogota to see the event and were enthusiastic. “These people are generating a revolutionary change, and this is crossing borders,” said Enrique Riera, the mayor of Asunción, Paraguay. . . .\n",
      "\n",
      "27 The day without cars is part of an improvement campaign that began in Bogota in the mid1990s. It has seen the construction of 118 miles of bicycle paths, the most of any Latin American city, according to Mockus, the city’s mayor.\n",
      "\n",
      "28 Parks and sports centers also have bloomed throughout the city; uneven, pitted sidewalks have been replaced by broad, smooth sidewalks; rush-hour restrictions have dramatically cut traffic; and new restaurants and upscale shopping districts have cropped up.\n",
      "\n",
      "Excerpt from “Car-free day is spinning into a big hit in Bogota” by Andrew Selsky, from the Seattle Times. Copyright © 2002 by the Seattle Times Company. Reprinted by permission of the Seattle Times Company via Copyright Clearance Center.\n",
      "\n",
      "# The End of Car Culture by Elisabeth Rosenthal\n",
      "\n",
      "29 President Obama’s ambitious goals to curb the United States’ greenhouse gas emissions, unveiled last week, will get a fortuitous assist from an incipient1 shift in American behavior: recent studies suggest that Americans are buying fewer cars, driving less and getting fewer licenses as each year goes by.\n",
      "\n",
      "30 That has left researchers pondering a fundamental question: Has America passed peak driving?\n",
      "\n",
      "31 The United States, with its broad expanses and suburban ideals, had long been one of the world’s prime car cultures. It is the birthplace of the Model T; the home of Detroit; the place where Wilson Pickett immortalized “Mustang Sally” . . . .\n",
      "\n",
      "32 But America’s love affair with its vehicles seems to be cooling. When adjusted for population growth, the number of miles driven in the United States peaked in 2005 and dropped steadily thereafter, according to an analysis by Doug Short of Advisor Perspectives, an investment research company. As of April 2013, the number of miles driven per person was nearly 9 percent below the peak and equal to where the country was in January 1995. Part of the explanation certainly lies in the recession, because cash-strapped Americans could not afford new cars, and the unemployed weren’t going to work anyway. But by many measures the decrease in driving preceded the downturn and appears to be persisting now that recovery is under way. The next few years will be telling.\n",
      "\n",
      "33 “What most intrigues me is that rates of car ownership per household and per person started to come down two to three years before the downturn,” said Michael Sivak, who studies the trend and who is a research professor at the University of Michigan’s Transportation Research Institute. “I think that means something more fundamental is going on.”\n",
      "\n",
      "34 If the pattern persists—and many sociologists believe it will—it will have beneficial implications for carbon emissions and the environment, since transportation is the second largest source of America’s emissions, just behind power plants. But it could have negative implications for the car industry. Indeed, companies like Ford and Mercedes are already rebranding themselves “mobility” companies with a broader product range beyond the personal vehicle.\n",
      "\n",
      "35 “Different things are converging which suggest that we are witnessing a long-term cultural shift,” said Mimi Sheller, a sociology professor at Drexel University and director of its Mobilities Research and Policy Center. She cites various factors: the Internet makes telecommuting possible and allows people to feel more connected without driving to meet friends. The renewal of center cities has made the suburbs less appealing and has drawn empty nesters back in. Likewise the rise in cellphones and car-pooling apps has facilitated more flexible commuting arrangements, including the evolution of shared van services for getting to work.\n",
      "\n",
      "36 With all these changes, people who stopped car commuting as a result of the recession may find less reason to resume the habit. . . .\n",
      "\n",
      "37 New York’s new bike-sharing program and its skyrocketing bridge and tunnel tolls reflect those new priorities, as do a proliferation of car-sharing programs across the nation.\n",
      "\n",
      "38 Demographic shifts in the driving population suggest that the trend may accelerate. There has been a large drop in the percentage of 16- to 39-year-olds getting a license, while older people are likely to retain their licenses as they age, Mr. Sivak’s research has found.\n",
      "\n",
      "39 He and I have similar observations about our children. Mine (19 and 21) have not bothered to get a driver’s license, even though they both live in places where one could come in handy. They are interested, but it’s not a priority. They organize their summer jobs and social life around where they can walk or take public transportation or car-pool with friends.\n",
      "\n",
      "40 Mr. Sivak’s son lives in San Francisco and has a car but takes Bay Area Rapid Transit, when he can, even though that often takes longer than driving. “When I was in my 20s and 30s,” Mr. Sivak said, “I was curious about what kind of car people drove, but young people don’t really care. A car is just a means of getting from A to B when BART doesn’t work.”\n",
      "\n",
      "41 A study last year found that driving by young people decreased 23 percent between 2001 and 2009. . . .\n",
      "\n",
      "42 Whether members of the millennial generation will start buying more cars once they have kids to take to soccer practice and school plays remains an open question. But such projections have important business implications, even if car buyers are merely older or buying fewer cars in a lifetime rather than rejecting car culture outright.\n",
      "\n",
      "43 At the Mobile World Congress last year in Barcelona, Spain, Bill Ford, executive chairman of the Ford Motor Company, laid out a business plan for a world in which personal vehicle ownership is impractical or undesirable. He proposed partnering with the telecommunications industry to create cities in which “pedestrian, bicycle, private cars, commercial and public transportation traffic are woven into a connected network to save time, conserve resources, lower emissions and improve safety.”\n",
      "\n",
      "Excerpt from “The End of Car Culture” by Elisabeth Rosenthal, from the New York Times. Copyright © 2013 by the New York Times Company. Reprinted by permission of the New York Times Company via Copyright Clearance Center.\n",
      "\"\n",
      "1,Does the electoral college work?,Write a letter to your state senator in which you argue in favor of keeping the Electoral College or changing to election by popular vote for the president of the United States. Use the information from the texts in your essay. Manage your time carefully so that you can read the passages; plan your response; write your response; and revise and edit your response. Be sure to include a claim; address counterclaims; use evidence from multiple sources; and avoid overly relying on one source. Your response should be in the form of a multiparagraph essay. Write your response in the space provided.,\"# What Is the Electoral College? by the Office of the Federal Register\n",
      "\n",
      "1 The Electoral College is a process, not a place. The founding fathers established it in the Constitution as a compromise between election of the President by a vote in Congress and election of the President by a popular vote of qualified citizens.\n",
      "\n",
      "2 The Electoral College process consists of the selection of the electors, the meeting of the electors where they vote for President and Vice President, and the counting of the electoral votes by Congress.\n",
      "\n",
      "3 The Electoral College consists of 538 electors. A majority of 270 electoral votes is required to elect the President. Your state’s entitled allotment of electors equals the number of members in its Congressional delegation: one for each member in the House of Representatives plus two for your Senators. . . .\n",
      "\n",
      "4 Under the 23rd Amendment of the Constitution, the District of Columbia is allocated 3 electors and treated like a state for purposes of the Electoral College. For this reason, in the following discussion, the word “state” also refers to the District of Columbia.\n",
      "\n",
      "5 Each candidate running for President in your state has his or her own group of electors. The electors are generally chosen by the candidate’s political party, but state laws vary on how the electors are selected and what their responsibilities are. . . .\n",
      "\n",
      "6 The presidential election is held every four years on the Tuesday after the first Monday in November. You help choose your state’s electors when you vote for President because when you vote for your candidate you are actually voting for your candidate’s electors.\n",
      "\n",
      "7 Most states have a “winner-take-all” system that awards all electors to the winning presidential candidate. However, Maine and Nebraska each have a variation of “proportional representation.” . . .\n",
      "\n",
      "8 After the presidential election, your governor prepares a “Certificate of Ascertainment” listing all of the candidates who ran for President in your state along with the names of their respective electors. The Certificate of Ascertainment also declares the winning presidential candidate in your state and shows which electors will represent your state at the meeting of the electors in December of the election year. Your state’s Certificates of Ascertainments are sent to the Congress and the National Archives as part of the official records of the presidential election.\n",
      "\n",
      "# The Indefensible Electoral College: Why even the best-laid defenses of the system are wrong by Bradford Plumer\n",
      "\n",
      "9 What have Richard Nixon, Jimmy Carter, Bob Dole, the U.S. Chamber of Commerce, and the AFL-CIO all, in their time, agreed on? Answer: Abolishing the electoral college! They’re not alone; according to a Gallup poll in 2000, taken shortly after Al Gore—thanks to the quirks of the electoral college—won the popular vote but lost the presidency,1 over 60 percent of voters would prefer a direct election to the kind we have now. This year voters can expect another close election in which the popular vote winner could again lose the presidency. And yet, the electoral college still has its defenders. What gives? . . . What’s wrong with the electoral college\n",
      "\n",
      "10 Under the electoral college system, voters vote not for the president, but for a slate of electors, who in turn elect the president. If you lived in Texas, for instance, and wanted to vote for John Kerry, you’d vote for a slate of 34 Democratic electors pledged to Kerry. On the offchance that those electors won the statewide election, they would go to Congress and Kerry would get 34 electoral votes. Who are the electors? They can be anyone not holding public office. Who picks the electors in the first place? It depends on the state. Sometimes state conventions, sometimes the state party’s central committee, sometimes the presidential candidates themselves. Can voters control whom their electors vote for? Not always. Do voters sometimes get confused about the electors and vote for the wrong candidate? Sometimes.\n",
      "\n",
      "11 The single best argument against the electoral college is what we might call the disaster factor. The American people should consider themselves lucky that the 2000 fiasco was the biggest election crisis in a century; the system allows for much worse. Consider that state legislatures are technically responsible for picking electors, and that those electors could always defy the will of the people. Back in 1960, segregationists in the Louisiana legislature nearly succeeded in replacing the Democratic electors with new electors who would oppose John F. Kennedy. (So that a popular vote for Kennedy would not have actually gone to Kennedy.) In the same vein, “faithless” electors have occasionally refused to vote for their party’s candidate and cast a deciding vote for whomever they please. . . . Oh, and what if a state sends two slates of electors to Congress? It happened in Hawaii in 1960. Luckily, Vice President Richard Nixon, who was presiding over the Senate, validated only his opponent’s electors, but he made sure to do so “without establishing a precedent.” What if it happened again?\n",
      "\n",
      "12 Perhaps most worrying is the prospect of a tie in the electoral vote. In that case, the election would be thrown to the House of Representatives, where state delegations vote on the president. (The Senate would choose the vice-president.) Because each state casts only one vote, the single representative from Wyoming, representing 500,000 voters, would have as much say as the 55 representatives from California, who represent 35 million voters. Given that many voters vote one party for president and another for Congress, the House’s selection can hardly be expected to reflect the will of the people. And if an electoral tie seems unlikely, consider this: In 1968, a shift of just 41,971 votes would have deadlocked the election; In 1976, a tie would have occurred if a mere 5,559 voters in Ohio and 3,687 voters in Hawaii had voted the other way. The election is only a few swing voters away from catastrophe.\n",
      "\n",
      "13 At the most basic level, the electoral college is unfair to voters. Because of the winner-takeall system in each state, candidates don't spend time in states they know they have no chance of winning, focusing only on the tight races in the “swing” states. During the 2000 campaign, seventeen states didn’t see the candidates at all, including Rhode Island and South Carolina, and voters in 25 of the largest media markets didn’t get to see a single campaign ad. If anyone has a good argument for putting the fate of the presidency in the hands of a few swing voters in Ohio, they have yet to make it. . . .\n",
      "\n",
      "14 It’s official: The electoral college is unfair, outdated, and irrational. The best arguments in favor of it are mostly assertions without much basis in reality. And the arguments against direct elections are spurious at best. It’s hard to say this, but Bob Dole was right: Abolish the electoral college!\n",
      "\n",
      "# In Defense of the Electoral College: Five reasons to keep our despised method of choosing the President by Judge Richard A. Posner\n",
      "\n",
      "15 The Electoral College is widely regarded as an anachronism,1 a non-democratic method of selecting a president that ought to be overruled by declaring the candidate who receives the most popular votes the winner. The advocates of this position are correct in arguing that the Electoral College method is not democratic in a modern sense . . . it is the electors who elect the president, not the people. When you vote for a presidential candidate you’re actually voting for a slate of electors.\n",
      "\n",
      "16 But each party selects a slate of electors trusted to vote for the party’s nominee (and that trust is rarely betrayed) . . . however, it is entirely possible that the winner of the electoral vote will not win the national popular vote. Yet that has happened very rarely. It happened in 2000, when Gore had more popular votes than Bush yet fewer electoral votes, but that was the first time since 1888.\n",
      "\n",
      "17 There are five reasons for retaining the Electoral College despite its lack of democratic pedigree;2 all are practical reasons, not liberal or conservative3 reasons.\n",
      "\n",
      "## 1) Certainty of Outcome\n",
      "\n",
      "18 A dispute over the outcome of an Electoral College vote is possible—--it happened in 2000--—but it’s less likely than a dispute over the popular vote. The reason is that the winning candidate’s share of the Electoral College invariably exceeds his share of the popular vote. In 2012’s election, for example, Obama4 received 61.7 percent of the electoral vote compared to only 51.3 percent of the popular votes cast for him and Romney.5 . . . Because almost all states award electoral votes on a winner-take-all basis, even a very slight plurality6 in a state creates a landslide electoral-vote victory in that state. A tie in the nationwide electoral vote is possible because the total number of votes—--538—--is an even number, but it is highly unlikely. . . .\n",
      "\n",
      "## 2) Everyone’s President\n",
      "\n",
      "19 The Electoral College requires a presidential candidate to have trans-regional appeal. No region (South, Northeast, etc.) has enough electoral votes to elect a president. So a solid regional favorite, such as Romney was in the South, has no incentive to campaign heavily in those states, for he gains no electoral votes by increasing his plurality in states that he knows he will win. This is a desirable result because a candidate with only regional appeal is unlikely to be a successful president. The residents of the other regions are likely to feel disenfranchised—to feel that their votes do not count, that the new president will have no regard for their interests, that he really isn’t their president.\n",
      "\n",
      "## 3) Swing States\n",
      "\n",
      "20 The winner-take-all method of awarding electoral votes induces the candidates—as we saw in 2012’s election—to focus their campaign efforts on the toss-up states . . . . Voters in toss-up states are more likely to pay close attention to the campaign—to really listen to the competing candidates—knowing that they are going to decide the election. They are likely to be the most thoughtful voters, on average (and for the further reason that they will have received the most information and attention from the candidates), and the most thoughtful voters should be the ones to decide the election.\n",
      "\n",
      "## 4) Big States\n",
      "\n",
      "21 The Electoral College restores some of the weight in the political balance that large states (by population) lose by virtue of the mal-apportionment of the Senate decreed in the Constitution. . . . The popular vote was very close in Florida in 2012; nevertheless Obama, who won that vote, got 29 electoral votes. A victory by the same margin in Wyoming would net the winner only 3 electoral votes. So, other things being equal, a large state gets more attention from presidential candidates in a campaign than a small state does. . . .\n",
      "\n",
      "## 5) Avoid Run-Off Elections\n",
      "\n",
      "22 The Electoral College avoids the problem of elections in which no candidate receives a majority of the votes cast. For example, Nixon in 1968 and Clinton in 1992 both had only a 43 percent plurality of the popular votes, while winning a majority in the Electoral College (301 and 370 electoral votes, respectively). There is pressure for run-off elections when no candidate wins a majority of the votes cast; that pressure, which would greatly complicate the presidential election process, is reduced by the Electoral College, which invariably produces a clear winner. . . .\n",
      "\n",
      "23 It can be argued that the Electoral College method of selecting the president may turn off potential voters for a candidate who has no hope of carrying their state—Democrats in Texas, for example, or Republicans in California. Knowing their vote will have no effect, they have less incentive to pay attention to the campaign than they would have if the president were picked by popular vote . . . . But of course no voter’s vote swings a national election, and in spite of that, about one-half the eligible American population did vote in 2012’s election. Voters in presidential elections are people who want to express a political preference rather than people who think that a single vote may decide an election. . . .\n",
      "\"\n"
     ]
    }
   ],
   "source": [
    "import csv\n",
    "with open('./input/train_prompts.csv', newline='') as csvfile:\n",
    "    spamreader = csv.reader(csvfile, delimiter=' ', quotechar='|')\n",
    "    for row in spamreader:\n",
    "        print(' '.join(row))"
   ]
  },
  {
   "cell_type": "markdown",
   "id": "60d494c0",
   "metadata": {},
   "source": [
    "### Function to add rows to the train_essays.csv file\n",
    "Text is generated on ChatGPT and the prompt_id specifies the prompt on which the essay is written."
   ]
  },
  {
   "cell_type": "code",
   "execution_count": 20,
   "id": "a54f28a6",
   "metadata": {},
   "outputs": [],
   "source": [
    "def add_row_csv(text, prompt_id):\n",
    "    import secrets\n",
    "\n",
    "    random_id = '{:08x}'.format(secrets.randbelow(16**8))\n",
    "    print(random_id)\n",
    "    \n",
    "#     text = \"\"\"\"\"\"\n",
    "    \n",
    "    # Assuming the new data\n",
    "    new_row = {\n",
    "        'id': random_id,\n",
    "        'prompt_id': prompt_id,\n",
    "        'text': text,\n",
    "        'generated': 1\n",
    "    }\n",
    "\n",
    "    # CSV file path\n",
    "    csv_file_path = './input/train_essays.csv'\n",
    "\n",
    "    # Open the file in append mode\n",
    "    with open(csv_file_path, 'a', newline='') as csv_file:\n",
    "        # Create a CSV writer object\n",
    "        csv_writer = csv.DictWriter(csv_file, fieldnames=['id', 'prompt_id', 'text', 'generated'])\n",
    "\n",
    "        # If the file is empty, write the header\n",
    "        if csv_file.tell() == 0:\n",
    "            csv_writer.writeheader()\n",
    "\n",
    "        # Write the new row\n",
    "        csv_writer.writerow(new_row)\n",
    "\n",
    "    print(\"Row added successfully.\")"
   ]
  },
  {
   "cell_type": "code",
   "execution_count": 113,
   "id": "1e782761",
   "metadata": {},
   "outputs": [
    {
     "name": "stdout",
     "output_type": "stream",
     "text": [
      "0638870d\n",
      "Row added successfully.\n"
     ]
    }
   ],
   "source": [
    "add_row_csv(text, 1)"
   ]
  },
  {
   "cell_type": "code",
   "execution_count": 115,
   "id": "0b86a50c",
   "metadata": {},
   "outputs": [
    {
     "name": "stdout",
     "output_type": "stream",
     "text": [
      "fe6a46b2\n",
      "Row added successfully.\n"
     ]
    }
   ],
   "source": [
    "add_row_csv(text, 1)"
   ]
  },
  {
   "cell_type": "markdown",
   "id": "c423ddaa",
   "metadata": {},
   "source": [
    "### Splitting the data into training and devlopment dataset"
   ]
  },
  {
   "cell_type": "code",
   "execution_count": 226,
   "id": "bc2dda5d",
   "metadata": {},
   "outputs": [
    {
     "data": {
      "text/plain": [
       "((1254, 4), (139, 4))"
      ]
     },
     "execution_count": 226,
     "metadata": {},
     "output_type": "execute_result"
    }
   ],
   "source": [
    "train_data = df_train.sample(frac = 0.9, random_state = 41)\n",
    "dev_data = df_train.drop(train_data.index)\n",
    "train_data.shape, dev_data.shape"
   ]
  },
  {
   "cell_type": "code",
   "execution_count": 27,
   "id": "5e21f8fb",
   "metadata": {},
   "outputs": [
    {
     "data": {
      "text/html": [
       "<div>\n",
       "<style scoped>\n",
       "    .dataframe tbody tr th:only-of-type {\n",
       "        vertical-align: middle;\n",
       "    }\n",
       "\n",
       "    .dataframe tbody tr th {\n",
       "        vertical-align: top;\n",
       "    }\n",
       "\n",
       "    .dataframe thead th {\n",
       "        text-align: right;\n",
       "    }\n",
       "</style>\n",
       "<table border=\"1\" class=\"dataframe\">\n",
       "  <thead>\n",
       "    <tr style=\"text-align: right;\">\n",
       "      <th></th>\n",
       "      <th>id</th>\n",
       "      <th>prompt_id</th>\n",
       "      <th>text</th>\n",
       "      <th>generated</th>\n",
       "    </tr>\n",
       "  </thead>\n",
       "  <tbody>\n",
       "    <tr>\n",
       "      <th>0</th>\n",
       "      <td>0059830c</td>\n",
       "      <td>0</td>\n",
       "      <td>Cars. Cars have been around since they became ...</td>\n",
       "      <td>0</td>\n",
       "    </tr>\n",
       "    <tr>\n",
       "      <th>1</th>\n",
       "      <td>005db917</td>\n",
       "      <td>0</td>\n",
       "      <td>Transportation is a large necessity in most co...</td>\n",
       "      <td>0</td>\n",
       "    </tr>\n",
       "    <tr>\n",
       "      <th>2</th>\n",
       "      <td>008f63e3</td>\n",
       "      <td>0</td>\n",
       "      <td>\"America's love affair with it's vehicles seem...</td>\n",
       "      <td>0</td>\n",
       "    </tr>\n",
       "    <tr>\n",
       "      <th>3</th>\n",
       "      <td>00940276</td>\n",
       "      <td>0</td>\n",
       "      <td>How often do you ride in a car? Do you drive a...</td>\n",
       "      <td>0</td>\n",
       "    </tr>\n",
       "    <tr>\n",
       "      <th>4</th>\n",
       "      <td>00c39458</td>\n",
       "      <td>0</td>\n",
       "      <td>Cars are a wonderful thing. They are perhaps o...</td>\n",
       "      <td>0</td>\n",
       "    </tr>\n",
       "  </tbody>\n",
       "</table>\n",
       "</div>"
      ],
      "text/plain": [
       "         id  prompt_id                                               text  \\\n",
       "0  0059830c          0  Cars. Cars have been around since they became ...   \n",
       "1  005db917          0  Transportation is a large necessity in most co...   \n",
       "2  008f63e3          0  \"America's love affair with it's vehicles seem...   \n",
       "3  00940276          0  How often do you ride in a car? Do you drive a...   \n",
       "4  00c39458          0  Cars are a wonderful thing. They are perhaps o...   \n",
       "\n",
       "   generated  \n",
       "0          0  \n",
       "1          0  \n",
       "2          0  \n",
       "3          0  \n",
       "4          0  "
      ]
     },
     "execution_count": 27,
     "metadata": {},
     "output_type": "execute_result"
    }
   ],
   "source": [
    "train_data.head()"
   ]
  },
  {
   "cell_type": "markdown",
   "id": "87ec2b27",
   "metadata": {},
   "source": [
    "## Function to build the vocabulary using the nltk kit"
   ]
  },
  {
   "cell_type": "code",
   "execution_count": 130,
   "id": "fac9e4d3",
   "metadata": {},
   "outputs": [],
   "source": [
    "import pandas as pd\n",
    "import re\n",
    "import nltk\n",
    "from nltk.corpus import stopwords\n",
    "from nltk.tokenize import word_tokenize\n",
    "\n",
    "# Need to download them only once\n",
    "# nltk.download('stopwords')\n",
    "# nltk.download('punkt')\n",
    "\n",
    "def build_vocabulary_with_nltk(essays):\n",
    "    all_words = []\n",
    "\n",
    "    for essay in essays:\n",
    "        # Convert to lowercase for case-insensitivity\n",
    "        essay_lower = essay.lower() if isinstance(essay, str) else str(essay)\n",
    "\n",
    "        # Tokenize the essay into words\n",
    "        words = word_tokenize(essay_lower)\n",
    "\n",
    "        # Remove punctuation and numbers\n",
    "        words = [word for word in words if word.isalpha()]\n",
    "\n",
    "        # Remove stop words\n",
    "        stop_words = set(stopwords.words('english'))\n",
    "        words = [word for word in words if word not in stop_words]\n",
    "\n",
    "        all_words.extend(words)\n",
    "\n",
    "    # Remove duplicates to create a set of unique words\n",
    "    unique_words = list(set(all_words))\n",
    "    \n",
    "    # Filter out rare words (occurrence less than five times)\n",
    "    filtered_words = [word for word in unique_words if all_words.count(word) >= 5]\n",
    "\n",
    "    # Sort the words for consistency\n",
    "    filtered_words.sort()\n",
    "\n",
    "    # Reverse index\n",
    "    reverse_index = {word: index for index, word in enumerate(filtered_words)}\n",
    "\n",
    "    return filtered_words, reverse_index\n",
    "\n",
    "\n",
    "# Extract essays from the 'text' column\n",
    "essays_from_dataset = train['text'].tolist()\n",
    "\n",
    "# Build the vocabulary for the essay dataset using nltk\n",
    "vocabulary_nltk_dataset, reverse_index_nltk_dataset = build_vocabulary_with_nltk(essays_from_dataset)\n",
    "\n",
    "# Test\n",
    "# print(\"Vocabulary List (with nltk) for the essay dataset:\", vocabulary_nltk_dataset)\n",
    "# print(\"Reverse Index (with nltk) for the essay dataset:\", reverse_index_nltk_dataset)"
   ]
  },
  {
   "cell_type": "code",
   "execution_count": 131,
   "id": "5c594923",
   "metadata": {},
   "outputs": [
    {
     "data": {
      "text/plain": [
       "4097"
      ]
     },
     "execution_count": 131,
     "metadata": {},
     "output_type": "execute_result"
    }
   ],
   "source": [
    "len(vocabulary_nltk_dataset)"
   ]
  },
  {
   "cell_type": "markdown",
   "id": "5ba009a2",
   "metadata": {},
   "source": [
    "### Function to count the documents containing the words from the vocabulary list"
   ]
  },
  {
   "cell_type": "code",
   "execution_count": 141,
   "id": "e764a512",
   "metadata": {},
   "outputs": [],
   "source": [
    "from collections import Counter\n",
    "\n",
    "def count_documents_containing_words(word_list, documents):\n",
    "    # Initialize a Counter to count the number of documents containing each word\n",
    "    documents_containing_words = Counter()\n",
    "\n",
    "    # Create a set for each word to efficiently check document presence\n",
    "    word_presence = {word: set() for word in word_list}\n",
    "\n",
    "    # Iterate over each document\n",
    "    for doc_index, document in enumerate(documents):\n",
    "        # Tokenize the document into words\n",
    "        words = set(document.split())\n",
    "\n",
    "        # Check and update the presence of each word in the current document\n",
    "        for word in word_list:\n",
    "            if word in words:\n",
    "                word_presence[word].add(doc_index)\n",
    "\n",
    "    # Count the number of documents containing each word\n",
    "    for word, document_indices in word_presence.items():\n",
    "        documents_containing_words[word] = len(document_indices)\n",
    "\n",
    "    return documents_containing_words\n",
    "\n",
    "#word list and the essays\n",
    "word_list = vocabulary_nltk_dataset\n",
    "documents = train['text'].tolist()\n",
    "\n",
    "# Count the number of documents containing each word\n",
    "documents_containing_words_count = count_documents_containing_words(word_list, documents)\n",
    "\n",
    "# Display the result\n",
    "# print(\"Number of Documents Containing Each Word:\")\n",
    "# print(documents_containing_words_count)"
   ]
  },
  {
   "cell_type": "markdown",
   "id": "906a8cdd",
   "metadata": {},
   "source": [
    "### Find the positive docs(LLM docs) count containing the words from the vocabulary list."
   ]
  },
  {
   "cell_type": "code",
   "execution_count": 138,
   "id": "68ad9e3e",
   "metadata": {},
   "outputs": [],
   "source": [
    "LLM_documents = train.loc[train.generated == 1]\n",
    "#print(LLM_documents)\n"
   ]
  },
  {
   "cell_type": "code",
   "execution_count": 142,
   "id": "44c0354e",
   "metadata": {},
   "outputs": [],
   "source": [
    "def count_LLM_documents_containing_words(word_list, documents):\n",
    "    # Initialize a Counter to count the number of documents containing each word\n",
    "    documents_containing_words = Counter()\n",
    "\n",
    "    # Create a set for each word to efficiently check document presence\n",
    "    word_presence = {word: set() for word in word_list}\n",
    "\n",
    "    # Iterate over each document\n",
    "    for doc_index, document in enumerate(documents):\n",
    "        # Tokenize the document into words\n",
    "        words = set(document.split())\n",
    "\n",
    "        # Check and update the presence of each word in the current document\n",
    "        for word in word_list:\n",
    "            if word in words:\n",
    "                word_presence[word].add(doc_index)\n",
    "\n",
    "    # Count the number of documents containing each word\n",
    "    for word, document_indices in word_presence.items():\n",
    "        documents_containing_words[word] = len(document_indices)\n",
    "\n",
    "    return documents_containing_words\n",
    "\n",
    "#word list and the essays\n",
    "word_list = vocabulary_nltk_dataset\n",
    "documents = LLM_documents['text'].tolist()\n",
    "\n",
    "# Count the number of documents containing each word\n",
    "pos_documents_containing_words_count = count_documents_containing_words(word_list, documents)\n",
    "\n",
    "# Display the result\n",
    "# print(\"Number of Documents Containing Each Word:\")\n",
    "# print(documents_containing_words_count)"
   ]
  },
  {
   "cell_type": "markdown",
   "id": "1d4ea015",
   "metadata": {},
   "source": [
    "### Probability of the occurrence of the words in the vocabulary list\n",
    "P[“the”] = num of documents containing ‘the’ / num of all documents\n"
   ]
  },
  {
   "cell_type": "code",
   "execution_count": 154,
   "id": "6a4b0b33",
   "metadata": {},
   "outputs": [
    {
     "name": "stdout",
     "output_type": "stream",
     "text": [
      "Probability of the occurrence for each word:\n",
      "{'aa': 0.001594896331738437, 'abide': 0.004784688995215311, 'ability': 0.027910685805422646, 'able': 0.21212121212121213, 'abolish': 0.07017543859649122, 'abolished': 0.05502392344497608, 'abolishing': 0.02073365231259968, 'abolishment': 0.003987240829346092, 'abouto': 0.0023923444976076554, 'absence': 0.003987240829346092, 'absolute': 0.003987240829346092, 'absolutely': 0.01594896331738437, 'absurd': 0.005582137161084529, 'abundance': 0.012759170653907496, 'abundant': 0.007974481658692184, 'accelerate': 0.001594896331738437, 'accept': 0.004784688995215311, 'acceptable': 0.0023923444976076554, 'accepted': 0.007974481658692184, 'access': 0.01594896331738437, 'accessibility': 0.005582137161084529, 'accessible': 0.03110047846889952, 'accident': 0.025518341307814992, 'accidents': 0.07177033492822966, 'accommodate': 0.003987240829346092, 'accomplish': 0.008771929824561403, 'according': 0.13476874003189793, 'account': 0.01674641148325359, 'accounts': 0.004784688995215311, 'accuracy': 0.003189792663476874, 'accurate': 0.019936204146730464, 'accurately': 0.007974481658692184, 'accustomed': 0.004784688995215311, 'achieve': 0.008771929824561403, 'achieved': 0.003987240829346092, 'achieving': 0.004784688995215311, 'acid': 0.005582137161084529, 'acknowledge': 0.011164274322169059, 'across': 0.06698564593301436, 'act': 0.03189792663476874, 'action': 0.03907496012759171, 'actions': 0.019138755980861243, 'active': 0.02711323763955343, 'actively': 0.007177033492822967, 'activities': 0.012759170653907496, 'activity': 0.01594896331738437, 'actual': 0.03269537480063796, 'actually': 0.24561403508771928, 'ad': 0.015151515151515152, 'adapt': 0.007177033492822967, 'add': 0.03110047846889952, 'added': 0.01674641148325359, 'adding': 0.013556618819776715, 'addition': 0.02073365231259968, 'additional': 0.007974481658692184, 'additionally': 0.001594896331738437, 'address': 0.013556618819776715, 'addressed': 0.007177033492822967, 'addresses': 0.003987240829346092, 'adds': 0.007974481658692184, 'adjust': 0.004784688995215311, 'adjusted': 0.006379585326953748, 'admit': 0.004784688995215311, 'admits': 0.003189792663476874, 'admitted': 0.003987240829346092, 'adopt': 0.009569377990430622, 'adopted': 0.011961722488038277, 'adopting': 0.005582137161084529, 'ads': 0.007177033492822967, 'adults': 0.018341307814992026, 'advance': 0.004784688995215311, 'advanced': 0.02073365231259968, 'advancements': 0.004784688995215311, 'advances': 0.003189792663476874, 'advantage': 0.14354066985645933, 'advantageous': 0.007974481658692184, 'advantages': 0.23684210526315788, 'advertise': 0.003189792663476874, 'advertisements': 0.003987240829346092, 'advisor': 0.0, 'advocate': 0.004784688995215311, 'advocates': 0.009569377990430622, 'aeoale': 0.001594896331738437, 'affair': 0.01674641148325359, 'affect': 0.046251993620414676, 'affected': 0.01674641148325359, 'affecting': 0.01594896331738437, 'affects': 0.02711323763955343, 'afford': 0.04146730462519936, 'affordable': 0.0007974481658692185, 'aflcio': 0.0, 'afraid': 0.009569377990430622, 'afternoon': 0.001594896331738437, 'age': 0.03349282296650718, 'agency': 0.005582137161084529, 'ages': 0.008771929824561403, 'ago': 0.018341307814992026, 'agree': 0.094896331738437, 'agreed': 0.0215311004784689, 'agreement': 0.006379585326953748, 'agrees': 0.014354066985645933, 'agrue': 0.003189792663476874, 'ahaa': 0.0007974481658692185, 'ahe': 0.001594896331738437, 'ahead': 0.008771929824561403, 'ahey': 0.0007974481658692185, 'ai': 0.004784688995215311, 'aick': 0.001594896331738437, 'aid': 0.005582137161084529, 'aided': 0.003987240829346092, 'aie': 0.0007974481658692185, 'aime': 0.0007974481658692185, 'air': 0.39074960127591707, 'airpollution': 0.001594896331738437, 'ais': 0.0007974481658692185, 'al': 0.001594896331738437, 'alaska': 0.0, 'aligns': 0.006379585326953748, 'alike': 0.003987240829346092, 'alio': 0.003987240829346092, 'aliso': 0.0007974481658692185, 'alittle': 0.0023923444976076554, 'alive': 0.003189792663476874, 'alleviate': 0.004784688995215311, 'allotment': 0.007974481658692184, 'allow': 0.10127591706539076, 'allowed': 0.09569377990430622, 'allowing': 0.037480063795853266, 'allows': 0.11483253588516747, 'almost': 0.16586921850079744, 'alone': 0.04146730462519936, 'along': 0.11961722488038277, 'alongside': 0.0023923444976076554, 'alot': 0.03269537480063796, 'aloud': 0.005582137161084529, 'already': 0.14274322169059012, 'also': 0.5909090909090909, 'altered': 0.004784688995215311, 'alternate': 0.022328548644338118, 'alternative': 0.11961722488038277, 'alternatives': 0.02631578947368421, 'although': 0.04226475279106858, 'altogether': 0.004784688995215311, 'always': 0.40669856459330145, 'amazing': 0.02073365231259968, 'ambitious': 0.01674641148325359, 'amendment': 0.003189792663476874, 'america': 0.013556618819776715, 'american': 0.017543859649122806, 'americans': 0.0215311004784689, 'americas': 0.0, 'among': 0.029505582137161084, 'amongst': 0.006379585326953748, 'amount': 0.3397129186602871, 'amounts': 0.045454545454545456, 'amout': 0.004784688995215311, 'anachronism': 0.008771929824561403, 'analysis': 0.006379585326953748, 'andor': 0.011164274322169059, 'andrew': 0.0007974481658692185, 'angry': 0.007177033492822967, 'animals': 0.01594896331738437, 'annoying': 0.005582137161084529, 'annual': 0.017543859649122806, 'annually': 0.004784688995215311, 'anotheer': 0.003189792663476874, 'another': 0.19059011164274323, 'answer': 0.024720893141945772, 'answers': 0.003189792663476874, 'antanas': 0.0, 'anxiety': 0.001594896331738437, 'anybody': 0.005582137161084529, 'anymore': 0.017543859649122806, 'anyone': 0.07496012759170653, 'anything': 0.04864433811802233, 'anytime': 0.005582137161084529, 'anyway': 0.006379585326953748, 'anyways': 0.0, 'anywhere': 0.019936204146730464, 'ao': 0.0023923444976076554, 'aoaular': 0.0007974481658692185, 'aon': 0.0007974481658692185, 'aond': 0.0007974481658692185, 'apart': 0.019936204146730464, 'apparent': 0.004784688995215311, 'apparently': 0.0023923444976076554, 'appeal': 0.046251993620414676, 'appealing': 0.008771929824561403, 'appear': 0.006379585326953748, 'appears': 0.004784688995215311, 'applied': 0.008771929824561403, 'applies': 0.003987240829346092, 'apply': 0.027910685805422646, 'appointed': 0.0023923444976076554, 'appreciate': 0.011164274322169059, 'approach': 0.015151515151515152, 'appropriations': 0.013556618819776715, 'approval': 0.003987240829346092, 'approve': 0.003189792663476874, 'approved': 0.0023923444976076554, 'approximately': 0.006379585326953748, 'apps': 0.012759170653907496, 'april': 0.0023923444976076554, 'ar': 0.0023923444976076554, 'area': 0.05980861244019139, 'areas': 0.17384370015948963, 'arent': 0.022328548644338118, 'ares': 0.0023923444976076554, 'aresident': 0.001594896331738437, 'arguably': 0.003987240829346092, 'argue': 0.08771929824561403, 'argued': 0.019936204146730464, 'arguements': 0.0023923444976076554, 'argues': 0.006379585326953748, 'arguing': 0.014354066985645933, 'argument': 0.06379585326953748, 'arguments': 0.044657097288676235, 'arise': 0.008771929824561403, 'around': 0.310207336523126, 'arrangements': 0.0007974481658692185, 'arrive': 0.007974481658692184, 'arriving': 0.003987240829346092, 'artical': 0.0023923444976076554, 'article': 0.16666666666666666, 'articles': 0.0215311004784689, 'artoicle': 0.001594896331738437, 'arturo': 0.0023923444976076554, 'ascertainment': 0.0007974481658692185, 'aside': 0.007177033492822967, 'ask': 0.03349282296650718, 'asked': 0.0215311004784689, 'asking': 0.012759170653907496, 'aspect': 0.014354066985645933, 'aspects': 0.01594896331738437, 'assertions': 0.015151515151515152, 'asserts': 0.0023923444976076554, 'assist': 0.01036682615629984, 'associated': 0.007974481658692184, 'assume': 0.006379585326953748, 'assuming': 0.001594896331738437, 'assure': 0.005582137161084529, 'assured': 0.003987240829346092, 'asthma': 0.001594896331738437, 'astonishing': 0.0023923444976076554, 'asuncion': 0.0, 'aswell': 0.001594896331738437, 'athe': 0.0007974481658692185, 'athey': 0.0007974481658692185, 'athink': 0.0007974481658692185, 'atleast': 0.01036682615629984, 'atmosphere': 0.0645933014354067, 'ato': 0.003189792663476874, 'attempt': 0.023923444976076555, 'attempted': 0.004784688995215311, 'attempting': 0.004784688995215311, 'attempts': 0.01036682615629984, 'attention': 0.1371610845295056, 'attitude': 0.0023923444976076554, 'author': 0.05980861244019139, 'authorities': 0.009569377990430622, 'authority': 0.003189792663476874, 'auto': 0.023125996810207338, 'automatically': 0.004784688995215311, 'automobile': 0.03987240829346093, 'automobilei': 0.001594896331738437, 'automobiles': 0.05422647527910686, 'automotive': 0.005582137161084529, 'available': 0.02073365231259968, 'average': 0.051834130781499205, 'avoid': 0.05901116427432217, 'avoidance': 0.003987240829346092, 'avoided': 0.018341307814992026, 'avoiding': 0.01594896331738437, 'avoids': 0.0645933014354067, 'award': 0.018341307814992026, 'awarded': 0.008771929824561403, 'awarding': 0.013556618819776715, 'awards': 0.025518341307814992, 'aware': 0.03508771929824561, 'awareness': 0.006379585326953748, 'awareoness': 0.0007974481658692185, 'away': 0.30063795853269537, 'awesome': 0.0023923444976076554, 'awful': 0.007177033492822967, 'awhile': 0.0023923444976076554, 'b': 0.0007974481658692185, 'back': 0.15550239234449761, 'backed': 0.004784688995215311, 'backing': 0.004784688995215311, 'backs': 0.007177033492822967, 'backup': 0.003987240829346092, 'bad': 0.15869218500797447, 'balance': 0.05661881977671451, 'balanced': 0.013556618819776715, 'balances': 0.007974481658692184, 'ball': 0.004784688995215311, 'ballot': 0.007177033492822967, 'ban': 0.26555023923444976, 'band': 0.006379585326953748, 'bank': 0.003189792663476874, 'banned': 0.10606060606060606, 'banning': 0.06698564593301436, 'bans': 0.12041467304625199, 'barack': 0.0, 'barcelona': 0.0, 'bare': 0.003189792663476874, 'barely': 0.019138755980861243, 'barrier': 0.003189792663476874, 'bart': 0.0, 'base': 0.007974481658692184, 'based': 0.11323763955342903, 'basic': 0.051036682615629984, 'basically': 0.0773524720893142, 'basis': 0.029505582137161084, 'battle': 0.005582137161084529, 'bay': 0.0, 'bbc': 0.0, 'beach': 0.003189792663476874, 'beacuse': 0.003189792663476874, 'beat': 0.003987240829346092, 'beautiful': 0.027910685805422646, 'beauty': 0.005582137161084529, 'became': 0.022328548644338118, 'becasue': 0.003189792663476874, 'becauie': 0.0023923444976076554, 'become': 0.22488038277511962, 'becomes': 0.051834130781499205, 'becoming': 0.08532695374800638, 'becuase': 0.004784688995215311, 'beeon': 0.0007974481658692185, 'began': 0.037480063795853266, 'begin': 0.08532695374800638, 'begining': 0.003189792663476874, 'beginning': 0.0430622009569378, 'begins': 0.007177033492822967, 'begun': 0.01594896331738437, 'behavior': 0.0023923444976076554, 'behind': 0.07177033492822966, 'beijing': 0.0007974481658692185, 'beings': 0.004784688995215311, 'bejing': 0.0, 'belief': 0.007177033492822967, 'beliefs': 0.007177033492822967, 'believe': 0.24322169059011164, 'believed': 0.01036682615629984, 'believes': 0.018341307814992026, 'believing': 0.005582137161084529, 'belive': 0.011164274322169059, 'belong': 0.003189792663476874, 'beloved': 0.006379585326953748, 'beneficial': 0.1371610845295056, 'benefit': 0.1251993620414673, 'benefited': 0.01036682615629984, 'benefiting': 0.011961722488038277, 'benefits': 0.1251993620414673, 'benefitted': 0.003987240829346092, 'benefitting': 0.003189792663476874, 'benificial': 0.006379585326953748, 'benifit': 0.005582137161084529, 'benifits': 0.003189792663476874, 'besides': 0.01674641148325359, 'best': 0.19138755980861244, 'bestlaid': 0.08532695374800638, 'bet': 0.003189792663476874, 'betray': 0.011164274322169059, 'betrayed': 0.008771929824561403, 'better': 0.3405103668261563, 'betters': 0.003189792663476874, 'beyond': 0.01594896331738437, 'bias': 0.009569377990430622, 'biased': 0.015151515151515152, 'bicycle': 0.08771929824561403, 'bicycles': 0.046251993620414676, 'bicycling': 0.004784688995215311, 'big': 0.2822966507177033, 'bigger': 0.06618819776714513, 'biggest': 0.07814992025518341, 'bike': 0.1379585326953748, 'biked': 0.005582137161084529, 'bikers': 0.001594896331738437, 'bikes': 0.045454545454545456, 'bikesharing': 0.015151515151515152, 'biking': 0.045454545454545456, 'bill': 0.014354066985645933, 'billions': 0.008771929824561403, 'bills': 0.013556618819776715, 'birds': 0.007974481658692184, 'birthplace': 0.005582137161084529, 'bit': 0.037480063795853266, 'black': 0.007177033492822967, 'blame': 0.019138755980861243, 'blamed': 0.01594896331738437, 'blind': 0.005582137161084529, 'blindly': 0.001594896331738437, 'block': 0.004784688995215311, 'blocks': 0.005582137161084529, 'blood': 0.003987240829346092, 'bloom': 0.0023923444976076554, 'bloomed': 0.06220095693779904, 'blooming': 0.009569377990430622, 'blow': 0.005582137161084529, 'blue': 0.004784688995215311, 'board': 0.007177033492822967, 'bob': 0.0, 'bodies': 0.007177033492822967, 'body': 0.019936204146730464, 'bogata': 0.0, 'bogota': 0.011164274322169059, 'bonding': 0.003987240829346092, 'book': 0.001594896331738437, 'boom': 0.0023923444976076554, 'boomed': 0.003189792663476874, 'boost': 0.008771929824561403, 'booth': 0.0023923444976076554, 'border': 0.003987240829346092, 'borders': 0.003987240829346092, 'boring': 0.0007974481658692185, 'born': 0.006379585326953748, 'bother': 0.019138755980861243, 'bothered': 0.006379585326953748, 'bought': 0.007974481658692184, 'bound': 0.006379585326953748, 'box': 0.006379585326953748, 'bradford': 0.013556618819776715, 'brain': 0.006379585326953748, 'branch': 0.003987240829346092, 'brand': 0.008771929824561403, 'brave': 0.0023923444976076554, 'break': 0.028708133971291867, 'breakdown': 0.003189792663476874, 'breaking': 0.011961722488038277, 'breaks': 0.008771929824561403, 'breath': 0.03110047846889952, 'breathable': 0.003189792663476874, 'breathe': 0.04066985645933014, 'breathing': 0.02631578947368421, 'bridge': 0.011961722488038277, 'bright': 0.009569377990430622, 'brighter': 0.003987240829346092, 'brilliant': 0.003987240829346092, 'bring': 0.050239234449760764, 'bringing': 0.011164274322169059, 'brings': 0.03189792663476874, 'broad': 0.014354066985645933, 'broader': 0.008771929824561403, 'broke': 0.005582137161084529, 'broken': 0.01036682615629984, 'brought': 0.023923444976076555, 'brussels': 0.003189792663476874, 'bua': 0.001594896331738437, 'budget': 0.003987240829346092, 'buffer': 0.0, 'build': 0.0215311004784689, 'building': 0.02073365231259968, 'buildings': 0.013556618819776715, 'built': 0.04146730462519936, 'buit': 0.0023923444976076554, 'bumper': 0.001594896331738437, 'bunch': 0.008771929824561403, 'burden': 0.011961722488038277, 'burgeoning': 0.006379585326953748, 'burn': 0.011961722488038277, 'burned': 0.006379585326953748, 'burning': 0.012759170653907496, 'bus': 0.07177033492822966, 'buses': 0.11244019138755981, 'bush': 0.0023923444976076554, 'business': 0.03189792663476874, 'businesses': 0.017543859649122806, 'businessman': 0.05582137161084529, 'busses': 0.015151515151515152, 'busy': 0.025518341307814992, 'buto': 0.001594896331738437, 'buy': 0.07416267942583732, 'buying': 0.11244019138755981, 'buys': 0.017543859649122806, 'bycicle': 0.003987240829346092, 'ca': 0.0023923444976076554, 'cai': 0.001594896331738437, 'cais': 0.0007974481658692185, 'cali': 0.0, 'california': 0.007177033492822967, 'call': 0.05502392344497608, 'called': 0.11483253588516747, 'calls': 0.01036682615629984, 'calm': 0.012759170653907496, 'calming': 0.003189792663476874, 'calories': 0.007177033492822967, 'came': 0.04704944178628389, 'campaign': 0.17145135566188197, 'campaigning': 0.017543859649122806, 'campaigns': 0.022328548644338118, 'campaignto': 0.004784688995215311, 'canadate': 0.001594896331738437, 'cancer': 0.004784688995215311, 'candidate': 0.3237639553429027, 'candidatee': 0.0007974481658692185, 'candidates': 0.3062200956937799, 'candidatesknowing': 0.004784688995215311, 'candidatoe': 0.001594896331738437, 'canidate': 0.007974481658692184, 'canidates': 0.0023923444976076554, 'cant': 0.03827751196172249, 'capable': 0.009569377990430622, 'capital': 0.15151515151515152, 'capitals': 0.008771929824561403, 'capitol': 0.003189792663476874, 'caps': 0.003189792663476874, 'car': 0.5023923444976076, 'cara': 0.0007974481658692185, 'carbon': 0.09808612440191387, 'care': 0.09808612440191387, 'cared': 0.003987240829346092, 'carefree': 0.0023923444976076554, 'careful': 0.005582137161084529, 'carefully': 0.011164274322169059, 'careless': 0.006379585326953748, 'cares': 0.004784688995215311, 'carfree': 0.14114832535885166, 'cari': 0.003189792663476874, 'caring': 0.006379585326953748, 'carintensive': 0.08851674641148326, 'carless': 0.011164274322169059, 'carlos': 0.0023923444976076554, 'carolina': 0.0007974481658692185, 'carowner': 0.018341307814992026, 'carpool': 0.03349282296650718, 'carpooled': 0.003189792663476874, 'carpooling': 0.0342902711323764, 'carreduced': 0.001594896331738437, 'carry': 0.01674641148325359, 'carrying': 0.03668261562998405, 'cars': 0.4800637958532695, 'carsharing': 0.008771929824561403, 'carter': 0.0007974481658692185, 'caruse': 0.0007974481658692185, 'case': 0.0733652312599681, 'cases': 0.027910685805422646, 'cash': 0.003987240829346092, 'cashstrapped': 0.005582137161084529, 'cast': 0.10366826156299841, 'casted': 0.011164274322169059, 'casting': 0.005582137161084529, 'casts': 0.027910685805422646, 'catastrophe': 0.005582137161084529, 'catch': 0.01594896331738437, 'catching': 0.003987240829346092, 'caught': 0.01594896331738437, 'cause': 0.22248803827751196, 'caused': 0.1291866028708134, 'causes': 0.10287081339712918, 'causing': 0.08293460925039872, 'cautious': 0.004784688995215311, 'cautiously': 0.0, 'celebrate': 0.003189792663476874, 'cell': 0.006379585326953748, 'cellphones': 0.012759170653907496, 'center': 0.013556618819776715, 'centered': 0.03349282296650718, 'centers': 0.10685805422647528, 'central': 0.022328548644338118, 'centuries': 0.006379585326953748, 'century': 0.025518341307814992, 'certain': 0.17464114832535885, 'certainly': 0.030303030303030304, 'certainty': 0.05422647527910686, 'certificate': 0.0023923444976076554, 'chain': 0.003987240829346092, 'chairman': 0.019138755980861243, 'chamber': 0.0023923444976076554, 'chance': 0.22807017543859648, 'chances': 0.028708133971291867, 'change': 0.3014354066985646, 'changed': 0.09250398724082935, 'changer': 0.001594896331738437, 'changes': 0.05741626794258373, 'changing': 0.08532695374800638, 'chaos': 0.008771929824561403, 'charge': 0.024720893141945772, 'charged': 0.007177033492822967, 'chatter': 0.027910685805422646, 'cheap': 0.007974481658692184, 'cheaper': 0.017543859649122806, 'cheat': 0.006379585326953748, 'cheated': 0.005582137161084529, 'cheating': 0.005582137161084529, 'check': 0.003189792663476874, 'chemicals': 0.011164274322169059, 'chicago': 0.0, 'child': 0.005582137161084529, 'children': 0.07416267942583732, 'childrens': 0.003189792663476874, 'china': 0.003189792663476874, 'choice': 0.05901116427432217, 'choices': 0.01674641148325359, 'choking': 0.014354066985645933, 'choose': 0.18181818181818182, 'choosen': 0.008771929824561403, 'chooses': 0.015151515151515152, 'choosing': 0.13476874003189793, 'chose': 0.05263157894736842, 'chosen': 0.10127591706539076, 'chosing': 0.014354066985645933, 'circumstances': 0.003189792663476874, 'cites': 0.003987240829346092, 'cities': 0.2623604465709729, 'citizen': 0.06379585326953748, 'citizens': 0.2807017543859649, 'citoizens': 0.001594896331738437, 'citoy': 0.0007974481658692185, 'city': 0.25996810207336524, 'citys': 0.0023923444976076554, 'civilians': 0.003189792663476874, 'claim': 0.0430622009569378, 'claimed': 0.009569377990430622, 'claims': 0.0342902711323764, 'class': 0.014354066985645933, 'clean': 0.05502392344497608, 'cleaner': 0.06060606060606061, 'cleaning': 0.007177033492822967, 'cleanse': 0.0023923444976076554, 'clear': 0.25757575757575757, 'cleared': 0.08771929824561403, 'clearer': 0.011164274322169059, 'clearing': 0.008771929824561403, 'clearly': 0.0430622009569378, 'climate': 0.011164274322169059, 'clinton': 0.0023923444976076554, 'close': 0.12679425837320574, 'closely': 0.005582137161084529, 'closer': 0.05263157894736842, 'closing': 0.0023923444976076554, 'cloud': 0.006379585326953748, 'clouds': 0.011961722488038277, 'clutter': 0.001594896331738437, 'coffee': 0.001594896331738437, 'cold': 0.023923444976076555, 'collage': 0.011164274322169059, 'colleage': 0.0007974481658692185, 'college': 0.3269537480063796, 'collegee': 0.005582137161084529, 'colleges': 0.013556618819776715, 'collegewon': 0.014354066985645933, 'collge': 0.003987240829346092, 'colombia': 0.005582137161084529, 'colombian': 0.003189792663476874, 'colombians': 0.011164274322169059, 'color': 0.0023923444976076554, 'columbia': 0.0007974481658692185, 'columbians': 0.0023923444976076554, 'combat': 0.007177033492822967, 'combination': 0.005582137161084529, 'combined': 0.003987240829346092, 'come': 0.1850079744816587, 'comes': 0.12360446570972887, 'comfort': 0.004784688995215311, 'comfortable': 0.008771929824561403, 'coming': 0.04784688995215311, 'comment': 0.003987240829346092, 'commerce': 0.003987240829346092, 'commercial': 0.03349282296650718, 'committee': 0.003987240829346092, 'commity': 0.0007974481658692185, 'common': 0.04864433811802233, 'commonly': 0.006379585326953748, 'communicate': 0.007974481658692184, 'communication': 0.003987240829346092, 'communities': 0.05582137161084529, 'community': 0.12759170653907495, 'communties': 0.0023923444976076554, 'commute': 0.019138755980861243, 'commuters': 0.003189792663476874, 'commutes': 0.003987240829346092, 'commuting': 0.03668261562998405, 'compact': 0.027910685805422646, 'companies': 0.04226475279106858, 'company': 0.005582137161084529, 'compare': 0.003987240829346092, 'compared': 0.10287081339712918, 'comparing': 0.003189792663476874, 'comparison': 0.005582137161084529, 'compete': 0.006379585326953748, 'competing': 0.0215311004784689, 'complain': 0.007974481658692184, 'complained': 0.013556618819776715, 'complete': 0.023125996810207338, 'completed': 0.005582137161084529, 'completely': 0.11562998405103668, 'completley': 0.003987240829346092, 'completly': 0.019936204146730464, 'complex': 0.003987240829346092, 'complicate': 0.018341307814992026, 'complicated': 0.019138755980861243, 'complicates': 0.007177033492822967, 'complication': 0.004784688995215311, 'complications': 0.007974481658692184, 'component': 0.011164274322169059, 'compromise': 0.07017543859649122, 'computer': 0.0023923444976076554, 'computers': 0.0023923444976076554, 'con': 0.003987240829346092, 'concept': 0.023923444976076555, 'concepts': 0.0023923444976076554, 'concern': 0.014354066985645933, 'concerned': 0.01036682615629984, 'concerning': 0.006379585326953748, 'concerns': 0.008771929824561403, 'conclude': 0.012759170653907496, 'concluded': 0.003987240829346092, 'conclusion': 0.03349282296650718, 'condensed': 0.003987240829346092, 'condition': 0.008771929824561403, 'conditions': 0.014354066985645933, 'conducted': 0.006379585326953748, 'confidence': 0.003189792663476874, 'confident': 0.003987240829346092, 'conflict': 0.004784688995215311, 'conflicts': 0.0023923444976076554, 'confuse': 0.008771929824561403, 'confused': 0.05502392344497608, 'confusing': 0.023125996810207338, 'confusion': 0.012759170653907496, 'congested': 0.019936204146730464, 'congestion': 0.09409888357256778, 'congress': 0.03668261562998405, 'congressional': 0.008771929824561403, 'connect': 0.006379585326953748, 'connected': 0.06060606060606061, 'connection': 0.003189792663476874, 'cons': 0.0215311004784689, 'consequences': 0.01674641148325359, 'conservation': 0.005582137161084529, 'conservative': 0.007177033492822967, 'conserve': 0.05263157894736842, 'conserved': 0.0023923444976076554, 'conserving': 0.004784688995215311, 'consider': 0.06618819776714513, 'considerably': 0.003987240829346092, 'consideration': 0.023923444976076555, 'considered': 0.022328548644338118, 'considering': 0.025518341307814992, 'consist': 0.007177033492822967, 'consistently': 0.003189792663476874, 'consists': 0.06379585326953748, 'constant': 0.01594896331738437, 'constantly': 0.03269537480063796, 'constitution': 0.024720893141945772, 'constitutional': 0.0023923444976076554, 'constructed': 0.006379585326953748, 'construction': 0.028708133971291867, 'constution': 0.001594896331738437, 'consumers': 0.003189792663476874, 'consuming': 0.0023923444976076554, 'contact': 0.004784688995215311, 'contains': 0.004784688995215311, 'contamination': 0.001594896331738437, 'content': 0.007177033492822967, 'context': 0.003189792663476874, 'continent': 0.003189792663476874, 'continue': 0.0733652312599681, 'continued': 0.009569377990430622, 'continues': 0.023125996810207338, 'continuing': 0.01036682615629984, 'contorol': 0.0023923444976076554, 'contradict': 0.003987240829346092, 'contrary': 0.004784688995215311, 'contrast': 0.003189792663476874, 'contribute': 0.023125996810207338, 'contributed': 0.007177033492822967, 'contributes': 0.011961722488038277, 'contributing': 0.012759170653907496, 'contribution': 0.006379585326953748, 'contributor': 0.009569377990430622, 'control': 0.11562998405103668, 'controlled': 0.007177033492822967, 'controversial': 0.013556618819776715, 'controversy': 0.013556618819776715, 'contry': 0.001594896331738437, 'convenience': 0.004784688995215311, 'convenient': 0.019138755980861243, 'conventions': 0.0, 'converging': 0.006379585326953748, 'convienent': 0.0007974481658692185, 'convince': 0.011164274322169059, 'cool': 0.01036682615629984, 'cooling': 0.001594896331738437, 'core': 0.003189792663476874, 'corner': 0.005582137161084529, 'correct': 0.028708133971291867, 'correctly': 0.003987240829346092, 'corrupt': 0.01674641148325359, 'corruption': 0.005582137161084529, 'cost': 0.05422647527910686, 'costing': 0.003189792663476874, 'costly': 0.003987240829346092, 'costs': 0.015151515151515152, 'couch': 0.0023923444976076554, 'could': 0.5191387559808612, 'couniry': 0.0007974481658692185, 'counitry': 0.001594896331738437, 'counrty': 0.0023923444976076554, 'count': 0.06937799043062201, 'counted': 0.02711323763955343, 'counter': 0.006379585326953748, 'counterclaim': 0.004784688995215311, 'counties': 0.0023923444976076554, 'counting': 0.045454545454545456, 'countless': 0.005582137161084529, 'countory': 0.001594896331738437, 'countries': 0.14752791068580542, 'country': 0.24242424242424243, 'counts': 0.0215311004784689, 'county': 0.006379585326953748, 'couple': 0.044657097288676235, 'course': 0.03508771929824561, 'covered': 0.013556618819776715, 'covering': 0.003987240829346092, 'cracked': 0.004784688995215311, 'crash': 0.012759170653907496, 'crashes': 0.009569377990430622, 'crazy': 0.01674641148325359, 'create': 0.09090909090909091, 'created': 0.09968102073365231, 'creates': 0.0645933014354067, 'creating': 0.058213716108452954, 'creation': 0.012759170653907496, 'creatures': 0.001594896331738437, 'crime': 0.003189792663476874, 'crisis': 0.04226475279106858, 'critical': 0.004784688995215311, 'critics': 0.007177033492822967, 'cropped': 0.05582137161084529, 'cross': 0.005582137161084529, 'crossing': 0.017543859649122806, 'crowded': 0.007177033492822967, 'crucial': 0.018341307814992026, 'cubic': 0.03987240829346093, 'culprit': 0.003189792663476874, 'cultural': 0.019138755980861243, 'culture': 0.024720893141945772, 'cultures': 0.003189792663476874, 'curb': 0.024720893141945772, 'current': 0.0645933014354067, 'currently': 0.023923444976076555, 'cut': 0.14354066985645933, 'cuts': 0.007177033492822967, 'cutting': 0.03668261562998405, 'cycling': 0.003987240829346092, 'daily': 0.06937799043062201, 'dakota': 0.0, 'damage': 0.04226475279106858, 'damages': 0.007974481658692184, 'damaging': 0.015151515151515152, 'danger': 0.014354066985645933, 'dangerous': 0.04784688995215311, 'dangers': 0.01036682615629984, 'dark': 0.005582137161084529, 'data': 0.003189792663476874, 'date': 0.009569377990430622, 'dated': 0.003987240829346092, 'david': 0.0007974481658692185, 'day': 0.3572567783094099, 'dayi': 0.0023923444976076554, 'days': 0.22089314194577353, 'dead': 0.001594896331738437, 'deadlocked': 0.008771929824561403, 'deadly': 0.006379585326953748, 'deal': 0.043859649122807015, 'dealing': 0.007974481658692184, 'dealt': 0.003987240829346092, 'dear': 0.003189792663476874, 'death': 0.014354066985645933, 'deaths': 0.017543859649122806, 'debate': 0.014354066985645933, 'debated': 0.007974481658692184, 'debates': 0.003987240829346092, 'debt': 0.003189792663476874, 'decade': 0.003189792663476874, 'decades': 0.01594896331738437, 'decent': 0.006379585326953748, 'decide': 0.1722488038277512, 'decided': 0.09011164274322168, 'decides': 0.018341307814992026, 'deciding': 0.08931419457735247, 'decision': 0.08054226475279107, 'decisions': 0.0430622009569378, 'declares': 0.0023923444976076554, 'declaring': 0.011961722488038277, 'decline': 0.024720893141945772, 'declined': 0.004784688995215311, 'declining': 0.005582137161084529, 'decrease': 0.11802232854864433, 'decreased': 0.07974481658692185, 'decreases': 0.018341307814992026, 'decreasing': 0.04226475279106858, 'decreed': 0.019936204146730464, 'dedicated': 0.006379585326953748, 'deep': 0.007177033492822967, 'defenders': 0.001594896331738437, 'defense': 0.019936204146730464, 'defenses': 0.09170653907496013, 'defied': 0.003987240829346092, 'definately': 0.003987240829346092, 'defined': 0.004784688995215311, 'definetely': 0.007177033492822967, 'definite': 0.004784688995215311, 'definitely': 0.029505582137161084, 'defy': 0.06539074960127592, 'defying': 0.003987240829346092, 'delegates': 0.003987240829346092, 'delegation': 0.007177033492822967, 'delegations': 0.03508771929824561, 'delivery': 0.013556618819776715, 'demand': 0.01036682615629984, 'demise': 0.001594896331738437, 'democracy': 0.03189792663476874, 'democrat': 0.009569377990430622, 'democratic': 0.08851674641148326, 'democrats': 0.006379585326953748, 'demographic': 0.004784688995215311, 'demonstrates': 0.007974481658692184, 'denied': 0.0023923444976076554, 'dense': 0.013556618819776715, 'densely': 0.007974481658692184, 'denser': 0.014354066985645933, 'density': 0.003987240829346092, 'deny': 0.006379585326953748, 'depend': 0.025518341307814992, 'dependant': 0.006379585326953748, 'depended': 0.007177033492822967, 'dependence': 0.007974481658692184, 'dependency': 0.003987240829346092, 'dependent': 0.028708133971291867, 'depending': 0.029505582137161084, 'depends': 0.022328548644338118, 'deprived': 0.003987240829346092, 'describe': 0.005582137161084529, 'described': 0.008771929824561403, 'describes': 0.012759170653907496, 'deserve': 0.023923444976076555, 'deserves': 0.007974481658692184, 'designated': 0.007177033492822967, 'designed': 0.011961722488038277, 'desirable': 0.01036682615629984, 'desire': 0.014354066985645933, 'desired': 0.012759170653907496, 'despised': 0.06618819776714513, 'despite': 0.029505582137161084, 'destination': 0.03827751196172249, 'destinations': 0.013556618819776715, 'destroy': 0.019138755980861243, 'destroyed': 0.007177033492822967, 'destroying': 0.017543859649122806, 'destruction': 0.004784688995215311, 'destructive': 0.0023923444976076554, 'details': 0.003987240829346092, 'determine': 0.029505582137161084, 'determined': 0.008771929824561403, 'determines': 0.004784688995215311, 'determining': 0.007974481658692184, 'detrimental': 0.011164274322169059, 'detroit': 0.0007974481658692185, 'develop': 0.01036682615629984, 'developed': 0.023923444976076555, 'developing': 0.012759170653907496, 'development': 0.04226475279106858, 'developments': 0.0007974481658692185, 'devices': 0.0023923444976076554, 'devoid': 0.046251993620414676, 'didnt': 0.046251993620414676, 'die': 0.02073365231259968, 'died': 0.004784688995215311, 'diesal': 0.001594896331738437, 'diesel': 0.07177033492822966, 'diesels': 0.001594896331738437, 'differ': 0.0023923444976076554, 'difference': 0.04784688995215311, 'different': 0.15151515151515152, 'differently': 0.003189792663476874, 'difficult': 0.03110047846889952, 'difficulties': 0.004784688995215311, 'difficulty': 0.004784688995215311, 'dilemma': 0.004784688995215311, 'diminish': 0.007177033492822967, 'diminished': 0.003987240829346092, 'dioxide': 0.005582137161084529, 'direct': 0.12440191387559808, 'direction': 0.007974481658692184, 'directly': 0.08133971291866028, 'dirt': 0.003189792663476874, 'dirty': 0.008771929824561403, 'disadvantage': 0.007974481658692184, 'disadvantages': 0.019936204146730464, 'disagree': 0.02073365231259968, 'disappear': 0.003987240829346092, 'disaster': 0.0861244019138756, 'disasters': 0.006379585326953748, 'disastrous': 0.003189792663476874, 'discourage': 0.003987240829346092, 'discouraged': 0.008771929824561403, 'discourages': 0.005582137161084529, 'discover': 0.003987240829346092, 'discovered': 0.004784688995215311, 'discrepancy': 0.003189792663476874, 'discuss': 0.007974481658692184, 'discussed': 0.005582137161084529, 'discusses': 0.009569377990430622, 'discussing': 0.003987240829346092, 'discussions': 0.003987240829346092, 'disease': 0.0023923444976076554, 'diseases': 0.004784688995215311, 'disenfranchised': 0.004784688995215311, 'dislike': 0.003987240829346092, 'dispute': 0.04864433811802233, 'disputed': 0.006379585326953748, 'disputes': 0.01594896331738437, 'disregard': 0.008771929824561403, 'disregarded': 0.003987240829346092, 'distance': 0.03668261562998405, 'distances': 0.011164274322169059, 'distant': 0.05582137161084529, 'distribution': 0.0023923444976076554, 'district': 0.012759170653907496, 'districts': 0.06140350877192982, 'diverse': 0.007177033492822967, 'divide': 0.003189792663476874, 'divided': 0.003189792663476874, 'docent': 0.004784688995215311, 'document': 0.003189792663476874, 'doesnt': 0.03907496012759171, 'dole': 0.0007974481658692185, 'dollar': 0.012759170653907496, 'dollars': 0.03508771929824561, 'dominated': 0.007974481658692184, 'done': 0.09250398724082935, 'dont': 0.16586921850079744, 'door': 0.003987240829346092, 'doors': 0.004784688995215311, 'dose': 0.001594896331738437, 'double': 0.003987240829346092, 'doubt': 0.018341307814992026, 'doug': 0.0, 'downfall': 0.007974481658692184, 'downside': 0.003189792663476874, 'downsides': 0.01036682615629984, 'downtown': 0.009569377990430622, 'downturn': 0.003189792663476874, 'drain': 0.0023923444976076554, 'dramatic': 0.006379585326953748, 'dramatically': 0.05582137161084529, 'drastic': 0.018341307814992026, 'drastically': 0.05342902711323764, 'drawbacks': 0.003987240829346092, 'drawing': 0.003987240829346092, 'drawn': 0.004784688995215311, 'draws': 0.004784688995215311, 'dream': 0.005582137161084529, 'dreams': 0.003987240829346092, 'drexel': 0.0, 'drink': 0.0023923444976076554, 'drive': 0.19776714513556617, 'driven': 0.0773524720893142, 'driver': 0.02073365231259968, 'drivers': 0.09808612440191387, 'drives': 0.007177033492822967, 'driveways': 0.01594896331738437, 'driving': 0.41467304625199364, 'drop': 0.049441786283891544, 'dropped': 0.030303030303030304, 'dropping': 0.015151515151515152, 'drove': 0.01674641148325359, 'drown': 0.023125996810207338, 'drunk': 0.013556618819776715, 'drving': 0.003987240829346092, 'due': 0.31259968102073366, 'duffer': 0.003189792663476874, 'dumped': 0.004784688995215311, 'duty': 0.006379585326953748, 'dying': 0.01036682615629984, 'e': 0.0007974481658692185, 'eachother': 0.003987240829346092, 'eaiier': 0.001594896331738437, 'earlier': 0.008771929824561403, 'early': 0.014354066985645933, 'earn': 0.007177033492822967, 'earned': 0.006379585326953748, 'earth': 0.05661881977671451, 'earthe': 0.0, 'earths': 0.004784688995215311, 'ease': 0.007177033492822967, 'easier': 0.11323763955342903, 'easiest': 0.007177033492822967, 'easily': 0.07655502392344497, 'easy': 0.05422647527910686, 'eat': 0.007177033492822967, 'ec': 0.0, 'ecofriendly': 0.007177033492822967, 'economic': 0.019138755980861243, 'economical': 0.006379585326953748, 'economically': 0.0023923444976076554, 'economy': 0.03588516746411483, 'ecosystem': 0.007177033492822967, 'ecosystems': 0.003987240829346092, 'ect': 0.0007974481658692185, 'edge': 0.03110047846889952, 'educated': 0.019936204146730464, 'education': 0.006379585326953748, 'eerily': 0.03827751196172249, 'effect': 0.11802232854864433, 'effected': 0.007177033492822967, 'effecting': 0.005582137161084529, 'effective': 0.04226475279106858, 'effectively': 0.0023923444976076554, 'effectiveness': 0.004784688995215311, 'effects': 0.07655502392344497, 'efficiency': 0.003987240829346092, 'efficient': 0.04704944178628389, 'efficiently': 0.0023923444976076554, 'effort': 0.03907496012759171, 'efforts': 0.06618819776714513, 'eight': 0.007177033492822967, 'eighteen': 0.007177033492822967, 'either': 0.08452950558213716, 'elctoral': 0.003987240829346092, 'elecaion': 0.0007974481658692185, 'elecaoral': 0.0, 'elecatoral': 0.0007974481658692185, 'elecioral': 0.0007974481658692185, 'elecition': 0.001594896331738437, 'elecitoral': 0.0023923444976076554, 'elecitors': 0.0023923444976076554, 'elect': 0.21929824561403508, 'elected': 0.07416267942583732, 'electing': 0.08532695374800638, 'election': 0.3875598086124402, 'elections': 0.1594896331738437, 'electoion': 0.0007974481658692185, 'electooral': 0.0023923444976076554, 'electoors': 0.0023923444976076554, 'elector': 0.06539074960127592, 'electoral': 0.4154704944178628, 'electoralvote': 0.012759170653907496, 'electori': 0.001594896331738437, 'electorial': 0.003189792663476874, 'electoris': 0.0007974481658692185, 'electors': 0.3803827751196172, 'electorsal': 0.01594896331738437, 'electorss': 0.01674641148325359, 'electric': 0.011961722488038277, 'electricity': 0.003189792663476874, 'elects': 0.011164274322169059, 'eligible': 0.017543859649122806, 'eliiabeth': 0.0, 'eliminate': 0.019936204146730464, 'eliminated': 0.007974481658692184, 'eliminates': 0.013556618819776715, 'eliminating': 0.023923444976076555, 'elimination': 0.005582137161084529, 'elisabeth': 0.001594896331738437, 'elizabeth': 0.0007974481658692185, 'else': 0.06140350877192982, 'elses': 0.003189792663476874, 'elsewhere': 0.007177033492822967, 'embraced': 0.003189792663476874, 'embracing': 0.004784688995215311, 'emergency': 0.0023923444976076554, 'emiiiioni': 0.0023923444976076554, 'emission': 0.04146730462519936, 'emissions': 0.2623604465709729, 'emit': 0.019138755980861243, 'emitted': 0.013556618819776715, 'emitting': 0.003189792663476874, 'emmisions': 0.007974481658692184, 'emmisons': 0.003987240829346092, 'emotional': 0.003189792663476874, 'emphasis': 0.003189792663476874, 'emphasizes': 0.007177033492822967, 'empty': 0.01036682615629984, 'enact': 0.004784688995215311, 'enacted': 0.004784688995215311, 'encourage': 0.019936204146730464, 'encouraged': 0.01036682615629984, 'encouragement': 0.004784688995215311, 'encourages': 0.014354066985645933, 'encouraging': 0.007974481658692184, 'end': 0.1507177033492823, 'endangering': 0.004784688995215311, 'ended': 0.015151515151515152, 'ending': 0.006379585326953748, 'endless': 0.007177033492822967, 'ends': 0.007177033492822967, 'energy': 0.009569377990430622, 'enforce': 0.03349282296650718, 'enforced': 0.12200956937799043, 'enforcing': 0.006379585326953748, 'engine': 0.015151515151515152, 'engines': 0.019138755980861243, 'enhance': 0.004784688995215311, 'enjoy': 0.05422647527910686, 'enjoyable': 0.003987240829346092, 'enjoyed': 0.003987240829346092, 'enjoying': 0.011961722488038277, 'enjoys': 0.003987240829346092, 'enormous': 0.01594896331738437, 'enough': 0.19457735247208932, 'enrique': 0.0, 'ensure': 0.030303030303030304, 'ensures': 0.01036682615629984, 'ensuring': 0.007974481658692184, 'enter': 0.003189792663476874, 'enthusiastic': 0.003189792663476874, 'entire': 0.06539074960127592, 'entirely': 0.03269537480063796, 'entirety': 0.003189792663476874, 'entitled': 0.011961722488038277, 'enviorment': 0.0023923444976076554, 'enviornment': 0.007974481658692184, 'enviroment': 0.006379585326953748, 'environment': 0.22488038277511962, 'environmental': 0.04784688995215311, 'environmentally': 0.011164274322169059, 'environments': 0.007974481658692184, 'eonviroonmeont': 0.0007974481658692185, 'epa': 0.0, 'epidemic': 0.004784688995215311, 'equal': 0.07814992025518341, 'equality': 0.013556618819776715, 'equally': 0.013556618819776715, 'equals': 0.014354066985645933, 'equation': 0.0023923444976076554, 'equivalent': 0.003987240829346092, 'era': 0.011961722488038277, 'errands': 0.003189792663476874, 'error': 0.003189792663476874, 'escape': 0.003189792663476874, 'especially': 0.06698564593301436, 'essay': 0.014354066985645933, 'essential': 0.02073365231259968, 'essentially': 0.011961722488038277, 'establish': 0.003987240829346092, 'established': 0.09170653907496013, 'establishing': 0.009569377990430622, 'estimated': 0.004784688995215311, 'etc': 0.0007974481658692185, 'euro': 0.004784688995215311, 'europe': 0.005582137161084529, 'european': 0.003189792663476874, 'euros': 0.005582137161084529, 'evei': 0.001594896331738437, 'even': 0.6259968102073366, 'evenly': 0.004784688995215311, 'evennumbered': 0.05582137161084529, 'evens': 0.004784688995215311, 'event': 0.0685805422647528, 'events': 0.01674641148325359, 'eventually': 0.0342902711323764, 'ever': 0.13078149920255183, 'every': 0.2543859649122807, 'everybody': 0.027910685805422646, 'everyday': 0.0861244019138756, 'everyone': 0.20733652312599682, 'everyones': 0.01674641148325359, 'everything': 0.10287081339712918, 'everywhere': 0.04784688995215311, 'eveyone': 0.003189792663476874, 'evidence': 0.0342902711323764, 'evident': 0.012759170653907496, 'evidently': 0.001594896331738437, 'evils': 0.0023923444976076554, 'evolution': 0.014354066985645933, 'evolving': 0.006379585326953748, 'exact': 0.013556618819776715, 'exactly': 0.03189792663476874, 'example': 0.1810207336523126, 'examples': 0.019936204146730464, 'exceeds': 0.02631578947368421, 'excellent': 0.008771929824561403, 'except': 0.0215311004784689, 'exception': 0.01594896331738437, 'exceptions': 0.009569377990430622, 'excercise': 0.003189792663476874, 'excerpt': 0.01674641148325359, 'excersie': 0.0023923444976076554, 'excersise': 0.004784688995215311, 'excersize': 0.0007974481658692185, 'excess': 0.0023923444976076554, 'excessive': 0.01674641148325359, 'excluding': 0.003987240829346092, 'excuse': 0.007974481658692184, 'executive': 0.017543859649122806, 'executives': 0.007177033492822967, 'exercise': 0.05661881977671451, 'exercising': 0.007177033492822967, 'exhaust': 0.02073365231259968, 'exist': 0.007974481658692184, 'existence': 0.0023923444976076554, 'exists': 0.003189792663476874, 'expand': 0.003189792663476874, 'expanding': 0.003987240829346092, 'expect': 0.029505582137161084, 'expected': 0.023125996810207338, 'expense': 0.003987240829346092, 'expenses': 0.01594896331738437, 'expensive': 0.03668261562998405, 'experience': 0.03189792663476874, 'experienced': 0.011164274322169059, 'experiences': 0.003987240829346092, 'experiencing': 0.004784688995215311, 'experiment': 0.02711323763955343, 'experimental': 0.0215311004784689, 'experiments': 0.005582137161084529, 'experts': 0.011164274322169059, 'expiration': 0.0007974481658692185, 'explain': 0.022328548644338118, 'explained': 0.019936204146730464, 'explaining': 0.01036682615629984, 'explains': 0.05741626794258373, 'explanation': 0.011961722488038277, 'explore': 0.006379585326953748, 'exposed': 0.003987240829346092, 'exposure': 0.003987240829346092, 'express': 0.046251993620414676, 'expressed': 0.007177033492822967, 'extend': 0.004784688995215311, 'extensive': 0.003987240829346092, 'extent': 0.003987240829346092, 'extinct': 0.0023923444976076554, 'extra': 0.0342902711323764, 'extreme': 0.018341307814992026, 'extremely': 0.06618819776714513, 'eye': 0.004784688995215311, 'eyes': 0.012759170653907496, 'f': 0.001594896331738437, 'face': 0.03907496012759171, 'faced': 0.0215311004784689, 'faces': 0.005582137161084529, 'facilitated': 0.01036682615629984, 'facing': 0.011961722488038277, 'fact': 0.1850079744816587, 'factor': 0.07256778309409888, 'factories': 0.009569377990430622, 'factors': 0.023923444976076555, 'facts': 0.023923444976076555, 'fail': 0.014354066985645933, 'failed': 0.005582137161084529, 'failing': 0.001594896331738437, 'failure': 0.003987240829346092, 'fair': 0.17464114832535885, 'fairly': 0.023125996810207338, 'fairness': 0.01036682615629984, 'faith': 0.008771929824561403, 'faithful': 0.004784688995215311, 'faithless': 0.01674641148325359, 'fall': 0.009569377990430622, 'falling': 0.003987240829346092, 'falls': 0.006379585326953748, 'false': 0.01036682615629984, 'familiar': 0.004784688995215311, 'families': 0.09250398724082935, 'family': 0.037480063795853266, 'famous': 0.004784688995215311, 'fantastic': 0.01036682615629984, 'far': 0.07655502392344497, 'farther': 0.003189792663476874, 'fast': 0.03110047846889952, 'faster': 0.03588516746411483, 'fastest': 0.003189792663476874, 'fat': 0.003189792663476874, 'fatal': 0.006379585326953748, 'fate': 0.027910685805422646, 'father': 0.007974481658692184, 'fathers': 0.09888357256778309, 'fault': 0.007974481658692184, 'faults': 0.008771929824561403, 'faulty': 0.008771929824561403, 'favor': 0.10606060606060606, 'favored': 0.01594896331738437, 'favoring': 0.005582137161084529, 'favorite': 0.024720893141945772, 'favoritism': 0.0023923444976076554, 'favors': 0.023923444976076555, 'fear': 0.01036682615629984, 'features': 0.0023923444976076554, 'federal': 0.015151515151515152, 'fee': 0.004784688995215311, 'feel': 0.19298245614035087, 'feeling': 0.028708133971291867, 'feelings': 0.003987240829346092, 'feels': 0.0215311004784689, 'feet': 0.007974481658692184, 'fellow': 0.027910685805422646, 'felt': 0.019138755980861243, 'fewer': 0.11004784688995216, 'fiasco': 0.028708133971291867, 'field': 0.003987240829346092, 'fifteen': 0.003987240829346092, 'fifth': 0.003987240829346092, 'fifty': 0.030303030303030304, 'fiftyseven': 0.006379585326953748, 'fight': 0.009569377990430622, 'fighting': 0.011164274322169059, 'figure': 0.012759170653907496, 'figures': 0.005582137161084529, 'fill': 0.014354066985645933, 'filled': 0.019138755980861243, 'filling': 0.007974481658692184, 'final': 0.04784688995215311, 'finally': 0.03189792663476874, 'financial': 0.008771929824561403, 'financially': 0.003987240829346092, 'find': 0.10845295055821372, 'finding': 0.024720893141945772, 'finds': 0.009569377990430622, 'fine': 0.06778309409888357, 'fined': 0.05980861244019139, 'fines': 0.017543859649122806, 'fining': 0.006379585326953748, 'finish': 0.003189792663476874, 'finished': 0.007974481658692184, 'fiom': 0.0007974481658692185, 'fire': 0.003987240829346092, 'first': 0.18341307814992025, 'firstly': 0.0, 'fit': 0.02631578947368421, 'five': 0.09409888357256778, 'fivedays': 0.04066985645933014, 'fix': 0.03987240829346093, 'fixed': 0.01674641148325359, 'fixing': 0.007177033492822967, 'flat': 0.005582137161084529, 'flaw': 0.01036682615629984, 'flawed': 0.017543859649122806, 'flaws': 0.03349282296650718, 'flexible': 0.012759170653907496, 'florida': 0.005582137161084529, 'flourish': 0.001594896331738437, 'flow': 0.004784688995215311, 'flying': 0.003189792663476874, 'fo': 0.007177033492822967, 'focus': 0.10845295055821372, 'focused': 0.019138755980861243, 'focuses': 0.008771929824561403, 'focusing': 0.05582137161084529, 'fog': 0.011961722488038277, 'foi': 0.0007974481658692185, 'follow': 0.03349282296650718, 'followed': 0.004784688995215311, 'following': 0.046251993620414676, 'follows': 0.006379585326953748, 'food': 0.017543859649122806, 'foor': 0.0007974481658692185, 'foot': 0.008771929824561403, 'footprint': 0.001594896331738437, 'forbidden': 0.023923444976076555, 'forbidding': 0.003987240829346092, 'force': 0.004784688995215311, 'forced': 0.022328548644338118, 'forces': 0.011961722488038277, 'forcing': 0.006379585326953748, 'ford': 0.0007974481658692185, 'fore': 0.003189792663476874, 'foreign': 0.003189792663476874, 'foremost': 0.0023923444976076554, 'forever': 0.004784688995215311, 'forget': 0.015151515151515152, 'form': 0.058213716108452954, 'formed': 0.004784688995215311, 'former': 0.01036682615629984, 'forms': 0.045454545454545456, 'forth': 0.011164274322169059, 'fortuitous': 0.006379585326953748, 'forty': 0.01036682615629984, 'forward': 0.019138755980861243, 'fossil': 0.023923444976076555, 'fostering': 0.003987240829346092, 'fought': 0.004784688995215311, 'found': 0.08293460925039872, 'foundation': 0.007974481658692184, 'founded': 0.014354066985645933, 'founding': 0.11961722488038277, 'four': 0.0773524720893142, 'fourteen': 0.001594896331738437, 'fourth': 0.007177033492822967, 'france': 0.012759170653907496, 'francisco': 0.0, 'frankly': 0.003987240829346092, 'fraud': 0.0023923444976076554, 'free': 0.15789473684210525, 'freedom': 0.03907496012759171, 'freely': 0.003189792663476874, 'freiburg': 0.0, 'french': 0.003987240829346092, 'frequently': 0.003987240829346092, 'fresh': 0.03508771929824561, 'friday': 0.0007974481658692185, 'friend': 0.014354066985645933, 'friendly': 0.008771929824561403, 'friends': 0.04784688995215311, 'fro': 0.003987240829346092, 'front': 0.01036682615629984, 'frustrated': 0.005582137161084529, 'frustrating': 0.005582137161084529, 'fuel': 0.0685805422647528, 'fuels': 0.019138755980861243, 'fulfill': 0.003189792663476874, 'full': 0.04146730462519936, 'fully': 0.012759170653907496, 'fumes': 0.01674641148325359, 'fun': 0.02711323763955343, 'function': 0.0023923444976076554, 'functionality': 0.0007974481658692185, 'functioning': 0.0023923444976076554, 'fundamental': 0.005582137161084529, 'furthermore': 0.004784688995215311, 'future': 0.09888357256778309, 'gai': 0.003189792663476874, 'gain': 0.03110047846889952, 'gained': 0.009569377990430622, 'gaining': 0.011164274322169059, 'gains': 0.011961722488038277, 'gallon': 0.0023923444976076554, 'gallons': 0.005582137161084529, 'gallop': 0.028708133971291867, 'gallup': 0.0, 'game': 0.01036682615629984, 'garage': 0.024720893141945772, 'garages': 0.050239234449760764, 'gas': 0.3317384370015949, 'gases': 0.09649122807017543, 'gasoline': 0.030303030303030304, 'gass': 0.004784688995215311, 'gasses': 0.03508771929824561, 'gather': 0.004784688995215311, 'gave': 0.023125996810207338, 'general': 0.028708133971291867, 'generally': 0.03827751196172249, 'generating': 0.015151515151515152, 'generation': 0.02711323763955343, 'generations': 0.0215311004784689, 'george': 0.001594896331738437, 'german': 0.007974481658692184, 'germany': 0.003987240829346092, 'get': 0.6140350877192983, 'geto': 0.0023923444976076554, 'gets': 0.1291866028708134, 'getting': 0.2966507177033493, 'give': 0.18181818181818182, 'given': 0.13078149920255183, 'gives': 0.08692185007974482, 'giving': 0.08373205741626795, 'global': 0.15311004784688995, 'globally': 0.003987240829346092, 'globe': 0.019936204146730464, 'go': 0.42025518341307816, 'goal': 0.07097288676236045, 'goals': 0.025518341307814992, 'god': 0.001594896331738437, 'goes': 0.1507177033492823, 'going': 0.33413078149920256, 'goldberg': 0.0007974481658692185, 'gon': 0.0, 'gone': 0.09569377990430622, 'good': 0.4003189792663477, 'goodbye': 0.003987240829346092, 'goods': 0.003189792663476874, 'gore': 0.003987240829346092, 'gorethanks': 0.0, 'got': 0.09250398724082935, 'gote': 0.0007974481658692185, 'gotes': 0.0007974481658692185, 'gotten': 0.025518341307814992, 'goverment': 0.005582137161084529, 'govern': 0.007177033492822967, 'governed': 0.0023923444976076554, 'government': 0.14433811802232854, 'governments': 0.011164274322169059, 'governor': 0.005582137161084529, 'gradually': 0.006379585326953748, 'grand': 0.005582137161084529, 'granted': 0.007974481658692184, 'gray': 0.007177033492822967, 'great': 0.22328548644338117, 'greater': 0.0342902711323764, 'greatest': 0.017543859649122806, 'greatly': 0.07496012759170653, 'green': 0.044657097288676235, 'greener': 0.007177033492822967, 'greenhouie': 0.0023923444976076554, 'greenhouse': 0.25996810207336524, 'grey': 0.004784688995215311, 'groceries': 0.003987240829346092, 'grocery': 0.0215311004784689, 'ground': 0.007974481658692184, 'group': 0.06778309409888357, 'groups': 0.008771929824561403, 'grow': 0.019138755980861243, 'growing': 0.04704944178628389, 'grown': 0.009569377990430622, 'grows': 0.0023923444976076554, 'growth': 0.004784688995215311, 'guarantee': 0.011961722488038277, 'guaranteed': 0.007177033492822967, 'guarantees': 0.003189792663476874, 'guess': 0.005582137161084529, 'guy': 0.01036682615629984, 'guys': 0.004784688995215311, 'gym': 0.003189792663476874, 'haa': 0.0007974481658692185, 'habit': 0.007177033492822967, 'habits': 0.007177033492822967, 'hai': 0.003189792663476874, 'hais': 0.001594896331738437, 'half': 0.06778309409888357, 'hand': 0.03189792663476874, 'handed': 0.003987240829346092, 'handful': 0.004784688995215311, 'handle': 0.006379585326953748, 'handled': 0.0023923444976076554, 'hands': 0.050239234449760764, 'handy': 0.006379585326953748, 'hang': 0.007974481658692184, 'hanging': 0.005582137161084529, 'hao': 0.0007974481658692185, 'happen': 0.15151515151515152, 'happend': 0.003189792663476874, 'happened': 0.09968102073365231, 'happening': 0.03588516746411483, 'happens': 0.05342902711323764, 'happier': 0.21610845295055822, 'happiness': 0.007974481658692184, 'happy': 0.043859649122807015, 'hard': 0.07814992025518341, 'harder': 0.018341307814992026, 'hardly': 0.03349282296650718, 'harm': 0.046251993620414676, 'harmful': 0.07017543859649122, 'harming': 0.01674641148325359, 'harms': 0.011164274322169059, 'harsh': 0.007177033492822967, 'hasnt': 0.003987240829346092, 'hassle': 0.006379585326953748, 'hat': 0.003189792663476874, 'hate': 0.006379585326953748, 'hawaii': 0.003987240829346092, 'hazard': 0.0023923444976076554, 'hazardous': 0.009569377990430622, 'hazards': 0.003189792663476874, 'head': 0.013556618819776715, 'headed': 0.003987240829346092, 'heading': 0.003189792663476874, 'heads': 0.003189792663476874, 'health': 0.08931419457735247, 'healthcare': 0.003987240829346092, 'healthe': 0.0023923444976076554, 'healtheier': 0.003189792663476874, 'healthier': 0.10925039872408293, 'healthy': 0.06299840510366826, 'hear': 0.04864433811802233, 'heard': 0.03827751196172249, 'hearing': 0.011164274322169059, 'heart': 0.008771929824561403, 'heat': 0.011164274322169059, 'heathier': 0.003189792663476874, 'heavily': 0.04066985645933014, 'heavy': 0.028708133971291867, 'hectic': 0.003987240829346092, 'heidrum': 0.0, 'heidrun': 0.0023923444976076554, 'held': 0.027910685805422646, 'hello': 0.003189792663476874, 'help': 0.3484848484848485, 'helped': 0.04704944178628389, 'helpful': 0.03508771929824561, 'helping': 0.07017543859649122, 'helps': 0.11881977671451356, 'hence': 0.0023923444976076554, 'henry': 0.0, 'heshe': 0.01594896331738437, 'high': 0.07575757575757576, 'higher': 0.04864433811802233, 'highest': 0.01594896331738437, 'highlighted': 0.006379585326953748, 'highlights': 0.003987240829346092, 'highly': 0.05342902711323764, 'highway': 0.011961722488038277, 'highways': 0.03269537480063796, 'hike': 0.004784688995215311, 'hiked': 0.0023923444976076554, 'hiking': 0.005582137161084529, 'himher': 0.0007974481658692185, 'hisher': 0.007177033492822967, 'historical': 0.006379585326953748, 'history': 0.01594896331738437, 'hit': 0.10287081339712918, 'hitting': 0.005582137161084529, 'hold': 0.03907496012759171, 'holding': 0.029505582137161084, 'holds': 0.008771929824561403, 'hole': 0.006379585326953748, 'holes': 0.009569377990430622, 'holiday': 0.007177033492822967, 'home': 0.13476874003189793, 'homes': 0.012759170653907496, 'honest': 0.009569377990430622, 'honestly': 0.01036682615629984, 'honesty': 0.003189792663476874, 'honking': 0.007177033492822967, 'hop': 0.007974481658692184, 'hope': 0.08851674641148326, 'hopefully': 0.0215311004784689, 'hopes': 0.008771929824561403, 'hoping': 0.005582137161084529, 'horns': 0.006379585326953748, 'horrible': 0.01594896331738437, 'hospital': 0.004784688995215311, 'hot': 0.007974481658692184, 'hour': 0.03110047846889952, 'hours': 0.018341307814992026, 'house': 0.08293460925039872, 'household': 0.014354066985645933, 'houses': 0.014354066985645933, 'housing': 0.003189792663476874, 'however': 0.03987240829346093, 'huge': 0.14832535885167464, 'human': 0.046251993620414676, 'humanity': 0.003189792663476874, 'humans': 0.046251993620414676, 'hundred': 0.03508771929824561, 'hundreds': 0.028708133971291867, 'hungry': 0.003189792663476874, 'hurry': 0.003189792663476874, 'hurt': 0.03269537480063796, 'hurting': 0.019936204146730464, 'hurts': 0.01036682615629984, 'hybrid': 0.014354066985645933, 'hybrids': 0.003987240829346092, 'ia': 0.0023923444976076554, 'iat': 0.0007974481658692185, 'iay': 0.0023923444976076554, 'ice': 0.008771929824561403, 'idea': 0.20095693779904306, 'ideal': 0.015151515151515152, 'ideals': 0.005582137161084529, 'ideas': 0.0342902711323764, 'ie': 0.0007974481658692185, 'ielected': 0.0007974481658692185, 'ignore': 0.01594896331738437, 'ignored': 0.011164274322169059, 'ignores': 0.003987240829346092, 'ignoring': 0.011164274322169059, 'ihai': 0.0007974481658692185, 'ihe': 0.0023923444976076554, 'ihey': 0.0007974481658692185, 'ihould': 0.0023923444976076554, 'ii': 0.006379585326953748, 'iis': 0.001594896331738437, 'iit': 0.0023923444976076554, 'illnesses': 0.001594896331738437, 'illogical': 0.0023923444976076554, 'im': 0.012759170653907496, 'image': 0.003189792663476874, 'imagine': 0.0685805422647528, 'immediately': 0.011961722488038277, 'immense': 0.004784688995215311, 'immensely': 0.004784688995215311, 'immortalized': 0.003987240829346092, 'imog': 0.001594896331738437, 'impact': 0.09409888357256778, 'impacted': 0.008771929824561403, 'impactful': 0.0023923444976076554, 'impacts': 0.02073365231259968, 'impediment': 0.023125996810207338, 'imperative': 0.006379585326953748, 'implement': 0.005582137161084529, 'implemented': 0.014354066985645933, 'implementing': 0.007974481658692184, 'implications': 0.05582137161084529, 'implies': 0.004784688995215311, 'importance': 0.014354066985645933, 'important': 0.1674641148325359, 'importantly': 0.006379585326953748, 'imposed': 0.003189792663476874, 'impossible': 0.025518341307814992, 'impounded': 0.022328548644338118, 'impractical': 0.011164274322169059, 'improve': 0.1076555023923445, 'improved': 0.03588516746411483, 'improvement': 0.03508771929824561, 'improvements': 0.015151515151515152, 'improves': 0.015151515151515152, 'improving': 0.024720893141945772, 'inaccurate': 0.0023923444976076554, 'incentive': 0.027910685805422646, 'incident': 0.007974481658692184, 'incidents': 0.007974481658692184, 'incipient': 0.008771929824561403, 'inclined': 0.004784688995215311, 'include': 0.03668261562998405, 'included': 0.008771929824561403, 'includes': 0.01594896331738437, 'including': 0.08452950558213716, 'inconvenient': 0.003189792663476874, 'increase': 0.07017543859649122, 'increased': 0.027910685805422646, 'increases': 0.014354066985645933, 'increasing': 0.0430622009569378, 'increasingly': 0.008771929824561403, 'incredible': 0.007177033492822967, 'incredibly': 0.008771929824561403, 'indeed': 0.009569377990430622, 'indefensible': 0.017543859649122806, 'independence': 0.003189792663476874, 'independent': 0.003987240829346092, 'indirect': 0.004784688995215311, 'indirectly': 0.003987240829346092, 'individual': 0.05661881977671451, 'individually': 0.003189792663476874, 'individuals': 0.025518341307814992, 'induces': 0.01036682615629984, 'industrial': 0.005582137161084529, 'industries': 0.003987240829346092, 'industry': 0.025518341307814992, 'ineffective': 0.003189792663476874, 'inefficient': 0.0007974481658692185, 'inequality': 0.001594896331738437, 'inevitable': 0.003987240829346092, 'infact': 0.003189792663476874, 'infamous': 0.003987240829346092, 'influence': 0.023923444976076555, 'influenced': 0.006379585326953748, 'influential': 0.003987240829346092, 'inform': 0.011164274322169059, 'information': 0.058213716108452954, 'informed': 0.019936204146730464, 'informs': 0.01036682615629984, 'infrastructure': 0.0007974481658692185, 'inhabitants': 0.01036682615629984, 'inhale': 0.005582137161084529, 'inherent': 0.003987240829346092, 'initially': 0.001594896331738437, 'initiative': 0.011164274322169059, 'initiatives': 0.003987240829346092, 'injured': 0.006379585326953748, 'injuries': 0.005582137161084529, 'injury': 0.003189792663476874, 'injustice': 0.006379585326953748, 'innocent': 0.004784688995215311, 'innovation': 0.001594896331738437, 'innovations': 0.0023923444976076554, 'innovative': 0.005582137161084529, 'inorder': 0.0023923444976076554, 'input': 0.008771929824561403, 'insane': 0.0023923444976076554, 'inside': 0.011164274322169059, 'insights': 0.003987240829346092, 'insignificant': 0.001594896331738437, 'inspired': 0.005582137161084529, 'instance': 0.013556618819776715, 'instances': 0.015151515151515152, 'instead': 0.215311004784689, 'insted': 0.005582137161084529, 'institute': 0.001594896331738437, 'insurance': 0.019138755980861243, 'insure': 0.003189792663476874, 'int': 0.005582137161084529, 'intact': 0.0023923444976076554, 'integrity': 0.0023923444976076554, 'intended': 0.003987240829346092, 'intense': 0.012759170653907496, 'intensifying': 0.07177033492822966, 'intensive': 0.018341307814992026, 'intentions': 0.003987240829346092, 'interact': 0.007974481658692184, 'interaction': 0.007974481658692184, 'interactions': 0.003987240829346092, 'interest': 0.03668261562998405, 'interested': 0.01674641148325359, 'interesting': 0.011961722488038277, 'interests': 0.011961722488038277, 'international': 0.007974481658692184, 'internet': 0.01674641148325359, 'intrigues': 0.007974481658692184, 'introduce': 0.004784688995215311, 'introduced': 0.006379585326953748, 'invariably': 0.024720893141945772, 'invented': 0.003189792663476874, 'invention': 0.01594896331738437, 'inventions': 0.007974481658692184, 'invest': 0.006379585326953748, 'investment': 0.007974481658692184, 'involved': 0.02073365231259968, 'involves': 0.009569377990430622, 'involving': 0.004784688995215311, 'io': 0.004784688995215311, 'iome': 0.0023923444976076554, 'iot': 0.0007974481658692185, 'irrational': 0.03588516746411483, 'irrelevant': 0.0023923444976076554, 'isayis': 0.0007974481658692185, 'island': 0.0023923444976076554, 'isnt': 0.025518341307814992, 'issue': 0.08771929824561403, 'issued': 0.006379585326953748, 'issues': 0.05422647527910686, 'isyistem': 0.0007974481658692185, 'itate': 0.0023923444976076554, 'itatei': 0.0023923444976076554, 'item': 0.001594896331738437, 'items': 0.0023923444976076554, 'ithait': 0.0023923444976076554, 'ithe': 0.0023923444976076554, 'itheir': 0.0023923444976076554, 'ithey': 0.001594896331738437, 'ithis': 0.001594896331738437, 'itie': 0.0007974481658692185, 'ito': 0.005582137161084529, 'itreii': 0.0023923444976076554, 'itrusit': 0.0007974481658692185, 'iuburbi': 0.003189792663476874, 'iut': 0.0007974481658692185, 'iy': 0.0007974481658692185, 'jam': 0.009569377990430622, 'jams': 0.049441786283891544, 'january': 0.0007974481658692185, 'jimmy': 0.0, 'job': 0.04146730462519936, 'jobs': 0.04146730462519936, 'jog': 0.0023923444976076554, 'john': 0.001594896331738437, 'join': 0.015151515151515152, 'joined': 0.02711323763955343, 'joining': 0.004784688995215311, 'jones': 0.0, 'journey': 0.003189792663476874, 'joy': 0.003189792663476874, 'judge': 0.0007974481658692185, 'judgement': 0.003189792663476874, 'juit': 0.0023923444976076554, 'jump': 0.005582137161084529, 'jumping': 0.003987240829346092, 'justice': 0.003189792663476874, 'justified': 0.003189792663476874, 'keep': 0.2543859649122807, 'keeping': 0.07097288676236045, 'keeps': 0.04066985645933014, 'kennedy': 0.001594896331738437, 'kept': 0.029505582137161084, 'kerry': 0.001594896331738437, 'key': 0.025518341307814992, 'keys': 0.007177033492822967, 'kid': 0.003987240829346092, 'kids': 0.0342902711323764, 'kill': 0.011961722488038277, 'killed': 0.003189792663476874, 'killing': 0.0215311004784689, 'kind': 0.08851674641148326, 'kinds': 0.007177033492822967, 'knew': 0.015151515151515152, 'knit': 0.0023923444976076554, 'knock': 0.003987240829346092, 'know': 0.3492822966507177, 'knowing': 0.06299840510366826, 'knowledge': 0.0215311004784689, 'known': 0.11802232854864433, 'knows': 0.043859649122807015, 'lack': 0.049441786283891544, 'lacks': 0.003987240829346092, 'laid': 0.01594896331738437, 'land': 0.0215311004784689, 'landslide': 0.02073365231259968, 'lanes': 0.0023923444976076554, 'large': 0.20733652312599682, 'largely': 0.011961722488038277, 'larger': 0.07655502392344497, 'largest': 0.12041467304625199, 'last': 0.11403508771929824, 'lastly': 0.007177033492822967, 'late': 0.04226475279106858, 'lately': 0.0023923444976076554, 'later': 0.0215311004784689, 'latin': 0.0007974481658692185, 'law': 0.037480063795853266, 'laws': 0.03269537480063796, 'layer': 0.0430622009569378, 'layers': 0.003987240829346092, 'laziness': 0.001594896331738437, 'lazy': 0.023923444976076555, 'lead': 0.11562998405103668, 'leader': 0.0430622009569378, 'leaders': 0.025518341307814992, 'leading': 0.04704944178628389, 'leads': 0.044657097288676235, 'learn': 0.01674641148325359, 'learned': 0.007974481658692184, 'learning': 0.006379585326953748, 'least': 0.058213716108452954, 'leave': 0.11004784688995216, 'leaves': 0.01594896331738437, 'leaving': 0.08054226475279107, 'led': 0.022328548644338118, 'left': 0.05582137161084529, 'legal': 0.007974481658692184, 'legally': 0.003189792663476874, 'legislative': 0.004784688995215311, 'legislators': 0.017543859649122806, 'legislature': 0.05741626794258373, 'legislatures': 0.04784688995215311, 'legitimate': 0.003189792663476874, 'legs': 0.003987240829346092, 'leii': 0.0023923444976076554, 'leisis': 0.0007974481658692185, 'lengthy': 0.004784688995215311, 'less': 0.4704944178628389, 'lessen': 0.011961722488038277, 'lessened': 0.006379585326953748, 'lessening': 0.01036682615629984, 'lesser': 0.008771929824561403, 'let': 0.10127591706539076, 'lets': 0.043859649122807015, 'letter': 0.03349282296650718, 'letting': 0.03110047846889952, 'level': 0.025518341307814992, 'levels': 0.051834130781499205, 'liberal': 0.003987240829346092, 'liberty': 0.003189792663476874, 'licence': 0.011961722488038277, 'licences': 0.003987240829346092, 'licens': 0.0007974481658692185, 'license': 0.1251993620414673, 'licenses': 0.07017543859649122, 'lie': 0.01036682615629984, 'lied': 0.0023923444976076554, 'lies': 0.01594896331738437, 'life': 0.20494417862838915, 'lifes': 0.011164274322169059, 'lifestyle': 0.02711323763955343, 'lifestyles': 0.005582137161084529, 'lift': 0.007177033492822967, 'lifted': 0.01674641148325359, 'light': 0.011164274322169059, 'lights': 0.003987240829346092, 'like': 0.5342902711323764, 'liked': 0.01036682615629984, 'likely': 0.15151515151515152, 'likes': 0.011961722488038277, 'likewise': 0.0007974481658692185, 'liking': 0.003189792663476874, 'likley': 0.005582137161084529, 'limit': 0.17065390749601275, 'limitation': 0.02711323763955343, 'limitations': 0.018341307814992026, 'limited': 0.11483253588516747, 'limiting': 0.3189792663476874, 'limits': 0.024720893141945772, 'limting': 0.006379585326953748, 'linchpin': 0.003987240829346092, 'lincoln': 0.0007974481658692185, 'line': 0.019936204146730464, 'lines': 0.008771929824561403, 'liscense': 0.003987240829346092, 'list': 0.01594896331738437, 'listed': 0.006379585326953748, 'listen': 0.04864433811802233, 'listening': 0.006379585326953748, 'lists': 0.003987240829346092, 'literally': 0.005582137161084529, 'litotole': 0.001594896331738437, 'little': 0.14832535885167464, 'livable': 0.0023923444976076554, 'live': 0.24162679425837322, 'lived': 0.0215311004784689, 'lives': 0.094896331738437, 'living': 0.11483253588516747, 'load': 0.003987240829346092, 'local': 0.030303030303030304, 'located': 0.011961722488038277, 'location': 0.009569377990430622, 'locations': 0.009569377990430622, 'locked': 0.003189792663476874, 'logic': 0.0023923444976076554, 'logical': 0.007974481658692184, 'logically': 0.0007974481658692185, 'london': 0.001594896331738437, 'long': 0.15390749601275916, 'longer': 0.08452950558213716, 'longterm': 0.013556618819776715, 'look': 0.09330143540669857, 'looked': 0.009569377990430622, 'looking': 0.030303030303030304, 'looks': 0.01036682615629984, 'loopholes': 0.0023923444976076554, 'loose': 0.01036682615629984, 'loosing': 0.003189792663476874, 'lose': 0.09090909090909091, 'loser': 0.0023923444976076554, 'loses': 0.008771929824561403, 'losing': 0.027910685805422646, 'loss': 0.011961722488038277, 'lost': 0.12679425837320574, 'lot': 0.19059011164274323, 'lots': 0.02631578947368421, 'loud': 0.009569377990430622, 'louisiana': 0.013556618819776715, 'love': 0.04704944178628389, 'loved': 0.005582137161084529, 'low': 0.023923444976076555, 'lowcar': 0.012759170653907496, 'lower': 0.21690590111642744, 'lowered': 0.01674641148325359, 'lowering': 0.0342902711323764, 'lowers': 0.015151515151515152, 'loyal': 0.005582137161084529, 'loyalty': 0.003189792663476874, 'luckily': 0.0023923444976076554, 'lucky': 0.0215311004784689, 'lunch': 0.003189792663476874, 'lung': 0.003189792663476874, 'lungs': 0.011961722488038277, 'luxury': 0.01036682615629984, 'lying': 0.004784688995215311, 'machine': 0.005582137161084529, 'machines': 0.009569377990430622, 'mad': 0.009569377990430622, 'made': 0.20175438596491227, 'magazine': 0.001594896331738437, 'main': 0.1339712918660287, 'maine': 0.0, 'mainly': 0.030303030303030304, 'maintain': 0.015151515151515152, 'maintaining': 0.008771929824561403, 'maintenance': 0.0023923444976076554, 'major': 0.12998405103668262, 'majoriay': 0.0007974481658692185, 'majority': 0.24561403508771928, 'majorly': 0.011164274322169059, 'make': 0.4649122807017544, 'makes': 0.21770334928229665, 'making': 0.20414673046251994, 'malapportionment': 0.019138755980861243, 'mall': 0.019138755980861243, 'malls': 0.03110047846889952, 'man': 0.03907496012759171, 'manage': 0.006379585326953748, 'manages': 0.003987240829346092, 'mandatory': 0.003987240829346092, 'manipulated': 0.004784688995215311, 'mankind': 0.003987240829346092, 'manner': 0.004784688995215311, 'many': 0.6259968102073366, 'map': 0.003189792663476874, 'margin': 0.008771929824561403, 'market': 0.003987240829346092, 'markets': 0.04864433811802233, 'mask': 0.003987240829346092, 'masks': 0.003189792663476874, 'mass': 0.017543859649122806, 'masses': 0.004784688995215311, 'massive': 0.01674641148325359, 'matter': 0.16985645933014354, 'matters': 0.01674641148325359, 'may': 0.4138755980861244, 'maybe': 0.08851674641148326, 'mayor': 0.015151515151515152, 'mcdonald': 0.0, 'mean': 0.11562998405103668, 'meani': 0.0007974481658692185, 'meaning': 0.050239234449760764, 'means': 0.26395534290271133, 'meant': 0.014354066985645933, 'meanwhile': 0.0023923444976076554, 'measures': 0.005582137161084529, 'media': 0.12280701754385964, 'meet': 0.03349282296650718, 'meeting': 0.04864433811802233, 'meeto': 0.0007974481658692185, 'melt': 0.004784688995215311, 'melting': 0.003189792663476874, 'member': 0.023125996810207338, 'members': 0.03189792663476874, 'men': 0.01594896331738437, 'mental': 0.012759170653907496, 'mentally': 0.006379585326953748, 'mention': 0.0215311004784689, 'mentioned': 0.03269537480063796, 'mentions': 0.01594896331738437, 'mercedes': 0.0007974481658692185, 'mere': 0.01674641148325359, 'merely': 0.003987240829346092, 'mess': 0.011164274322169059, 'messed': 0.007177033492822967, 'met': 0.0023923444976076554, 'metal': 0.003987240829346092, 'meter': 0.03110047846889952, 'metheod': 0.003189792663476874, 'method': 0.18819776714513556, 'methods': 0.04066985645933014, 'metro': 0.001594896331738437, 'mexico': 0.0, 'miami': 0.0, 'michael': 0.0, 'michigan': 0.0, 'micrograms': 0.04784688995215311, 'mid': 0.009569377990430622, 'middle': 0.022328548644338118, 'middleclass': 0.004784688995215311, 'might': 0.21690590111642744, 'mile': 0.01674641148325359, 'miles': 0.11004784688995216, 'million': 0.0685805422647528, 'millions': 0.09090909090909091, 'mimi': 0.0007974481658692185, 'mind': 0.06698564593301436, 'minds': 0.015151515151515152, 'mindset': 0.005582137161084529, 'mine': 0.003189792663476874, 'minimize': 0.007177033492822967, 'minimizing': 0.003987240829346092, 'minimum': 0.0023923444976076554, 'miniscule': 0.004784688995215311, 'minor': 0.006379585326953748, 'minority': 0.013556618819776715, 'minute': 0.01594896331738437, 'minutes': 0.018341307814992026, 'mishaps': 0.003189792663476874, 'misrepresented': 0.001594896331738437, 'miss': 0.005582137161084529, 'missing': 0.003987240829346092, 'mistake': 0.008771929824561403, 'mistakes': 0.012759170653907496, 'mitt': 0.0, 'mix': 0.004784688995215311, 'mixed': 0.004784688995215311, 'mobile': 0.003987240829346092, 'mobility': 0.004784688995215311, 'mockus': 0.0, 'mode': 0.014354066985645933, 'model': 0.007974481658692184, 'models': 0.003189792663476874, 'modern': 0.06140350877192982, 'moderon': 0.0007974481658692185, 'modes': 0.014354066985645933, 'modified': 0.003189792663476874, 'moit': 0.003189792663476874, 'mom': 0.004784688995215311, 'moment': 0.015151515151515152, 'moments': 0.0023923444976076554, 'moms': 0.007974481658692184, 'monday': 0.011164274322169059, 'mondays': 0.001594896331738437, 'money': 0.18819776714513556, 'monoxide': 0.003987240829346092, 'montana': 0.0007974481658692185, 'month': 0.009569377990430622, 'monthly': 0.003987240829346092, 'months': 0.007974481658692184, 'mood': 0.003987240829346092, 'moods': 0.0007974481658692185, 'moreover': 0.0, 'morning': 0.012759170653907496, 'mostly': 0.050239234449760764, 'mother': 0.08054226475279107, 'mothers': 0.0023923444976076554, 'motion': 0.003987240829346092, 'motivated': 0.003987240829346092, 'motivation': 0.003189792663476874, 'motor': 0.044657097288676235, 'motorcycles': 0.003189792663476874, 'motorist': 0.007974481658692184, 'motorists': 0.037480063795853266, 'motorized': 0.01036682615629984, 'motors': 0.003987240829346092, 'move': 0.09808612440191387, 'moved': 0.01036682615629984, 'movement': 0.030303030303030304, 'movemeont': 0.0007974481658692185, 'movies': 0.003189792663476874, 'moving': 0.02073365231259968, 'mr': 0.0, 'much': 0.5821371610845295, 'multiple': 0.044657097288676235, 'multitude': 0.004784688995215311, 'municipal': 0.003987240829346092, 'music': 0.003987240829346092, 'must': 0.13556618819776714, 'mustang': 0.0007974481658692185, 'musto': 0.001594896331738437, 'myriad': 0.003987240829346092, 'na': 0.0, 'name': 0.023125996810207338, 'named': 0.0215311004784689, 'names': 0.006379585326953748, 'narrow': 0.003987240829346092, 'nasty': 0.007177033492822967, 'nation': 0.07655502392344497, 'national': 0.04226475279106858, 'nations': 0.013556618819776715, 'nationwide': 0.019936204146730464, 'natural': 0.015151515151515152, 'naturally': 0.004784688995215311, 'nature': 0.023923444976076555, 'near': 0.050239234449760764, 'nearby': 0.004784688995215311, 'nearest': 0.009569377990430622, 'nearly': 0.10366826156299841, 'nearrecord': 0.09250398724082935, 'nebraska': 0.0, 'necessarily': 0.02073365231259968, 'necessary': 0.03827751196172249, 'necessities': 0.0023923444976076554, 'necessity': 0.01594896331738437, 'need': 0.3580542264752791, 'needed': 0.0733652312599681, 'needing': 0.008771929824561403, 'needs': 0.12041467304625199, 'negative': 0.06539074960127592, 'negatively': 0.005582137161084529, 'negatives': 0.005582137161084529, 'neighbor': 0.003189792663476874, 'neighborhood': 0.008771929824561403, 'neighborhoods': 0.003189792663476874, 'neighbors': 0.004784688995215311, 'neither': 0.013556618819776715, 'net': 0.004784688995215311, 'network': 0.037480063795853266, 'never': 0.10287081339712918, 'nevertheless': 0.007177033492822967, 'new': 0.3668261562998405, 'newer': 0.003987240829346092, 'news': 0.024720893141945772, 'next': 0.14513556618819776, 'nice': 0.03907496012759171, 'nicer': 0.003189792663476874, 'night': 0.007177033492822967, 'nights': 0.023125996810207338, 'nine': 0.007177033492822967, 'nixon': 0.003987240829346092, 'noa': 0.0007974481658692185, 'nobody': 0.013556618819776715, 'noi': 0.0007974481658692185, 'noise': 0.007974481658692184, 'noises': 0.003987240829346092, 'noit': 0.0023923444976076554, 'nominee': 0.023923444976076555, 'non': 0.011164274322169059, 'nondemocratic': 0.022328548644338118, 'none': 0.01036682615629984, 'nonexistent': 0.0007974481658692185, 'nonrenewable': 0.003987240829346092, 'nonswing': 0.004784688995215311, 'noone': 0.003189792663476874, 'normal': 0.023923444976076555, 'normally': 0.01674641148325359, 'north': 0.0023923444976076554, 'northeast': 0.0, 'note': 0.001594896331738437, 'noted': 0.003987240829346092, 'notes': 0.003189792663476874, 'nothing': 0.06539074960127592, 'notice': 0.025518341307814992, 'noticeable': 0.006379585326953748, 'noticed': 0.014354066985645933, 'noticing': 0.003987240829346092, 'noto': 0.0023923444976076554, 'november': 0.0, 'nowadays': 0.005582137161084529, 'number': 0.24880382775119617, 'numbered': 0.04784688995215311, 'numbers': 0.04226475279106858, 'numerous': 0.024720893141945772, 'obama': 0.0023923444976076554, 'obese': 0.009569377990430622, 'obesity': 0.0215311004784689, 'objects': 0.003189792663476874, 'observed': 0.003987240829346092, 'obsolete': 0.003189792663476874, 'obtain': 0.006379585326953748, 'obtaining': 0.006379585326953748, 'obvious': 0.024720893141945772, 'obviously': 0.022328548644338118, 'occasion': 0.003189792663476874, 'occasional': 0.03110047846889952, 'occasionally': 0.046251993620414676, 'occasions': 0.003987240829346092, 'occur': 0.03987240829346093, 'occurance': 0.003987240829346092, 'occured': 0.007177033492822967, 'occuring': 0.004784688995215311, 'occurred': 0.024720893141945772, 'occurrence': 0.003189792663476874, 'occurring': 0.013556618819776715, 'occurs': 0.011164274322169059, 'ocean': 0.003987240829346092, 'odd': 0.06299840510366826, 'oddnumbered': 0.06220095693779904, 'odds': 0.004784688995215311, 'offer': 0.009569377990430622, 'offers': 0.005582137161084529, 'officals': 0.0007974481658692185, 'office': 0.03189792663476874, 'official': 0.024720893141945772, 'officials': 0.02073365231259968, 'often': 0.07097288676236045, 'oh': 0.003189792663476874, 'ohio': 0.0007974481658692185, 'oil': 0.017543859649122806, 'okay': 0.004784688995215311, 'old': 0.04864433811802233, 'older': 0.01036682615629984, 'olds': 0.007177033492822967, 'one': 0.6602870813397129, 'onehalf': 0.005582137161084529, 'ones': 0.1339712918660287, 'ongoing': 0.01036682615629984, 'onto': 0.008771929824561403, 'oon': 0.0007974481658692185, 'oone': 0.0007974481658692185, 'open': 0.030303030303030304, 'opened': 0.009569377990430622, 'opening': 0.007974481658692184, 'operate': 0.006379585326953748, 'operating': 0.003987240829346092, 'opinion': 0.07655502392344497, 'opinions': 0.03269537480063796, 'opponent': 0.006379585326953748, 'opponents': 0.007974481658692184, 'opportunities': 0.018341307814992026, 'opportunity': 0.1674641148325359, 'oppose': 0.05980861244019139, 'opposed': 0.03588516746411483, 'opposing': 0.03189792663476874, 'opposite': 0.02073365231259968, 'opposition': 0.0023923444976076554, 'oppurtunity': 0.009569377990430622, 'option': 0.025518341307814992, 'options': 0.025518341307814992, 'order': 0.10845295055821372, 'ordered': 0.046251993620414676, 'ordinary': 0.003987240829346092, 'organization': 0.003987240829346092, 'organizations': 0.004784688995215311, 'organize': 0.017543859649122806, 'organized': 0.014354066985645933, 'original': 0.008771929824561403, 'originally': 0.007177033492822967, 'otheer': 0.005582137161084529, 'others': 0.09090909090909091, 'otherwise': 0.006379585326953748, 'otoher': 0.0023923444976076554, 'ought': 0.008771929824561403, 'oui': 0.001594896331738437, 'outcome': 0.10526315789473684, 'outcomes': 0.017543859649122806, 'outdated': 0.05582137161084529, 'outdoor': 0.003987240829346092, 'outdoors': 0.003987240829346092, 'outlined': 0.003987240829346092, 'outlook': 0.003987240829346092, 'output': 0.004784688995215311, 'outrageous': 0.005582137161084529, 'outright': 0.003987240829346092, 'outside': 0.051036682615629984, 'outskirts': 0.01036682615629984, 'outstanding': 0.004784688995215311, 'outweigh': 0.014354066985645933, 'overall': 0.06060606060606061, 'overcome': 0.003987240829346092, 'overlook': 0.0023923444976076554, 'overly': 0.003987240829346092, 'overruled': 0.013556618819776715, 'overtime': 0.005582137161084529, 'overuse': 0.003987240829346092, 'overweight': 0.003987240829346092, 'overwhelming': 0.006379585326953748, 'owned': 0.018341307814992026, 'owner': 0.012759170653907496, 'owners': 0.014354066985645933, 'ownership': 0.051036682615629984, 'owning': 0.05263157894736842, 'owns': 0.007974481658692184, 'oxygen': 0.008771929824561403, 'ozone': 0.027910685805422646, 'pace': 0.003987240829346092, 'packed': 0.003987240829346092, 'paid': 0.01036682615629984, 'pain': 0.004784688995215311, 'pairs': 0.0, 'pait': 0.0023923444976076554, 'paper': 0.003987240829346092, 'par': 0.001594896331738437, 'paragragh': 0.001594896331738437, 'paragraph': 0.11323763955342903, 'paragraphs': 0.0023923444976076554, 'paraguay': 0.0007974481658692185, 'parent': 0.004784688995215311, 'parents': 0.01594896331738437, 'parii': 0.0, 'paris': 0.030303030303030304, 'park': 0.05661881977671451, 'parked': 0.007974481658692184, 'parking': 0.06220095693779904, 'parklarge': 0.007974481658692184, 'parks': 0.05582137161084529, 'part': 0.16188197767145135, 'partial': 0.15390749601275916, 'partially': 0.006379585326953748, 'participants': 0.0023923444976076554, 'participate': 0.03110047846889952, 'participated': 0.019138755980861243, 'participating': 0.023125996810207338, 'participation': 0.003987240829346092, 'particular': 0.027910685805422646, 'particularly': 0.007177033492822967, 'particulate': 0.043859649122807015, 'parties': 0.014354066985645933, 'partnering': 0.014354066985645933, 'parts': 0.03588516746411483, 'party': 0.15231259968102073, 'partys': 0.004784688995215311, 'pass': 0.01594896331738437, 'passage': 0.051036682615629984, 'passages': 0.005582137161084529, 'passed': 0.018341307814992026, 'passenger': 0.04864433811802233, 'passengers': 0.006379585326953748, 'passes': 0.003987240829346092, 'passing': 0.009569377990430622, 'past': 0.08133971291866028, 'path': 0.014354066985645933, 'paths': 0.028708133971291867, 'pattern': 0.03349282296650718, 'patterns': 0.003189792663476874, 'pavement': 0.001594896331738437, 'pay': 0.18261562998405104, 'payed': 0.004784688995215311, 'paying': 0.044657097288676235, 'payment': 0.007177033492822967, 'payments': 0.007177033492822967, 'pays': 0.003987240829346092, 'pbds': 0.0, 'peace': 0.006379585326953748, 'peaceful': 0.01036682615629984, 'peak': 0.037480063795853266, 'peaked': 0.023125996810207338, 'pedestrian': 0.004784688995215311, 'pedestrians': 0.013556618819776715, 'pedigree': 0.004784688995215311, 'peope': 0.003189792663476874, 'people': 0.8923444976076556, 'peoples': 0.06299840510366826, 'per': 0.10925039872408293, 'percent': 0.43221690590111644, 'percentage': 0.06140350877192982, 'percentages': 0.005582137161084529, 'perfect': 0.02631578947368421, 'perfectly': 0.007177033492822967, 'perfer': 0.006379585326953748, 'perhaps': 0.008771929824561403, 'period': 0.019138755980861243, 'periods': 0.0023923444976076554, 'perks': 0.003189792663476874, 'permanently': 0.004784688995215311, 'permit': 0.003987240829346092, 'permitted': 0.023125996810207338, 'persists': 0.012759170653907496, 'persistsand': 0.006379585326953748, 'person': 0.22567783094098884, 'personal': 0.07575757575757576, 'personally': 0.007974481658692184, 'persons': 0.015151515151515152, 'perspective': 0.009569377990430622, 'perspectives': 0.0007974481658692185, 'persuade': 0.011164274322169059, 'persuaded': 0.003987240829346092, 'phenomenon': 0.005582137161084529, 'phone': 0.004784688995215311, 'phones': 0.005582137161084529, 'phrase': 0.003189792663476874, 'physical': 0.03189792663476874, 'physically': 0.008771929824561403, 'pick': 0.07655502392344497, 'picked': 0.03189792663476874, 'pickett': 0.0007974481658692185, 'picking': 0.06618819776714513, 'picks': 0.0215311004784689, 'picture': 0.007177033492822967, 'piece': 0.007974481658692184, 'pile': 0.003987240829346092, 'pioneers': 0.004784688995215311, 'pipe': 0.005582137161084529, 'pipes': 0.003987240829346092, 'pitch': 0.003189792663476874, 'pitted': 0.058213716108452954, 'place': 0.22886762360446572, 'placed': 0.05582137161084529, 'places': 0.2025518341307815, 'placing': 0.006379585326953748, 'plagued': 0.004784688995215311, 'plain': 0.007974481658692184, 'plan': 0.037480063795853266, 'planet': 0.06618819776714513, 'planned': 0.006379585326953748, 'planners': 0.006379585326953748, 'planning': 0.01036682615629984, 'plans': 0.007974481658692184, 'plant': 0.003987240829346092, 'plants': 0.014354066985645933, 'plate': 0.02631578947368421, 'plates': 0.12360446570972887, 'play': 0.043859649122807015, 'played': 0.007177033492822967, 'playing': 0.013556618819776715, 'plays': 0.023923444976076555, 'plaza': 0.001594896331738437, 'pleasant': 0.006379585326953748, 'please': 0.01674641148325359, 'pleased': 0.008771929824561403, 'pledge': 0.006379585326953748, 'pledged': 0.023923444976076555, 'plenty': 0.029505582137161084, 'plethora': 0.003987240829346092, 'plugin': 0.012759170653907496, 'plumber': 0.0, 'plumer': 0.0023923444976076554, 'plumers': 0.0, 'plummer': 0.0, 'plurality': 0.03907496012759171, 'plus': 0.023125996810207338, 'pm': 0.001594896331738437, 'pocket': 0.003189792663476874, 'pockets': 0.006379585326953748, 'poeple': 0.018341307814992026, 'point': 0.16427432216905902, 'pointed': 0.007177033492822967, 'pointless': 0.009569377990430622, 'points': 0.03269537480063796, 'poison': 0.004784688995215311, 'polar': 0.004784688995215311, 'police': 0.006379585326953748, 'policies': 0.004784688995215311, 'policy': 0.02711323763955343, 'political': 0.13157894736842105, 'politically': 0.003987240829346092, 'politicans': 0.0007974481658692185, 'politician': 0.0023923444976076554, 'politicians': 0.014354066985645933, 'politics': 0.015151515151515152, 'poll': 0.0430622009569378, 'polling': 0.001594896331738437, 'polls': 0.003987240829346092, 'pollutants': 0.019936204146730464, 'pollute': 0.025518341307814992, 'polluted': 0.1291866028708134, 'pollutes': 0.003987240829346092, 'polluting': 0.05741626794258373, 'pollution': 0.3452950558213716, 'polute': 0.003987240829346092, 'poluted': 0.007177033492822967, 'poluting': 0.004784688995215311, 'polution': 0.01036682615629984, 'pool': 0.01036682615629984, 'pooling': 0.012759170653907496, 'poor': 0.011164274322169059, 'poorly': 0.003189792663476874, 'popluar': 0.005582137161084529, 'popped': 0.004784688995215311, 'populace': 0.001594896331738437, 'popular': 0.4529505582137161, 'popularity': 0.02711323763955343, 'populated': 0.049441786283891544, 'population': 0.15629984051036683, 'populations': 0.015151515151515152, 'populatioon': 0.0007974481658692185, 'populous': 0.006379585326953748, 'poresident': 0.0007974481658692185, 'porocess': 0.0007974481658692185, 'portion': 0.008771929824561403, 'portray': 0.003987240829346092, 'poses': 0.005582137161084529, 'position': 0.018341307814992026, 'positions': 0.003189792663476874, 'positive': 0.10047846889952153, 'positively': 0.011961722488038277, 'positives': 0.01036682615629984, 'posner': 0.0007974481658692185, 'possibilities': 0.011961722488038277, 'possibility': 0.044657097288676235, 'possible': 0.11164274322169059, 'possibleit': 0.005582137161084529, 'possibly': 0.037480063795853266, 'poster': 0.001594896331738437, 'postive': 0.004784688995215311, 'potential': 0.06299840510366826, 'potentially': 0.014354066985645933, 'poular': 0.003189792663476874, 'power': 0.13078149920255183, 'powered': 0.011164274322169059, 'powerful': 0.007974481658692184, 'powers': 0.005582137161084529, 'practical': 0.01036682615629984, 'practically': 0.018341307814992026, 'practice': 0.009569377990430622, 'practiced': 0.003987240829346092, 'preamble': 0.0023923444976076554, 'precedent': 0.0007974481658692185, 'precepts': 0.006379585326953748, 'precious': 0.007177033492822967, 'precise': 0.005582137161084529, 'predicted': 0.0023923444976076554, 'prefer': 0.09728867623604466, 'preference': 0.025518341307814992, 'preferences': 0.004784688995215311, 'preferred': 0.011164274322169059, 'preiident': 0.001594896331738437, 'preisident': 0.0007974481658692185, 'prepare': 0.004784688995215311, 'prepares': 0.003987240829346092, 'presence': 0.003987240829346092, 'present': 0.023923444976076555, 'presented': 0.007974481658692184, 'presents': 0.005582137161084529, 'preserve': 0.005582137161084529, 'preserving': 0.003189792663476874, 'presideit': 0.0007974481658692185, 'presidenat': 0.0007974481658692185, 'presidency': 0.05582137161084529, 'presideni': 0.0007974481658692185, 'presidenit': 0.0023923444976076554, 'president': 0.379585326953748, 'presidential': 0.23684210526315788, 'presidento': 0.001594896331738437, 'presidents': 0.06379585326953748, 'presidentt': 0.001594896331738437, 'presiding': 0.004784688995215311, 'pressure': 0.037480063795853266, 'pretty': 0.049441786283891544, 'prevent': 0.05263157894736842, 'prevented': 0.01036682615629984, 'preventing': 0.007177033492822967, 'prevents': 0.019138755980861243, 'previous': 0.018341307814992026, 'previously': 0.007974481658692184, 'price': 0.0215311004784689, 'prices': 0.029505582137161084, 'pride': 0.003189792663476874, 'primarily': 0.004784688995215311, 'primary': 0.007974481658692184, 'prime': 0.014354066985645933, 'principle': 0.007177033492822967, 'principles': 0.005582137161084529, 'print': 0.0, 'priorities': 0.003987240829346092, 'priority': 0.01594896331738437, 'private': 0.05661881977671451, 'privilege': 0.004784688995215311, 'pro': 0.001594896331738437, 'proactive': 0.0023923444976076554, 'probably': 0.05502392344497608, 'problem': 0.20574162679425836, 'problematic': 0.003987240829346092, 'problems': 0.13556618819776714, 'procces': 0.0023923444976076554, 'procedure': 0.003189792663476874, 'process': 0.19696969696969696, 'processes': 0.005582137161084529, 'produce': 0.03668261562998405, 'produced': 0.025518341307814992, 'produces': 0.029505582137161084, 'producing': 0.015151515151515152, 'product': 0.005582137161084529, 'production': 0.012759170653907496, 'productive': 0.001594896331738437, 'productivity': 0.003987240829346092, 'products': 0.007177033492822967, 'professional': 0.001594896331738437, 'professor': 0.011961722488038277, 'profit': 0.0023923444976076554, 'program': 0.07974481658692185, 'programs': 0.023923444976076555, 'progress': 0.007177033492822967, 'progressing': 0.004784688995215311, 'project': 0.004784688995215311, 'projects': 0.006379585326953748, 'proliferation': 0.004784688995215311, 'prolonged': 0.003987240829346092, 'promise': 0.007177033492822967, 'promised': 0.005582137161084529, 'promises': 0.003987240829346092, 'promising': 0.003987240829346092, 'promote': 0.09888357256778309, 'promoted': 0.01036682615629984, 'promotes': 0.01594896331738437, 'promoting': 0.045454545454545456, 'promotion': 0.005582137161084529, 'prone': 0.005582137161084529, 'proof': 0.012759170653907496, 'propaganda': 0.0023923444976076554, 'proper': 0.011164274322169059, 'properly': 0.011164274322169059, 'proportional': 0.005582137161084529, 'propose': 0.005582137161084529, 'proposed': 0.019936204146730464, 'pros': 0.019936204146730464, 'prospect': 0.02711323763955343, 'prosper': 0.0023923444976076554, 'prosperity': 0.003189792663476874, 'protect': 0.023125996810207338, 'protected': 0.003987240829346092, 'protecting': 0.005582137161084529, 'protection': 0.007974481658692184, 'protects': 0.003987240829346092, 'proud': 0.006379585326953748, 'prove': 0.02631578947368421, 'proved': 0.015151515151515152, 'proven': 0.03987240829346093, 'proves': 0.03189792663476874, 'provide': 0.03508771929824561, 'provided': 0.017543859649122806, 'provides': 0.03987240829346093, 'providing': 0.012759170653907496, 'proving': 0.011961722488038277, 'psychological': 0.003987240829346092, 'public': 0.2503987240829346, 'published': 0.004784688995215311, 'pull': 0.008771929824561403, 'pulling': 0.003987240829346092, 'purchase': 0.012759170653907496, 'purchased': 0.005582137161084529, 'purchases': 0.003189792663476874, 'purchasing': 0.007974481658692184, 'purely': 0.005582137161084529, 'purpose': 0.03110047846889952, 'purposes': 0.005582137161084529, 'push': 0.009569377990430622, 'pushed': 0.005582137161084529, 'pushing': 0.005582137161084529, 'put': 0.18819776714513556, 'puts': 0.025518341307814992, 'putting': 0.05342902711323764, 'qoute': 0.0023923444976076554, 'qualified': 0.05901116427432217, 'qualities': 0.0023923444976076554, 'quality': 0.017543859649122806, 'quantity': 0.003987240829346092, 'question': 0.0430622009569378, 'questioned': 0.0023923444976076554, 'questions': 0.007974481658692184, 'quick': 0.008771929824561403, 'quicker': 0.01594896331738437, 'quickly': 0.015151515151515152, 'quirks': 0.027910685805422646, 'quite': 0.051834130781499205, 'quote': 0.03907496012759171, 'quoted': 0.011164274322169059, 'quotes': 0.005582137161084529, 'race': 0.023923444976076555, 'races': 0.046251993620414676, 'radiation': 0.003189792663476874, 'radio': 0.0023923444976076554, 'rage': 0.012759170653907496, 'rain': 0.03987240829346093, 'rains': 0.003987240829346092, 'raise': 0.007177033492822967, 'raises': 0.003987240829346092, 'ran': 0.019138755980861243, 'random': 0.011961722488038277, 'randomly': 0.004784688995215311, 'range': 0.011164274322169059, 'rapid': 0.0023923444976076554, 'rapidly': 0.012759170653907496, 'rare': 0.025518341307814992, 'rarely': 0.05342902711323764, 'rate': 0.03668261562998405, 'rates': 0.02711323763955343, 'ratheer': 0.003189792663476874, 'rather': 0.19059011164274323, 'ratio': 0.006379585326953748, 'rational': 0.003987240829346092, 'rays': 0.003987240829346092, 'reach': 0.023923444976076555, 'reached': 0.019138755980861243, 'reaching': 0.005582137161084529, 'reaction': 0.017543859649122806, 'reactions': 0.005582137161084529, 'read': 0.02711323763955343, 'reader': 0.007974481658692184, 'readily': 0.003189792663476874, 'reading': 0.02711323763955343, 'reads': 0.003189792663476874, 'ready': 0.008771929824561403, 'real': 0.044657097288676235, 'realistic': 0.0023923444976076554, 'reality': 0.03189792663476874, 'realization': 0.004784688995215311, 'realize': 0.07177033492822966, 'realized': 0.018341307814992026, 'realizing': 0.013556618819776715, 'really': 0.2886762360446571, 'reason': 0.24322169059011164, 'reasonable': 0.017543859649122806, 'reasoning': 0.013556618819776715, 'reasons': 0.2065390749601276, 'rebranding': 0.005582137161084529, 'recall': 0.003189792663476874, 'receive': 0.03508771929824561, 'received': 0.046251993620414676, 'receives': 0.05422647527910686, 'receiving': 0.01594896331738437, 'recent': 0.04784688995215311, 'recently': 0.0215311004784689, 'recession': 0.01674641148325359, 'recieve': 0.023125996810207338, 'recieved': 0.01594896331738437, 'recieves': 0.02073365231259968, 'recieving': 0.005582137161084529, 'recipe': 0.001594896331738437, 'reckless': 0.007974481658692184, 'recognition': 0.003189792663476874, 'recognize': 0.01036682615629984, 'recognized': 0.005582137161084529, 'record': 0.03189792663476874, 'recorded': 0.004784688995215311, 'records': 0.003987240829346092, 'recount': 0.003987240829346092, 'recounts': 0.003189792663476874, 'recreational': 0.007177033492822967, 'rectangular': 0.011164274322169059, 'red': 0.003189792663476874, 'reduce': 0.24960127591706538, 'reduced': 0.11562998405103668, 'reduces': 0.051036682615629984, 'reducing': 0.11802232854864433, 'reduction': 0.05901116427432217, 'reductions': 0.003189792663476874, 'referred': 0.005582137161084529, 'referring': 0.005582137161084529, 'refers': 0.003189792663476874, 'reflect': 0.04146730462519936, 'reflecting': 0.003987240829346092, 'reflects': 0.005582137161084529, 'refuse': 0.011961722488038277, 'refused': 0.05263157894736842, 'refusing': 0.003987240829346092, 'regard': 0.011961722488038277, 'regarded': 0.017543859649122806, 'regarding': 0.01594896331738437, 'regardless': 0.012759170653907496, 'regards': 0.005582137161084529, 'region': 0.06618819776714513, 'regional': 0.04066985645933014, 'regions': 0.030303030303030304, 'register': 0.003189792663476874, 'regular': 0.02631578947368421, 'regulate': 0.003987240829346092, 'regulations': 0.003189792663476874, 'relate': 0.003987240829346092, 'related': 0.014354066985645933, 'relationship': 0.003987240829346092, 'relatively': 0.004784688995215311, 'relax': 0.011164274322169059, 'relaxed': 0.011164274322169059, 'relaxing': 0.008771929824561403, 'release': 0.0215311004784689, 'released': 0.02073365231259968, 'releases': 0.008771929824561403, 'releasing': 0.007177033492822967, 'relevant': 0.003987240829346092, 'reliable': 0.015151515151515152, 'reliance': 0.006379585326953748, 'reliant': 0.003987240829346092, 'relied': 0.005582137161084529, 'relief': 0.009569377990430622, 'relies': 0.005582137161084529, 'relieve': 0.022328548644338118, 'relieved': 0.003189792663476874, 'reliever': 0.0023923444976076554, 'relieves': 0.005582137161084529, 'relieving': 0.003987240829346092, 'religion': 0.0007974481658692185, 'relive': 0.003189792663476874, 'rely': 0.051036682615629984, 'relying': 0.019936204146730464, 'remain': 0.015151515151515152, 'remaining': 0.005582137161084529, 'remains': 0.005582137161084529, 'remember': 0.013556618819776715, 'removal': 0.003189792663476874, 'remove': 0.019936204146730464, 'removed': 0.02631578947368421, 'removing': 0.011961722488038277, 'renewal': 0.003987240829346092, 'repair': 0.007177033492822967, 'repaired': 0.0023923444976076554, 'repairing': 0.003987240829346092, 'repairs': 0.005582137161084529, 'repeat': 0.003987240829346092, 'replace': 0.022328548644338118, 'replaced': 0.11244019138755981, 'replacement': 0.003987240829346092, 'replaces': 0.003987240829346092, 'replacing': 0.0685805422647528, 'report': 0.003987240829346092, 'reported': 0.011164274322169059, 'reports': 0.003189792663476874, 'repreoentativeo': 0.0007974481658692185, 'represent': 0.0773524720893142, 'representation': 0.028708133971291867, 'representative': 0.04864433811802233, 'representatives': 0.07177033492822966, 'represented': 0.02073365231259968, 'representing': 0.045454545454545456, 'represents': 0.017543859649122806, 'reps': 0.0007974481658692185, 'republic': 0.003189792663476874, 'republican': 0.023923444976076555, 'republicans': 0.009569377990430622, 'require': 0.017543859649122806, 'required': 0.03668261562998405, 'requires': 0.04704944178628389, 'rescind': 0.030303030303030304, 'rescinded': 0.0023923444976076554, 'research': 0.025518341307814992, 'researchers': 0.004784688995215311, 'residence': 0.003189792663476874, 'resident': 0.019936204146730464, 'residents': 0.09170653907496013, 'residing': 0.004784688995215311, 'resolve': 0.003189792663476874, 'resolved': 0.003189792663476874, 'resort': 0.004784688995215311, 'resoucers': 0.0007974481658692185, 'resource': 0.006379585326953748, 'resources': 0.029505582137161084, 'respect': 0.007177033492822967, 'respective': 0.004784688995215311, 'respectively': 0.0, 'response': 0.006379585326953748, 'responsibilities': 0.01674641148325359, 'responsibility': 0.018341307814992026, 'responsible': 0.2065390749601276, 'rest': 0.043859649122807015, 'restaurants': 0.0645933014354067, 'restore': 0.004784688995215311, 'restores': 0.028708133971291867, 'restraints': 0.004784688995215311, 'restrict': 0.003987240829346092, 'restricted': 0.006379585326953748, 'restricting': 0.01036682615629984, 'restriction': 0.008771929824561403, 'restrictions': 0.06698564593301436, 'resturants': 0.006379585326953748, 'result': 0.11084529505582137, 'resulted': 0.01674641148325359, 'resulting': 0.01674641148325359, 'results': 0.04864433811802233, 'resume': 0.011961722488038277, 'retain': 0.007177033492822967, 'retaining': 0.007974481658692184, 'rethink': 0.003189792663476874, 'retrospect': 0.0007974481658692185, 'return': 0.013556618819776715, 'reuters': 0.0007974481658692185, 'reveals': 0.003189792663476874, 'revenue': 0.006379585326953748, 'reverse': 0.003987240829346092, 'revolution': 0.01036682615629984, 'revolutionary': 0.022328548644338118, 'revolve': 0.003987240829346092, 'rhode': 0.001594896331738437, 'rich': 0.003987240829346092, 'richard': 0.001594896331738437, 'rid': 0.11403508771929824, 'ride': 0.10207336523125997, 'rides': 0.011164274322169059, 'ridiculous': 0.01036682615629984, 'riding': 0.08851674641148326, 'right': 0.17942583732057416, 'rights': 0.024720893141945772, 'rise': 0.024720893141945772, 'risen': 0.003189792663476874, 'rising': 0.017543859649122806, 'risk': 0.03508771929824561, 'risks': 0.009569377990430622, 'risky': 0.003987240829346092, 'rival': 0.004784688995215311, 'rivaled': 0.03907496012759171, 'rivaling': 0.003987240829346092, 'rivera': 0.001594896331738437, 'road': 0.07655502392344497, 'roads': 0.05661881977671451, 'roadways': 0.005582137161084529, 'robert': 0.0007974481658692185, 'rode': 0.03987240829346093, 'rodney': 0.02073365231259968, 'roienthal': 0.0, 'role': 0.044657097288676235, 'romantic': 0.003189792663476874, 'romeny': 0.0, 'romney': 0.0, 'roof': 0.003189792663476874, 'room': 0.02073365231259968, 'root': 0.003189792663476874, 'roots': 0.001594896331738437, 'rosenthal': 0.0007974481658692185, 'rosentheal': 0.0, 'roughly': 0.003987240829346092, 'route': 0.01036682615629984, 'routes': 0.003189792663476874, 'routine': 0.0023923444976076554, 'routines': 0.0007974481658692185, 'row': 0.003189792663476874, 'ruin': 0.006379585326953748, 'ruining': 0.005582137161084529, 'rule': 0.03827751196172249, 'ruled': 0.007177033492822967, 'rules': 0.029505582137161084, 'ruling': 0.03508771929824561, 'run': 0.10925039872408293, 'runner': 0.0023923444976076554, 'running': 0.10446570972886762, 'runoff': 0.06379585326953748, 'runoffs': 0.003189792663476874, 'runs': 0.03349282296650718, 'rush': 0.028708133971291867, 'rushhour': 0.04704944178628389, 'rushing': 0.003189792663476874, 'saaaes': 0.0007974481658692185, 'sabotage': 0.004784688995215311, 'sad': 0.005582137161084529, 'sadly': 0.003189792663476874, 'safe': 0.03827751196172249, 'safely': 0.0023923444976076554, 'safer': 0.06539074960127592, 'safety': 0.04066985645933014, 'saftey': 0.0023923444976076554, 'said': 0.23285486443381181, 'sake': 0.006379585326953748, 'sales': 0.007177033492822967, 'sally': 0.0, 'san': 0.0007974481658692185, 'sates': 0.004784688995215311, 'satisfied': 0.006379585326953748, 'satisfy': 0.004784688995215311, 'save': 0.16905901116427433, 'saved': 0.013556618819776715, 'saves': 0.029505582137161084, 'saving': 0.07496012759170653, 'saw': 0.018341307814992026, 'say': 0.3189792663476874, 'saying': 0.08293460925039872, 'says': 0.1762360446570973, 'scale': 0.005582137161084529, 'scandals': 0.001594896331738437, 'scared': 0.003189792663476874, 'scary': 0.004784688995215311, 'scenario': 0.003987240829346092, 'scenarios': 0.003189792663476874, 'scenery': 0.003189792663476874, 'schedule': 0.005582137161084529, 'school': 0.04146730462519936, 'schools': 0.003987240829346092, 'science': 0.003189792663476874, 'scientists': 0.005582137161084529, 'scooters': 0.0007974481658692185, 'sea': 0.004784688995215311, 'seas': 0.0023923444976076554, 'seat': 0.011164274322169059, 'seattle': 0.0, 'second': 0.14035087719298245, 'secondly': 0.0, 'seconds': 0.0023923444976076554, 'section': 0.007974481658692184, 'secure': 0.005582137161084529, 'security': 0.0007974481658692185, 'see': 0.335725677830941, 'seeing': 0.03349282296650718, 'seeking': 0.003987240829346092, 'seem': 0.12200956937799043, 'seemed': 0.011961722488038277, 'seemingly': 0.007974481658692184, 'seems': 0.11323763955342903, 'seen': 0.09090909090909091, 'segragationists': 0.003987240829346092, 'segregation': 0.003987240829346092, 'segregationist': 0.004784688995215311, 'segregationists': 0.04226475279106858, 'select': 0.03349282296650718, 'selected': 0.02631578947368421, 'selecting': 0.045454545454545456, 'selection': 0.05502392344497608, 'selects': 0.03189792663476874, 'self': 0.009569377990430622, 'selfish': 0.004784688995215311, 'sell': 0.01036682615629984, 'selling': 0.003987240829346092, 'selsky': 0.0023923444976076554, 'selves': 0.005582137161084529, 'senate': 0.009569377990430622, 'senator': 0.02631578947368421, 'senators': 0.01036682615629984, 'send': 0.018341307814992026, 'sending': 0.006379585326953748, 'sends': 0.006379585326953748, 'sense': 0.0430622009569378, 'sent': 0.022328548644338118, 'sentence': 0.004784688995215311, 'separate': 0.011961722488038277, 'separated': 0.004784688995215311, 'separation': 0.005582137161084529, 'seperate': 0.004784688995215311, 'serious': 0.02711323763955343, 'seriously': 0.008771929824561403, 'serve': 0.008771929824561403, 'served': 0.006379585326953748, 'serves': 0.01036682615629984, 'service': 0.004784688995215311, 'services': 0.019936204146730464, 'serving': 0.003987240829346092, 'set': 0.08851674641148326, 'sets': 0.005582137161084529, 'setting': 0.007974481658692184, 'settled': 0.003987240829346092, 'seven': 0.014354066985645933, 'seventeen': 0.06937799043062201, 'seventy': 0.01036682615629984, 'several': 0.03588516746411483, 'severe': 0.003987240829346092, 'severely': 0.005582137161084529, 'shall': 0.014354066985645933, 'shame': 0.003987240829346092, 'shanghai': 0.0, 'shape': 0.017543859649122806, 'share': 0.044657097288676235, 'shared': 0.015151515151515152, 'shares': 0.007177033492822967, 'sharing': 0.007974481658692184, 'sheller': 0.0, 'shift': 0.03987240829346093, 'shifting': 0.004784688995215311, 'shifts': 0.007177033492822967, 'shine': 0.003189792663476874, 'shocking': 0.007974481658692184, 'shoes': 0.003189792663476874, 'shop': 0.005582137161084529, 'shopping': 0.08771929824561403, 'shops': 0.011164274322169059, 'short': 0.029505582137161084, 'shorter': 0.004784688995215311, 'shortly': 0.023923444976076555, 'shot': 0.005582137161084529, 'shoulders': 0.0023923444976076554, 'shouldnt': 0.011961722488038277, 'show': 0.10366826156299841, 'showed': 0.014354066985645933, 'showers': 0.006379585326953748, 'showing': 0.025518341307814992, 'shown': 0.06698564593301436, 'shows': 0.13955342902711323, 'sick': 0.01036682615629984, 'sickness': 0.001594896331738437, 'side': 0.06698564593301436, 'sides': 0.01674641148325359, 'sidewalk': 0.003189792663476874, 'sidewalks': 0.1076555023923445, 'sight': 0.003987240829346092, 'sign': 0.003987240829346092, 'significance': 0.0023923444976076554, 'significant': 0.028708133971291867, 'significantly': 0.022328548644338118, 'signs': 0.006379585326953748, 'similar': 0.03668261562998405, 'similarly': 0.0007974481658692185, 'simple': 0.07097288676236045, 'simpler': 0.018341307814992026, 'simplifies': 0.001594896331738437, 'simply': 0.10207336523125997, 'since': 0.25199362041467305, 'sincerely': 0.0007974481658692185, 'single': 0.15789473684210525, 'sir': 0.0, 'sit': 0.019138755980861243, 'sitaite': 0.001594896331738437, 'sitaites': 0.0023923444976076554, 'sits': 0.001594896331738437, 'sitting': 0.023923444976076555, 'situation': 0.045454545454545456, 'situations': 0.018341307814992026, 'siva': 0.0023923444976076554, 'sivak': 0.0, 'six': 0.003987240829346092, 'sixty': 0.0342902711323764, 'sixyear': 0.003987240829346092, 'size': 0.018341307814992026, 'sizes': 0.003987240829346092, 'skate': 0.004784688995215311, 'skateboard': 0.003987240829346092, 'skateboards': 0.003189792663476874, 'skated': 0.04066985645933014, 'skates': 0.0023923444976076554, 'skating': 0.012759170653907496, 'skies': 0.005582137161084529, 'skip': 0.003987240829346092, 'sky': 0.007177033492822967, 'skyrocketing': 0.011164274322169059, 'slate': 0.16586921850079744, 'slates': 0.02073365231259968, 'sleep': 0.003987240829346092, 'slight': 0.023923444976076555, 'slightest': 0.003189792663476874, 'slightly': 0.006379585326953748, 'slim': 0.003189792663476874, 'slow': 0.011961722488038277, 'slowing': 0.005582137161084529, 'slowly': 0.03907496012759171, 'small': 0.14513556618819776, 'smaller': 0.09569377990430622, 'smallest': 0.003189792663476874, 'smart': 0.02073365231259968, 'smarter': 0.004784688995215311, 'smell': 0.008771929824561403, 'smog': 0.3349282296650718, 'smogs': 0.001594896331738437, 'smoke': 0.019936204146730464, 'smooth': 0.07256778309409888, 'smoother': 0.006379585326953748, 'smoothly': 0.003987240829346092, 'smug': 0.0007974481658692185, 'soccer': 0.01036682615629984, 'social': 0.05263157894736842, 'socialize': 0.004784688995215311, 'societal': 0.003987240829346092, 'societies': 0.009569377990430622, 'society': 0.08532695374800638, 'sociologist': 0.007177033492822967, 'sociologists': 0.022328548644338118, 'sociology': 0.007974481658692184, 'sold': 0.08373205741626795, 'solely': 0.01036682615629984, 'solid': 0.01594896331738437, 'solution': 0.029505582137161084, 'solutions': 0.006379585326953748, 'solve': 0.015151515151515152, 'solved': 0.009569377990430622, 'somebody': 0.009569377990430622, 'somehow': 0.006379585326953748, 'someone': 0.13556618819776714, 'someones': 0.003987240829346092, 'something': 0.20334928229665072, 'sometime': 0.0023923444976076554, 'sometimes': 0.09330143540669857, 'sometoimes': 0.0007974481658692185, 'somewhat': 0.013556618819776715, 'somewhere': 0.03907496012759171, 'son': 0.003189792663476874, 'soon': 0.0430622009569378, 'sooner': 0.006379585326953748, 'sort': 0.014354066985645933, 'sound': 0.03907496012759171, 'sounds': 0.03508771929824561, 'source': 0.2551834130781499, 'sources': 0.027910685805422646, 'south': 0.007974481658692184, 'southe': 0.0007974481658692185, 'southern': 0.003987240829346092, 'space': 0.05980861244019139, 'spaces': 0.007177033492822967, 'spain': 0.0, 'span': 0.003189792663476874, 'spark': 0.004784688995215311, 'speak': 0.013556618819776715, 'speaking': 0.01036682615629984, 'speaks': 0.004784688995215311, 'special': 0.01036682615629984, 'species': 0.0023923444976076554, 'specific': 0.03588516746411483, 'specifically': 0.009569377990430622, 'spectrum': 0.003189792663476874, 'speech': 0.005582137161084529, 'speeches': 0.005582137161084529, 'speed': 0.009569377990430622, 'speeding': 0.004784688995215311, 'spend': 0.1674641148325359, 'spending': 0.03269537480063796, 'spends': 0.004784688995215311, 'spent': 0.03269537480063796, 'spinning': 0.08054226475279107, 'split': 0.007974481658692184, 'spoken': 0.003189792663476874, 'sport': 0.017543859649122806, 'sports': 0.09968102073365231, 'spot': 0.011961722488038277, 'spots': 0.004784688995215311, 'spread': 0.05741626794258373, 'spreading': 0.012759170653907496, 'spreads': 0.003189792663476874, 'spurious': 0.008771929824561403, 'square': 0.017543859649122806, 'stable': 0.007974481658692184, 'staes': 0.007177033492822967, 'stand': 0.027910685805422646, 'standard': 0.007177033492822967, 'standards': 0.007974481658692184, 'standing': 0.005582137161084529, 'stands': 0.011164274322169059, 'stanza': 0.0007974481658692185, 'stars': 0.001594896331738437, 'start': 0.13078149920255183, 'started': 0.07575757575757576, 'starters': 0.0, 'starting': 0.06140350877192982, 'starts': 0.013556618819776715, 'state': 0.36921850079744817, 'stated': 0.14832535885167464, 'statei': 0.0, 'statement': 0.03508771929824561, 'statements': 0.004784688995215311, 'states': 0.5207336523125997, 'statewide': 0.011961722488038277, 'stating': 0.019936204146730464, 'station': 0.005582137161084529, 'statistic': 0.007177033492822967, 'statistics': 0.014354066985645933, 'stay': 0.0685805422647528, 'staying': 0.007177033492822967, 'stays': 0.003987240829346092, 'steadily': 0.019138755980861243, 'steady': 0.006379585326953748, 'steering': 0.003189792663476874, 'step': 0.051834130781499205, 'stepping': 0.005582137161084529, 'steps': 0.014354066985645933, 'stick': 0.012759170653907496, 'sticking': 0.003987240829346092, 'still': 0.2703349282296651, 'stoatoe': 0.001594896331738437, 'stoatoes': 0.001594896331738437, 'stone': 0.0023923444976076554, 'stop': 0.1547049441786284, 'stopped': 0.05582137161084529, 'stopping': 0.012759170653907496, 'stops': 0.008771929824561403, 'store': 0.0342902711323764, 'stores': 0.06140350877192982, 'stories': 0.004784688995215311, 'story': 0.007974481658692184, 'straight': 0.0342902711323764, 'strain': 0.003987240829346092, 'strange': 0.005582137161084529, 'stranger': 0.003189792663476874, 'strapped': 0.003189792663476874, 'strategy': 0.003987240829346092, 'street': 0.051834130781499205, 'streets': 0.13556618819776714, 'stress': 0.25199362041467305, 'stressed': 0.04704944178628389, 'stresses': 0.003987240829346092, 'stressfree': 0.011164274322169059, 'stressful': 0.046251993620414676, 'stressing': 0.007974481658692184, 'strict': 0.004784688995215311, 'strictly': 0.003189792663476874, 'strive': 0.007177033492822967, 'striving': 0.003987240829346092, 'stroll': 0.003189792663476874, 'strong': 0.030303030303030304, 'stronger': 0.007177033492822967, 'strongest': 0.004784688995215311, 'strongly': 0.03349282296650718, 'struggle': 0.007974481658692184, 'struggling': 0.004784688995215311, 'stuck': 0.025518341307814992, 'student': 0.007177033492822967, 'studies': 0.058213716108452954, 'study': 0.043859649122807015, 'stuff': 0.01036682615629984, 'stupid': 0.007974481658692184, 'style': 0.014354066985645933, 'subject': 0.011961722488038277, 'subsequent': 0.003987240829346092, 'substantial': 0.004784688995215311, 'substantially': 0.0023923444976076554, 'suburb': 0.03110047846889952, 'suburban': 0.07575757575757576, 'suburbs': 0.05263157894736842, 'subway': 0.008771929824561403, 'subways': 0.004784688995215311, 'succeed': 0.001594896331738437, 'succeeded': 0.05502392344497608, 'success': 0.01594896331738437, 'successful': 0.03588516746411483, 'successfully': 0.005582137161084529, 'sudden': 0.003987240829346092, 'suffer': 0.051036682615629984, 'suffering': 0.011164274322169059, 'suggest': 0.04226475279106858, 'suggested': 0.004784688995215311, 'suggesting': 0.004784688995215311, 'suggests': 0.006379585326953748, 'suit': 0.007177033492822967, 'suited': 0.006379585326953748, 'suits': 0.0023923444976076554, 'sum': 0.012759170653907496, 'summarize': 0.001594896331738437, 'summary': 0.0, 'summation': 0.0007974481658692185, 'summer': 0.019138755980861243, 'sun': 0.008771929824561403, 'super': 0.004784688995215311, 'supply': 0.004784688995215311, 'support': 0.05901116427432217, 'supported': 0.007177033492822967, 'supporters': 0.008771929824561403, 'supporting': 0.008771929824561403, 'supports': 0.011961722488038277, 'suppose': 0.008771929824561403, 'supposed': 0.04146730462519936, 'supposedly': 0.006379585326953748, 'sure': 0.10127591706539076, 'surely': 0.02073365231259968, 'surface': 0.0023923444976076554, 'surprise': 0.003987240829346092, 'surprisingly': 0.006379585326953748, 'surrounded': 0.003987240829346092, 'surrounding': 0.008771929824561403, 'surroundings': 0.005582137161084529, 'survive': 0.007177033492822967, 'sustainable': 0.004784688995215311, 'sway': 0.011961722488038277, 'swayed': 0.006379585326953748, 'swell': 0.0023923444976076554, 'swing': 0.10606060606060606, 'swings': 0.007974481658692184, 'swish': 0.025518341307814992, 'swiss': 0.001594896331738437, 'switch': 0.029505582137161084, 'switched': 0.004784688995215311, 'switching': 0.007177033492822967, 'symbol': 0.003189792663476874, 'sysitem': 0.0023923444976076554, 'system': 0.36044657097288674, 'systemm': 0.0007974481658692185, 'systems': 0.018341307814992026, 'systoem': 0.001594896331738437, 'sytem': 0.003987240829346092, 'tail': 0.003987240829346092, 'tailpipe': 0.01036682615629984, 'take': 0.4704944178628389, 'taken': 0.13157894736842105, 'takes': 0.14114832535885166, 'taking': 0.1682615629984051, 'talk': 0.030303030303030304, 'talked': 0.008771929824561403, 'talking': 0.02631578947368421, 'talkis': 0.0007974481658692185, 'talks': 0.025518341307814992, 'tank': 0.007974481658692184, 'task': 0.01036682615629984, 'tasks': 0.004784688995215311, 'taught': 0.004784688995215311, 'tax': 0.02711323763955343, 'taxes': 0.006379585326953748, 'taxi': 0.012759170653907496, 'taxis': 0.03668261562998405, 'te': 0.004784688995215311, 'teacher': 0.0023923444976076554, 'team': 0.003189792663476874, 'technically': 0.0430622009569378, 'technological': 0.007974481658692184, 'technologies': 0.003987240829346092, 'technology': 0.030303030303030304, 'teenage': 0.003987240829346092, 'teenager': 0.006379585326953748, 'teenagers': 0.01036682615629984, 'teens': 0.005582137161084529, 'telecommunication': 0.0023923444976076554, 'telecommunications': 0.01594896331738437, 'telecommuting': 0.009569377990430622, 'television': 0.003189792663476874, 'tell': 0.03987240829346093, 'telling': 0.009569377990430622, 'tells': 0.030303030303030304, 'temperature': 0.005582137161084529, 'temperatures': 0.003987240829346092, 'temporarily': 0.005582137161084529, 'temporary': 0.012759170653907496, 'ten': 0.011961722488038277, 'tend': 0.043859649122807015, 'tends': 0.006379585326953748, 'tense': 0.030303030303030304, 'tension': 0.01036682615629984, 'term': 0.02073365231259968, 'terms': 0.007974481658692184, 'terrible': 0.024720893141945772, 'terrifying': 0.005582137161084529, 'test': 0.006379585326953748, 'tested': 0.003189792663476874, 'texas': 0.007177033492822967, 'text': 0.01594896331738437, 'texting': 0.006379585326953748, 'texts': 0.0023923444976076554, 'thank': 0.008771929824561403, 'thanks': 0.028708133971291867, 'thats': 0.058213716108452954, 'thean': 0.007177033492822967, 'theat': 0.011164274322169059, 'thee': 0.011164274322169059, 'theeir': 0.009569377990430622, 'theem': 0.003987240829346092, 'theen': 0.005582137161084529, 'theere': 0.007177033492822967, 'theese': 0.003987240829346092, 'theey': 0.009569377990430622, 'theii': 0.0007974481658692185, 'theing': 0.001594896331738437, 'theings': 0.0023923444976076554, 'theink': 0.003987240829346092, 'theis': 0.008771929824561403, 'themself': 0.0023923444976076554, 'theory': 0.003987240829346092, 'theose': 0.003987240829346092, 'ther': 0.003987240829346092, 'thereafter': 0.0007974481658692185, 'therefor': 0.003189792663476874, 'therefore': 0.03907496012759171, 'theres': 0.0215311004784689, 'thers': 0.003987240829346092, 'thick': 0.008771929824561403, 'thier': 0.008771929824561403, 'thii': 0.004784688995215311, 'thiis': 0.0023923444976076554, 'thing': 0.19617224880382775, 'things': 0.24561403508771928, 'think': 0.33811802232854865, 'thinking': 0.03269537480063796, 'thinks': 0.01674641148325359, 'thio': 0.0007974481658692185, 'third': 0.045454545454545456, 'thirdly': 0.0, 'thirty': 0.01594896331738437, 'thoie': 0.0023923444976076554, 'thoroughfare': 0.004784688995215311, 'thoroughly': 0.003987240829346092, 'though': 0.1594896331738437, 'thought': 0.094896331738437, 'thoughtful': 0.043859649122807015, 'thoughts': 0.013556618819776715, 'thousand': 0.023923444976076555, 'thousands': 0.03827751196172249, 'threat': 0.013556618819776715, 'three': 0.10526315789473684, 'thrive': 0.005582137161084529, 'throughout': 0.11881977671451356, 'throw': 0.011164274322169059, 'throwing': 0.005582137161084529, 'thrown': 0.044657097288676235, 'throws': 0.003987240829346092, 'thus': 0.023125996810207338, 'ticket': 0.003189792663476874, 'tickets': 0.0023923444976076554, 'tie': 0.15789473684210525, 'tied': 0.011164274322169059, 'ties': 0.015151515151515152, 'tight': 0.05741626794258373, 'till': 0.003189792663476874, 'time': 0.4585326953748006, 'timeline': 0.0007974481658692185, 'times': 0.07575757575757576, 'tiny': 0.004784688995215311, 'tip': 0.005582137161084529, 'tire': 0.0023923444976076554, 'tired': 0.011164274322169059, 'tires': 0.001594896331738437, 'title': 0.006379585326953748, 'titled': 0.007177033492822967, 'today': 0.06060606060606061, 'todays': 0.011164274322169059, 'together': 0.05422647527910686, 'tohan': 0.0023923444976076554, 'tohato': 0.0023923444976076554, 'tohe': 0.0023923444976076554, 'toheir': 0.001594896331738437, 'tohem': 0.0007974481658692185, 'tohey': 0.0023923444976076554, 'tohis': 0.001594896331738437, 'told': 0.024720893141945772, 'toll': 0.012759170653907496, 'tolls': 0.019138755980861243, 'tomorrow': 0.001594896331738437, 'ton': 0.011164274322169059, 'tons': 0.01036682615629984, 'took': 0.10047846889952153, 'tool': 0.006379585326953748, 'toowards': 0.0007974481658692185, 'top': 0.02711323763955343, 'topic': 0.027910685805422646, 'topics': 0.003189792663476874, 'toss': 0.008771929824561403, 'tossup': 0.03987240829346093, 'total': 0.051834130781499205, 'totally': 0.015151515151515152, 'touch': 0.005582137161084529, 'tourist': 0.003189792663476874, 'tourists': 0.003189792663476874, 'toward': 0.018341307814992026, 'towards': 0.09330143540669857, 'town': 0.05342902711323764, 'towns': 0.024720893141945772, 'toxic': 0.014354066985645933, 'toxins': 0.007177033492822967, 'track': 0.011164274322169059, 'tradition': 0.008771929824561403, 'traditional': 0.006379585326953748, 'traffic': 0.24481658692185007, 'tragic': 0.003987240829346092, 'train': 0.017543859649122806, 'trainer': 0.05342902711323764, 'trains': 0.003987240829346092, 'tram': 0.013556618819776715, 'traniportation': 0.0023923444976076554, 'transit': 0.025518341307814992, 'transition': 0.007177033492822967, 'transitioning': 0.004784688995215311, 'transport': 0.0430622009569378, 'transportaion': 0.005582137161084529, 'transportation': 0.291866028708134, 'transportations': 0.003987240829346092, 'transporting': 0.003987240829346092, 'transportion': 0.003189792663476874, 'transregional': 0.045454545454545456, 'traonsportatioon': 0.0007974481658692185, 'trap': 0.025518341307814992, 'trapped': 0.014354066985645933, 'trapping': 0.005582137161084529, 'traps': 0.004784688995215311, 'trash': 0.001594896331738437, 'travel': 0.03588516746411483, 'traveling': 0.01674641148325359, 'travels': 0.001594896331738437, 'treat': 0.004784688995215311, 'treated': 0.013556618819776715, 'tree': 0.0007974481658692185, 'trees': 0.001594896331738437, 'tremendous': 0.009569377990430622, 'tremendously': 0.005582137161084529, 'trend': 0.05741626794258373, 'trends': 0.003987240829346092, 'tribune': 0.0007974481658692185, 'tricks': 0.003987240829346092, 'tried': 0.027910685805422646, 'tries': 0.005582137161084529, 'trip': 0.003987240829346092, 'trips': 0.007177033492822967, 'trouble': 0.013556618819776715, 'truck': 0.004784688995215311, 'trucks': 0.007177033492822967, 'true': 0.07097288676236045, 'truely': 0.007177033492822967, 'truly': 0.0342902711323764, 'trust': 0.08133971291866028, 'trusted': 0.044657097288676235, 'trusting': 0.003987240829346092, 'trustworthy': 0.008771929824561403, 'truth': 0.009569377990430622, 'try': 0.09090909090909091, 'trying': 0.11244019138755981, 'tuesday': 0.003189792663476874, 'tuesdays': 0.0, 'tunnel': 0.014354066985645933, 'turn': 0.15869218500797447, 'turned': 0.018341307814992026, 'turning': 0.011961722488038277, 'turnout': 0.018341307814992026, 'turns': 0.015151515151515152, 'tv': 0.0023923444976076554, 'twelve': 0.019936204146730464, 'twenty': 0.0215311004784689, 'twentyfive': 0.003987240829346092, 'twentyseven': 0.001594896331738437, 'twentythree': 0.003987240829346092, 'twentytwo': 0.003987240829346092, 'twice': 0.014354066985645933, 'two': 0.2711323763955343, 'twoseat': 0.023923444976076555, 'twoseated': 0.004784688995215311, 'type': 0.029505582137161084, 'types': 0.02073365231259968, 'typical': 0.004784688995215311, 'typically': 0.03349282296650718, 'u': 0.003987240829346092, 'uaage': 0.0007974481658692185, 'uae': 0.0007974481658692185, 'ui': 0.001594896331738437, 'uiage': 0.001594896331738437, 'uie': 0.0023923444976076554, 'uisage': 0.0007974481658692185, 'ultimate': 0.003987240829346092, 'ultimately': 0.023923444976076555, 'unable': 0.005582137161084529, 'unappealing': 0.0023923444976076554, 'unbalanced': 0.003189792663476874, 'unbearable': 0.0023923444976076554, 'unbelievable': 0.003189792663476874, 'unbiased': 0.0023923444976076554, 'uncertainty': 0.004784688995215311, 'unconstitutional': 0.0007974481658692185, 'undecided': 0.003987240829346092, 'undemocratic': 0.003189792663476874, 'understand': 0.07017543859649122, 'understandable': 0.004784688995215311, 'understanding': 0.007177033492822967, 'understood': 0.004784688995215311, 'undesirable': 0.0007974481658692185, 'uneducated': 0.006379585326953748, 'unemployed': 0.01674641148325359, 'unemployment': 0.003987240829346092, 'unequal': 0.004784688995215311, 'uneven': 0.011961722488038277, 'unfaior': 0.0007974481658692185, 'unfair': 0.23205741626794257, 'unfairly': 0.003987240829346092, 'unfairness': 0.02073365231259968, 'unfaithful': 0.003987240829346092, 'unfit': 0.003189792663476874, 'unfortunately': 0.0023923444976076554, 'unhappy': 0.008771929824561403, 'unhealthy': 0.015151515151515152, 'unheard': 0.003987240829346092, 'unifies': 0.001594896331738437, 'unimportant': 0.0023923444976076554, 'unique': 0.005582137161084529, 'united': 0.03668261562998405, 'unites': 0.001594896331738437, 'unity': 0.003987240829346092, 'university': 0.0007974481658692185, 'unjust': 0.011164274322169059, 'unknown': 0.003987240829346092, 'unless': 0.027910685805422646, 'unlike': 0.01036682615629984, 'unlikely': 0.03588516746411483, 'unnecessary': 0.015151515151515152, 'unneeded': 0.003189792663476874, 'unorganized': 0.0023923444976076554, 'unpredictable': 0.003987240829346092, 'unreliable': 0.009569377990430622, 'unsafe': 0.0023923444976076554, 'untrustworthy': 0.005582137161084529, 'unveiled': 0.009569377990430622, 'unwanted': 0.007974481658692184, 'unwilling': 0.003987240829346092, 'update': 0.003987240829346092, 'updated': 0.0023923444976076554, 'uphold': 0.003987240829346092, 'upon': 0.050239234449760764, 'upper': 0.004784688995215311, 'ups': 0.003987240829346092, 'upscale': 0.07655502392344497, 'upset': 0.007177033492822967, 'upside': 0.004784688995215311, 'upsides': 0.003987240829346092, 'urban': 0.01674641148325359, 'urge': 0.012759170653907496, 'us': 0.27910685805422647, 'usa': 0.0007974481658692185, 'usage': 0.3700159489633174, 'usages': 0.003189792663476874, 'use': 0.4449760765550239, 'used': 0.2113237639553429, 'useful': 0.029505582137161084, 'useing': 0.001594896331738437, 'useless': 0.004784688995215311, 'users': 0.003189792663476874, 'uses': 0.02631578947368421, 'using': 0.29106858054226475, 'usual': 0.004784688995215311, 'usually': 0.05661881977671451, 'utterly': 0.003987240829346092, 'valid': 0.018341307814992026, 'validated': 0.011164274322169059, 'validity': 0.003987240829346092, 'valledupar': 0.0, 'valuable': 0.007177033492822967, 'value': 0.007177033492822967, 'values': 0.003189792663476874, 'van': 0.011164274322169059, 'variation': 0.004784688995215311, 'variety': 0.01594896331738437, 'various': 0.025518341307814992, 'vary': 0.01594896331738437, 'varying': 0.005582137161084529, 'vast': 0.013556618819776715, 'vauban': 0.0007974481658692185, 'vaubanlike': 0.0, 'vaughn': 0.0, 'vehicle': 0.0773524720893142, 'vehicles': 0.12998405103668262, 'vehicular': 0.004784688995215311, 'vein': 0.0007974481658692185, 'verdant': 0.01674641148325359, 'versa': 0.005582137161084529, 'versus': 0.005582137161084529, 'via': 0.006379585326953748, 'viable': 0.007177033492822967, 'vice': 0.030303030303030304, 'vicepresident': 0.001594896331738437, 'victory': 0.023923444976076555, 'view': 0.028708133971291867, 'viewed': 0.008771929824561403, 'views': 0.019138755980861243, 'violated': 0.009569377990430622, 'violaters': 0.004784688995215311, 'violators': 0.011164274322169059, 'virtually': 0.007177033492822967, 'virtue': 0.022328548644338118, 'vise': 0.0, 'visit': 0.030303030303030304, 'visited': 0.011164274322169059, 'visiting': 0.007974481658692184, 'visits': 0.003189792663476874, 'vital': 0.01036682615629984, 'voae': 0.0007974481658692185, 'voaes': 0.0007974481658692185, 'voate': 0.0007974481658692185, 'voice': 0.04704944178628389, 'voices': 0.018341307814992026, 'voie': 0.0007974481658692185, 'voite': 0.0023923444976076554, 'voiters': 0.0023923444976076554, 'voites': 0.0023923444976076554, 'voiting': 0.001594896331738437, 'vote': 0.48086124401913877, 'voted': 0.1419457735247209, 'voter': 0.043859649122807015, 'voteri': 0.001594896331738437, 'voters': 0.3452950558213716, 'votes': 0.40669856459330145, 'voting': 0.3548644338118022, 'votoe': 0.001594896331738437, 'votoers': 0.001594896331738437, 'votoes': 0.001594896331738437, 'wa': 0.0007974481658692185, 'wai': 0.003987240829346092, 'wait': 0.019138755980861243, 'waiting': 0.022328548644338118, 'wake': 0.008771929824561403, 'waking': 0.003987240829346092, 'walk': 0.20733652312599682, 'walked': 0.030303030303030304, 'walker': 0.0007974481658692185, 'walking': 0.18341307814992025, 'walks': 0.011961722488038277, 'wallet': 0.003987240829346092, 'walter': 0.0, 'wandering': 0.028708133971291867, 'wanit': 0.001594896331738437, 'want': 0.37799043062200954, 'wanted': 0.08692185007974482, 'wanting': 0.01674641148325359, 'wants': 0.0733652312599681, 'war': 0.009569377990430622, 'warm': 0.030303030303030304, 'warmer': 0.025518341307814992, 'warming': 0.0342902711323764, 'washington': 0.0, 'waste': 0.04226475279106858, 'wasted': 0.01036682615629984, 'wasting': 0.017543859649122806, 'watch': 0.019138755980861243, 'watching': 0.005582137161084529, 'water': 0.005582137161084529, 'way': 0.49681020733652315, 'ways': 0.1682615629984051, 'weak': 0.003189792663476874, 'wear': 0.01036682615629984, 'weather': 0.01594896331738437, 'week': 0.05661881977671451, 'weeks': 0.004784688995215311, 'weigh': 0.003987240829346092, 'weighs': 0.003987240829346092, 'weight': 0.051834130781499205, 'weighted': 0.003189792663476874, 'well': 0.20175438596491227, 'wellbeing': 0.007974481658692184, 'wellness': 0.001594896331738437, 'went': 0.05502392344497608, 'werent': 0.006379585326953748, 'western': 0.003189792663476874, 'wether': 0.008771929824561403, 'whatever': 0.01594896331738437, 'whato': 0.0023923444976076554, 'whats': 0.018341307814992026, 'whatsoever': 0.0, 'wheel': 0.012759170653907496, 'wheels': 0.0023923444976076554, 'whenever': 0.004784688995215311, 'whereas': 0.007177033492822967, 'wherever': 0.017543859649122806, 'whether': 0.08133971291866028, 'whichever': 0.006379585326953748, 'whichh': 0.001594896331738437, 'white': 0.004784688995215311, 'whoever': 0.03349282296650718, 'whole': 0.14912280701754385, 'whomever': 0.058213716108452954, 'whopping': 0.006379585326953748, 'whos': 0.007177033492822967, 'whose': 0.012759170653907496, 'wide': 0.01674641148325359, 'widely': 0.025518341307814992, 'wider': 0.004784688995215311, 'widespread': 0.006379585326953748, 'wife': 0.011961722488038277, 'wiih': 0.0007974481658692185, 'wiith': 0.0023923444976076554, 'wil': 0.003987240829346092, 'willing': 0.023923444976076555, 'willit': 0.007974481658692184, 'wilson': 0.0, 'win': 0.16427432216905902, 'window': 0.0007974481658692185, 'winner': 0.12998405103668262, 'winners': 0.003987240829346092, 'winnertake': 0.001594896331738437, 'winnertakeall': 0.09808612440191387, 'winnertakesall': 0.02631578947368421, 'winning': 0.12679425837320574, 'wins': 0.0685805422647528, 'winwin': 0.0007974481658692185, 'wise': 0.01036682615629984, 'wisely': 0.003189792663476874, 'wiser': 0.003189792663476874, 'wish': 0.017543859649122806, 'wishes': 0.007974481658692184, 'withe': 0.01036682615629984, 'witheout': 0.003189792663476874, 'within': 0.07814992025518341, 'without': 0.2966507177033493, 'witness': 0.003189792663476874, 'witnessing': 0.01036682615629984, 'witoh': 0.0023923444976076554, 'wo': 0.0, 'woman': 0.007177033492822967, 'women': 0.007974481658692184, 'wonder': 0.01594896331738437, 'wondered': 0.003987240829346092, 'wonderful': 0.01594896331738437, 'wonders': 0.003987240829346092, 'wont': 0.03668261562998405, 'word': 0.022328548644338118, 'words': 0.01594896331738437, 'work': 0.23684210526315788, 'worked': 0.0430622009569378, 'worker': 0.001594896331738437, 'working': 0.04784688995215311, 'workout': 0.003987240829346092, 'works': 0.037480063795853266, 'world': 0.32137161084529503, 'worlds': 0.013556618819776715, 'worldwide': 0.012759170653907496, 'worried': 0.0215311004784689, 'worries': 0.006379585326953748, 'worry': 0.09968102073365231, 'worrying': 0.045454545454545456, 'worse': 0.019936204146730464, 'worst': 0.023125996810207338, 'worth': 0.04226475279106858, 'worthless': 0.006379585326953748, 'worthy': 0.006379585326953748, 'would': 0.766347687400319, 'wouldnt': 0.028708133971291867, 'woven': 0.03987240829346093, 'wrap': 0.009569377990430622, 'wreck': 0.0023923444976076554, 'wrecks': 0.003987240829346092, 'write': 0.009569377990430622, 'writen': 0.003189792663476874, 'writer': 0.007974481658692184, 'writes': 0.015151515151515152, 'writing': 0.027910685805422646, 'written': 0.03508771929824561, 'wrong': 0.1339712918660287, 'wrote': 0.009569377990430622, 'wyoming': 0.001594896331738437, 'yeah': 0.006379585326953748, 'year': 0.17145135566188197, 'yearly': 0.003987240829346092, 'years': 0.17703349282296652, 'yelling': 0.004784688995215311, 'yes': 0.013556618819776715, 'yesterday': 0.0, 'yet': 0.08293460925039872, 'york': 0.003189792663476874, 'yote': 0.0007974481658692185, 'young': 0.0685805422647528, 'younger': 0.011164274322169059, 'youor': 0.0007974481658692185, 'youth': 0.004784688995215311, 'zone': 0.003189792663476874, 'zones': 0.004784688995215311}\n"
     ]
    }
   ],
   "source": [
    "total_documents = len(train)\n",
    "\n",
    "word_probabilities = {word: documents_containing_words_count[word] / total_documents for word in vocabulary_nltk_dataset}\n",
    "print(\"Probability of the occurrence for each word:\")\n",
    "print(word_probabilities)"
   ]
  },
  {
   "cell_type": "markdown",
   "id": "6bb3abe7",
   "metadata": {},
   "source": [
    "### Conditional probability based on the class (human or LLM)\n",
    "P[“the” | LLM]  = # of positive documents containing “the” / num of all LLM documents\n"
   ]
  },
  {
   "cell_type": "code",
   "execution_count": 139,
   "id": "091a25c5",
   "metadata": {},
   "outputs": [
    {
     "data": {
      "text/plain": [
       "15"
      ]
     },
     "execution_count": 139,
     "metadata": {},
     "output_type": "execute_result"
    }
   ],
   "source": [
    "len(LLM_documents)\n"
   ]
  },
  {
   "cell_type": "code",
   "execution_count": 153,
   "id": "4615f43b",
   "metadata": {},
   "outputs": [
    {
     "name": "stdout",
     "output_type": "stream",
     "text": [
      "Probability of the occurrence for each word:\n",
      "{'aa': 0.0, 'abide': 0.0, 'ability': 0.0, 'able': 0.0, 'abolish': 0.0, 'abolished': 0.0, 'abolishing': 0.0, 'abolishment': 0.0, 'abouto': 0.0, 'absence': 0.0, 'absolute': 0.0, 'absolutely': 0.0, 'absurd': 0.0, 'abundance': 0.0, 'abundant': 0.0, 'accelerate': 0.0, 'accept': 0.0, 'acceptable': 0.0, 'accepted': 0.0, 'access': 0.0, 'accessibility': 0.0, 'accessible': 0.06666666666666667, 'accident': 0.06666666666666667, 'accidents': 0.06666666666666667, 'accommodate': 0.0, 'accomplish': 0.0, 'according': 0.0, 'account': 0.0, 'accounts': 0.0, 'accuracy': 0.0, 'accurate': 0.0, 'accurately': 0.06666666666666667, 'accustomed': 0.0, 'achieve': 0.0, 'achieved': 0.0, 'achieving': 0.2, 'acid': 0.0, 'acknowledge': 0.2, 'across': 0.26666666666666666, 'act': 0.0, 'action': 0.0, 'actions': 0.0, 'active': 0.2, 'actively': 0.3333333333333333, 'activities': 0.0, 'activity': 0.2, 'actual': 0.0, 'actually': 0.06666666666666667, 'ad': 0.0, 'adapt': 0.06666666666666667, 'add': 0.0, 'added': 0.0, 'adding': 0.0, 'addition': 0.0, 'additional': 0.13333333333333333, 'additionally': 0.0, 'address': 0.4666666666666667, 'addressed': 0.26666666666666666, 'addresses': 0.13333333333333333, 'adds': 0.0, 'adjust': 0.0, 'adjusted': 0.0, 'admit': 0.0, 'admits': 0.0, 'admitted': 0.0, 'adopt': 0.06666666666666667, 'adopted': 0.0, 'adopting': 0.06666666666666667, 'ads': 0.0, 'adults': 0.0, 'advance': 0.0, 'advanced': 0.0, 'advancements': 0.0, 'advances': 0.0, 'advantage': 0.2, 'advantageous': 0.0, 'advantages': 0.6, 'advertise': 0.0, 'advertisements': 0.0, 'advisor': 0.0, 'advocate': 0.26666666666666666, 'advocates': 0.0, 'aeoale': 0.0, 'affair': 0.06666666666666667, 'affect': 0.0, 'affected': 0.0, 'affecting': 0.0, 'affects': 0.0, 'afford': 0.0, 'affordable': 0.0, 'aflcio': 0.0, 'afraid': 0.0, 'afternoon': 0.0, 'age': 0.0, 'agency': 0.0, 'ages': 0.0, 'ago': 0.0, 'agree': 0.0, 'agreed': 0.0, 'agreement': 0.0, 'agrees': 0.0, 'agrue': 0.0, 'ahaa': 0.0, 'ahe': 0.0, 'ahead': 0.0, 'ahey': 0.0, 'ai': 0.0, 'aick': 0.0, 'aid': 0.0, 'aided': 0.0, 'aie': 0.0, 'aime': 0.0, 'air': 0.4, 'airpollution': 0.0, 'ais': 0.0, 'al': 0.0, 'alaska': 0.0, 'aligns': 0.5333333333333333, 'alike': 0.0, 'alio': 0.0, 'aliso': 0.0, 'alittle': 0.0, 'alive': 0.0, 'alleviate': 0.26666666666666666, 'allotment': 0.0, 'allow': 0.0, 'allowed': 0.0, 'allowing': 0.0, 'allows': 0.13333333333333333, 'almost': 0.0, 'alone': 0.0, 'along': 0.0, 'alongside': 0.0, 'alot': 0.0, 'aloud': 0.0, 'already': 0.06666666666666667, 'also': 0.5333333333333333, 'altered': 0.0, 'alternate': 0.0, 'alternative': 0.4, 'alternatives': 0.0, 'although': 0.0, 'altogether': 0.0, 'always': 0.0, 'amazing': 0.0, 'ambitious': 0.0, 'amendment': 0.0, 'america': 0.0, 'american': 0.0, 'americans': 0.0, 'americas': 0.0, 'among': 0.0, 'amongst': 0.06666666666666667, 'amount': 0.06666666666666667, 'amounts': 0.0, 'amout': 0.0, 'anachronism': 0.0, 'analysis': 0.0, 'andor': 0.0, 'andrew': 0.0, 'angry': 0.0, 'animals': 0.0, 'annoying': 0.0, 'annual': 0.13333333333333333, 'annually': 0.13333333333333333, 'anotheer': 0.0, 'another': 0.13333333333333333, 'answer': 0.0, 'answers': 0.0, 'antanas': 0.0, 'anxiety': 0.0, 'anybody': 0.0, 'anymore': 0.0, 'anyone': 0.0, 'anything': 0.0, 'anytime': 0.0, 'anyway': 0.0, 'anyways': 0.0, 'anywhere': 0.0, 'ao': 0.0, 'aoaular': 0.0, 'aon': 0.0, 'aond': 0.0, 'apart': 0.0, 'apparent': 0.0, 'apparently': 0.0, 'appeal': 0.4, 'appealing': 0.0, 'appear': 0.0, 'appears': 0.0, 'applied': 0.0, 'applies': 0.0, 'apply': 0.0, 'appointed': 0.0, 'appreciate': 0.0, 'approach': 0.3333333333333333, 'appropriations': 0.0, 'approval': 0.0, 'approve': 0.0, 'approved': 0.0, 'approximately': 0.0, 'apps': 0.0, 'april': 0.0, 'ar': 0.0, 'area': 0.0, 'areas': 0.3333333333333333, 'arent': 0.0, 'ares': 0.0, 'aresident': 0.0, 'arguably': 0.0, 'argue': 0.3333333333333333, 'argued': 0.0, 'arguements': 0.0, 'argues': 0.0, 'arguing': 0.0, 'argument': 0.13333333333333333, 'arguments': 0.2, 'arise': 0.0, 'around': 0.13333333333333333, 'arrangements': 0.0, 'arrive': 0.0, 'arriving': 0.0, 'artical': 0.0, 'article': 0.0, 'articles': 0.0, 'artoicle': 0.0, 'arturo': 0.0, 'ascertainment': 0.0, 'aside': 0.0, 'ask': 0.0, 'asked': 0.0, 'asking': 0.0, 'aspect': 0.3333333333333333, 'aspects': 0.0, 'assertions': 0.2, 'asserts': 0.0, 'assist': 0.0, 'associated': 0.2, 'assume': 0.0, 'assuming': 0.0, 'assure': 0.0, 'assured': 0.0, 'asthma': 0.0, 'astonishing': 0.0, 'asuncion': 0.0, 'aswell': 0.0, 'athe': 0.0, 'athey': 0.0, 'athink': 0.0, 'atleast': 0.0, 'atmosphere': 0.0, 'ato': 0.0, 'attempt': 0.0, 'attempted': 0.0, 'attempting': 0.0, 'attempts': 0.0, 'attention': 0.26666666666666666, 'attitude': 0.0, 'author': 0.0, 'authorities': 0.0, 'authority': 0.0, 'auto': 0.06666666666666667, 'automatically': 0.0, 'automobile': 0.0, 'automobilei': 0.0, 'automobiles': 0.06666666666666667, 'automotive': 0.0, 'available': 0.0, 'average': 0.0, 'avoid': 0.0, 'avoidance': 0.3333333333333333, 'avoided': 0.0, 'avoiding': 0.0, 'avoids': 0.0, 'award': 0.0, 'awarded': 0.0, 'awarding': 0.06666666666666667, 'awards': 0.0, 'aware': 0.0, 'awareness': 0.0, 'awareoness': 0.0, 'away': 0.06666666666666667, 'awesome': 0.0, 'awful': 0.0, 'awhile': 0.0, 'b': 0.0, 'back': 0.06666666666666667, 'backed': 0.0, 'backing': 0.0, 'backs': 0.0, 'backup': 0.0, 'bad': 0.0, 'balance': 0.3333333333333333, 'balanced': 0.26666666666666666, 'balances': 0.0, 'ball': 0.0, 'ballot': 0.0, 'ban': 0.06666666666666667, 'band': 0.0, 'bank': 0.0, 'banned': 0.0, 'banning': 0.0, 'bans': 0.06666666666666667, 'barack': 0.0, 'barcelona': 0.0, 'bare': 0.0, 'barely': 0.0, 'barrier': 0.0, 'bart': 0.0, 'base': 0.0, 'based': 0.0, 'basic': 0.0, 'basically': 0.0, 'basis': 0.0, 'battle': 0.0, 'bay': 0.0, 'bbc': 0.0, 'beach': 0.0, 'beacuse': 0.0, 'beat': 0.0, 'beautiful': 0.0, 'beauty': 0.0, 'became': 0.0, 'becasue': 0.0, 'becauie': 0.0, 'become': 0.2, 'becomes': 0.06666666666666667, 'becoming': 0.06666666666666667, 'becuase': 0.0, 'beeon': 0.0, 'began': 0.0, 'begin': 0.0, 'begining': 0.0, 'beginning': 0.0, 'begins': 0.0, 'begun': 0.0, 'behavior': 0.06666666666666667, 'behind': 0.0, 'beijing': 0.0, 'beings': 0.0, 'bejing': 0.0, 'belief': 0.13333333333333333, 'beliefs': 0.0, 'believe': 0.13333333333333333, 'believed': 0.0, 'believes': 0.0, 'believing': 0.0, 'belive': 0.0, 'belong': 0.0, 'beloved': 0.0, 'beneficial': 0.2, 'benefit': 0.06666666666666667, 'benefited': 0.0, 'benefiting': 0.0, 'benefits': 0.5333333333333333, 'benefitted': 0.0, 'benefitting': 0.0, 'benificial': 0.0, 'benifit': 0.0, 'benifits': 0.0, 'besides': 0.0, 'best': 0.0, 'bestlaid': 0.0, 'bet': 0.0, 'betray': 0.0, 'betrayed': 0.0, 'better': 0.2, 'betters': 0.0, 'beyond': 0.6, 'bias': 0.0, 'biased': 0.0, 'bicycle': 0.0, 'bicycles': 0.0, 'bicycling': 0.0, 'big': 0.06666666666666667, 'bigger': 0.0, 'biggest': 0.0, 'bike': 0.0, 'biked': 0.0, 'bikers': 0.0, 'bikes': 0.0, 'bikesharing': 0.0, 'biking': 0.06666666666666667, 'bill': 0.0, 'billions': 0.13333333333333333, 'bills': 0.0, 'birds': 0.0, 'birthplace': 0.0, 'bit': 0.0, 'black': 0.0, 'blame': 0.0, 'blamed': 0.0, 'blind': 0.0, 'blindly': 0.0, 'block': 0.0, 'blocks': 0.0, 'blood': 0.0, 'bloom': 0.0, 'bloomed': 0.0, 'blooming': 0.0, 'blow': 0.0, 'blue': 0.0, 'board': 0.0, 'bob': 0.0, 'bodies': 0.0, 'body': 0.0, 'bogata': 0.0, 'bogota': 0.0, 'bonding': 0.0, 'book': 0.0, 'boom': 0.0, 'boomed': 0.0, 'boost': 0.0, 'booth': 0.0, 'border': 0.0, 'borders': 0.0, 'boring': 0.0, 'born': 0.0, 'bother': 0.0, 'bothered': 0.0, 'bought': 0.0, 'bound': 0.0, 'box': 0.0, 'bradford': 0.0, 'brain': 0.0, 'branch': 0.0, 'brand': 0.0, 'brave': 0.0, 'break': 0.06666666666666667, 'breakdown': 0.0, 'breaking': 0.0, 'breaks': 0.0, 'breath': 0.0, 'breathable': 0.0, 'breathe': 0.0, 'breathing': 0.0, 'bridge': 0.0, 'bright': 0.0, 'brighter': 0.0, 'brilliant': 0.0, 'bring': 0.06666666666666667, 'bringing': 0.0, 'brings': 0.0, 'broad': 0.13333333333333333, 'broader': 0.26666666666666666, 'broke': 0.0, 'broken': 0.0, 'brought': 0.0, 'brussels': 0.0, 'bua': 0.0, 'budget': 0.0, 'buffer': 0.0, 'build': 0.0, 'building': 0.0, 'buildings': 0.0, 'built': 0.0, 'buit': 0.0, 'bumper': 0.0, 'bunch': 0.0, 'burden': 0.2, 'burgeoning': 0.0, 'burn': 0.0, 'burned': 0.0, 'burning': 0.06666666666666667, 'bus': 0.0, 'buses': 0.0, 'bush': 0.0, 'business': 0.0, 'businesses': 0.0, 'businessman': 0.0, 'busses': 0.0, 'busy': 0.0, 'buto': 0.0, 'buy': 0.0, 'buying': 0.06666666666666667, 'buys': 0.0, 'bycicle': 0.0, 'ca': 0.0, 'cai': 0.0, 'cais': 0.0, 'cali': 0.0, 'california': 0.0, 'call': 0.0, 'called': 0.0, 'calls': 0.0, 'calm': 0.0, 'calming': 0.0, 'calories': 0.0, 'came': 0.0, 'campaign': 0.2, 'campaigning': 0.0, 'campaigns': 0.0, 'campaignto': 0.0, 'canadate': 0.0, 'cancer': 0.0, 'candidate': 0.3333333333333333, 'candidatee': 0.0, 'candidates': 0.4666666666666667, 'candidatesknowing': 0.0, 'candidatoe': 0.0, 'canidate': 0.0, 'canidates': 0.0, 'cant': 0.0, 'capable': 0.0, 'capital': 0.0, 'capitals': 0.0, 'capitol': 0.0, 'caps': 0.0, 'car': 0.4666666666666667, 'cara': 0.0, 'carbon': 0.2, 'care': 0.0, 'cared': 0.0, 'carefree': 0.0, 'careful': 0.06666666666666667, 'carefully': 0.13333333333333333, 'careless': 0.06666666666666667, 'cares': 0.0, 'carfree': 0.0, 'cari': 0.0, 'caring': 0.0, 'carintensive': 0.0, 'carless': 0.0, 'carlos': 0.0, 'carolina': 0.0, 'carowner': 0.0, 'carpool': 0.0, 'carpooled': 0.0, 'carpooling': 0.0, 'carreduced': 0.0, 'carry': 0.13333333333333333, 'carrying': 0.0, 'cars': 0.26666666666666666, 'carsharing': 0.0, 'carter': 0.0, 'caruse': 0.0, 'case': 0.06666666666666667, 'cases': 0.0, 'cash': 0.0, 'cashstrapped': 0.0, 'cast': 0.13333333333333333, 'casted': 0.0, 'casting': 0.0, 'casts': 0.0, 'catastrophe': 0.0, 'catch': 0.0, 'catching': 0.0, 'caught': 0.0, 'cause': 0.0, 'caused': 0.0, 'causes': 0.06666666666666667, 'causing': 0.06666666666666667, 'cautious': 0.0, 'cautiously': 0.0, 'celebrate': 0.13333333333333333, 'cell': 0.0, 'cellphones': 0.0, 'center': 0.0, 'centered': 0.06666666666666667, 'centers': 0.0, 'central': 0.0, 'centuries': 0.0, 'century': 0.0, 'certain': 0.0, 'certainly': 0.0, 'certainty': 0.3333333333333333, 'certificate': 0.0, 'chain': 0.0, 'chairman': 0.0, 'chamber': 0.0, 'chance': 0.13333333333333333, 'chances': 0.0, 'change': 0.2, 'changed': 0.0, 'changer': 0.0, 'changes': 0.0, 'changing': 0.06666666666666667, 'chaos': 0.0, 'charge': 0.0, 'charged': 0.0, 'chatter': 0.0, 'cheap': 0.0, 'cheaper': 0.0, 'cheat': 0.0, 'cheated': 0.0, 'cheating': 0.0, 'check': 0.0, 'chemicals': 0.0, 'chicago': 0.0, 'child': 0.0, 'children': 0.06666666666666667, 'childrens': 0.0, 'china': 0.0, 'choice': 0.0, 'choices': 0.0, 'choking': 0.0, 'choose': 0.13333333333333333, 'choosen': 0.0, 'chooses': 0.0, 'choosing': 0.0, 'chose': 0.0, 'chosen': 0.0, 'chosing': 0.0, 'circumstances': 0.0, 'cites': 0.0, 'cities': 0.4, 'citizen': 0.2, 'citizens': 0.6, 'citoizens': 0.0, 'citoy': 0.0, 'city': 0.2, 'citys': 0.0, 'civilians': 0.0, 'claim': 0.0, 'claimed': 0.0, 'claims': 0.0, 'class': 0.0, 'clean': 0.06666666666666667, 'cleaner': 0.0, 'cleaning': 0.0, 'cleanse': 0.0, 'clear': 0.4, 'cleared': 0.0, 'clearer': 0.0, 'clearing': 0.0, 'clearly': 0.0, 'climate': 0.26666666666666666, 'clinton': 0.0, 'close': 0.0, 'closely': 0.13333333333333333, 'closer': 0.0, 'closing': 0.0, 'cloud': 0.0, 'clouds': 0.0, 'clutter': 0.0, 'coffee': 0.0, 'cold': 0.0, 'collage': 0.0, 'colleage': 0.0, 'college': 0.0, 'collegee': 0.0, 'colleges': 0.0, 'collegewon': 0.0, 'collge': 0.0, 'colombia': 0.0, 'colombian': 0.0, 'colombians': 0.0, 'color': 0.0, 'columbia': 0.0, 'columbians': 0.0, 'combat': 0.2, 'combination': 0.0, 'combined': 0.0, 'come': 0.13333333333333333, 'comes': 0.0, 'comfort': 0.0, 'comfortable': 0.0, 'coming': 0.0, 'comment': 0.0, 'commerce': 0.0, 'commercial': 0.0, 'committee': 0.0, 'commity': 0.0, 'common': 0.06666666666666667, 'commonly': 0.0, 'communicate': 0.0, 'communication': 0.13333333333333333, 'communities': 0.13333333333333333, 'community': 0.06666666666666667, 'communties': 0.0, 'commute': 0.13333333333333333, 'commuters': 0.0, 'commutes': 0.06666666666666667, 'commuting': 0.0, 'compact': 0.06666666666666667, 'companies': 0.06666666666666667, 'company': 0.0, 'compare': 0.0, 'compared': 0.0, 'comparing': 0.0, 'comparison': 0.0, 'compete': 0.0, 'competing': 0.0, 'complain': 0.0, 'complained': 0.0, 'complete': 0.0, 'completed': 0.0, 'completely': 0.0, 'completley': 0.0, 'completly': 0.0, 'complex': 0.0, 'complicate': 0.0, 'complicated': 0.0, 'complicates': 0.0, 'complication': 0.0, 'complications': 0.0, 'component': 0.13333333333333333, 'compromise': 0.26666666666666666, 'computer': 0.0, 'computers': 0.0, 'con': 0.0, 'concept': 0.3333333333333333, 'concepts': 0.0, 'concern': 0.06666666666666667, 'concerned': 0.0, 'concerning': 0.0, 'concerns': 0.26666666666666666, 'conclude': 0.0, 'concluded': 0.0, 'conclusion': 0.0, 'condensed': 0.0, 'condition': 0.0, 'conditions': 0.0, 'conducted': 0.13333333333333333, 'confidence': 0.0, 'confident': 0.0, 'conflict': 0.0, 'conflicts': 0.0, 'confuse': 0.0, 'confused': 0.0, 'confusing': 0.0, 'confusion': 0.0, 'congested': 0.0, 'congestion': 0.2, 'congress': 0.0, 'congressional': 0.3333333333333333, 'connect': 0.0, 'connected': 0.06666666666666667, 'connection': 0.06666666666666667, 'cons': 0.0, 'consequences': 0.06666666666666667, 'conservation': 0.0, 'conservative': 0.0, 'conserve': 0.0, 'conserved': 0.0, 'conserving': 0.0, 'consider': 0.5333333333333333, 'considerably': 0.0, 'consideration': 0.06666666666666667, 'considered': 0.0, 'considering': 0.0, 'consist': 0.0, 'consistently': 0.0, 'consists': 0.2, 'constant': 0.0, 'constantly': 0.0, 'constitution': 0.0, 'constitutional': 0.06666666666666667, 'constructed': 0.0, 'construction': 0.0, 'constution': 0.0, 'consumers': 0.06666666666666667, 'consuming': 0.0, 'contact': 0.0, 'contains': 0.0, 'contamination': 0.0, 'content': 0.0, 'context': 0.2, 'continent': 0.0, 'continue': 0.0, 'continued': 0.13333333333333333, 'continues': 0.06666666666666667, 'continuing': 0.0, 'contorol': 0.0, 'contradict': 0.0, 'contrary': 0.13333333333333333, 'contrast': 0.0, 'contribute': 0.4, 'contributed': 0.0, 'contributes': 0.26666666666666666, 'contributing': 0.06666666666666667, 'contribution': 0.0, 'contributor': 0.13333333333333333, 'control': 0.0, 'controlled': 0.0, 'controversial': 0.0, 'controversy': 0.0, 'contry': 0.0, 'convenience': 0.0, 'convenient': 0.0, 'conventions': 0.0, 'converging': 0.0, 'convienent': 0.0, 'convince': 0.0, 'cool': 0.0, 'cooling': 0.0, 'core': 0.0, 'corner': 0.0, 'correct': 0.0, 'correctly': 0.0, 'corrupt': 0.0, 'corruption': 0.0, 'cost': 0.13333333333333333, 'costing': 0.0, 'costly': 0.0, 'costs': 0.13333333333333333, 'couch': 0.0, 'could': 0.2, 'couniry': 0.0, 'counitry': 0.0, 'counrty': 0.0, 'count': 0.0, 'counted': 0.0, 'counter': 0.0, 'counterclaim': 0.0, 'counties': 0.0, 'counting': 0.3333333333333333, 'countless': 0.0, 'countory': 0.0, 'countries': 0.0, 'country': 0.06666666666666667, 'counts': 0.13333333333333333, 'county': 0.0, 'couple': 0.0, 'course': 0.0, 'covered': 0.0, 'covering': 0.0, 'cracked': 0.0, 'crash': 0.0, 'crashes': 0.0, 'crazy': 0.0, 'create': 0.13333333333333333, 'created': 0.0, 'creates': 0.0, 'creating': 0.2, 'creation': 0.13333333333333333, 'creatures': 0.0, 'crime': 0.0, 'crisis': 0.0, 'critical': 0.2, 'critics': 0.3333333333333333, 'cropped': 0.0, 'cross': 0.0, 'crossing': 0.0, 'crowded': 0.06666666666666667, 'crucial': 0.4666666666666667, 'cubic': 0.0, 'culprit': 0.0, 'cultural': 0.2, 'culture': 0.0, 'cultures': 0.0, 'curb': 0.0, 'current': 0.2, 'currently': 0.0, 'cut': 0.0, 'cuts': 0.0, 'cutting': 0.0, 'cycling': 0.06666666666666667, 'daily': 0.13333333333333333, 'dakota': 0.0, 'damage': 0.0, 'damages': 0.0, 'damaging': 0.06666666666666667, 'danger': 0.0, 'dangerous': 0.0, 'dangers': 0.0, 'dark': 0.0, 'data': 0.0, 'date': 0.0, 'dated': 0.0, 'david': 0.0, 'day': 0.06666666666666667, 'dayi': 0.0, 'days': 0.0, 'dead': 0.0, 'deadlocked': 0.0, 'deadly': 0.0, 'deal': 0.0, 'dealing': 0.0, 'dealt': 0.0, 'dear': 0.0, 'death': 0.0, 'deaths': 0.0, 'debate': 0.0, 'debated': 0.0, 'debates': 0.0, 'debt': 0.0, 'decade': 0.0, 'decades': 0.0, 'decent': 0.0, 'decide': 0.0, 'decided': 0.0, 'decides': 0.0, 'deciding': 0.0, 'decision': 0.0, 'decisions': 0.26666666666666666, 'declares': 0.0, 'declaring': 0.0, 'decline': 0.0, 'declined': 0.0, 'declining': 0.0, 'decrease': 0.0, 'decreased': 0.06666666666666667, 'decreases': 0.0, 'decreasing': 0.06666666666666667, 'decreed': 0.0, 'dedicated': 0.0, 'deep': 0.0, 'defenders': 0.0, 'defense': 0.0, 'defenses': 0.0, 'defied': 0.0, 'definately': 0.0, 'defined': 0.0, 'definetely': 0.0, 'definite': 0.0, 'definitely': 0.0, 'defy': 0.0, 'defying': 0.0, 'delegates': 0.0, 'delegation': 0.0, 'delegations': 0.0, 'delivery': 0.0, 'demand': 0.0, 'demise': 0.0, 'democracy': 0.0, 'democrat': 0.0, 'democratic': 0.26666666666666666, 'democrats': 0.0, 'demographic': 0.2, 'demonstrates': 0.2, 'denied': 0.0, 'dense': 0.0, 'densely': 0.3333333333333333, 'denser': 0.0, 'density': 0.0, 'deny': 0.0, 'depend': 0.0, 'dependant': 0.0, 'depended': 0.0, 'dependence': 0.06666666666666667, 'dependency': 0.13333333333333333, 'dependent': 0.06666666666666667, 'depending': 0.0, 'depends': 0.0, 'deprived': 0.0, 'describe': 0.0, 'described': 0.0, 'describes': 0.0, 'deserve': 0.0, 'deserves': 0.0, 'designated': 0.0, 'designed': 0.13333333333333333, 'desirable': 0.0, 'desire': 0.0, 'desired': 0.0, 'despised': 0.0, 'despite': 0.2, 'destination': 0.0, 'destinations': 0.0, 'destroy': 0.0, 'destroyed': 0.0, 'destroying': 0.0, 'destruction': 0.0, 'destructive': 0.0, 'details': 0.0, 'determine': 0.2, 'determined': 0.0, 'determines': 0.0, 'determining': 0.0, 'detrimental': 0.0, 'detroit': 0.0, 'develop': 0.0, 'developed': 0.06666666666666667, 'developing': 0.0, 'development': 0.2, 'developments': 0.0, 'devices': 0.0, 'devoid': 0.0, 'didnt': 0.0, 'die': 0.0, 'died': 0.0, 'diesal': 0.0, 'diesel': 0.0, 'diesels': 0.0, 'differ': 0.0, 'difference': 0.0, 'different': 0.0, 'differently': 0.0, 'difficult': 0.0, 'difficulties': 0.0, 'difficulty': 0.0, 'dilemma': 0.0, 'diminish': 0.0, 'diminished': 0.0, 'dioxide': 0.0, 'direct': 0.4666666666666667, 'direction': 0.0, 'directly': 0.0, 'dirt': 0.0, 'dirty': 0.0, 'disadvantage': 0.0, 'disadvantages': 0.0, 'disagree': 0.0, 'disappear': 0.0, 'disaster': 0.4666666666666667, 'disasters': 0.0, 'disastrous': 0.0, 'discourage': 0.0, 'discouraged': 0.0, 'discourages': 0.0, 'discover': 0.0, 'discovered': 0.0, 'discrepancy': 0.13333333333333333, 'discuss': 0.0, 'discussed': 0.2, 'discusses': 0.0, 'discussing': 0.0, 'discussions': 0.2, 'disease': 0.0, 'diseases': 0.13333333333333333, 'disenfranchised': 0.0, 'dislike': 0.0, 'dispute': 0.0, 'disputed': 0.3333333333333333, 'disputes': 0.0, 'disregard': 0.0, 'disregarded': 0.0, 'distance': 0.0, 'distances': 0.0, 'distant': 0.0, 'distribution': 0.0, 'district': 0.0, 'districts': 0.0, 'diverse': 0.4, 'divide': 0.0, 'divided': 0.0, 'docent': 0.0, 'document': 0.0, 'doesnt': 0.0, 'dole': 0.0, 'dollar': 0.0, 'dollars': 0.13333333333333333, 'dominated': 0.13333333333333333, 'done': 0.06666666666666667, 'dont': 0.0, 'door': 0.0, 'doors': 0.0, 'dose': 0.0, 'double': 0.0, 'doubt': 0.0, 'doug': 0.0, 'downfall': 0.0, 'downside': 0.0, 'downsides': 0.0, 'downtown': 0.0, 'downturn': 0.0, 'drain': 0.0, 'dramatic': 0.0, 'dramatically': 0.0, 'drastic': 0.06666666666666667, 'drastically': 0.0, 'drawbacks': 0.13333333333333333, 'drawing': 0.2, 'drawn': 0.0, 'draws': 0.0, 'dream': 0.0, 'dreams': 0.0, 'drexel': 0.0, 'drink': 0.0, 'drive': 0.0, 'driven': 0.06666666666666667, 'driver': 0.0, 'drivers': 0.0, 'drives': 0.0, 'driveways': 0.0, 'driving': 0.06666666666666667, 'drop': 0.0, 'dropped': 0.0, 'dropping': 0.0, 'drove': 0.0, 'drown': 0.0, 'drunk': 0.0, 'drving': 0.0, 'due': 0.2, 'duffer': 0.0, 'dumped': 0.0, 'duty': 0.0, 'dying': 0.0, 'e': 0.0, 'eachother': 0.0, 'eaiier': 0.0, 'earlier': 0.0, 'early': 0.0, 'earn': 0.0, 'earned': 0.0, 'earth': 0.0, 'earthe': 0.0, 'earths': 0.0, 'ease': 0.0, 'easier': 0.0, 'easiest': 0.0, 'easily': 0.0, 'easy': 0.0, 'eat': 0.0, 'ec': 0.0, 'ecofriendly': 0.0, 'economic': 0.13333333333333333, 'economical': 0.0, 'economically': 0.0, 'economy': 0.0, 'ecosystem': 0.0, 'ecosystems': 0.0, 'ect': 0.0, 'edge': 0.0, 'educated': 0.0, 'education': 0.0, 'eerily': 0.0, 'effect': 0.0, 'effected': 0.0, 'effecting': 0.0, 'effective': 0.0, 'effectively': 0.0, 'effectiveness': 0.2, 'effects': 0.0, 'efficiency': 0.0, 'efficient': 0.26666666666666666, 'efficiently': 0.0, 'effort': 0.0, 'efforts': 0.3333333333333333, 'eight': 0.0, 'eighteen': 0.0, 'either': 0.0, 'elctoral': 0.0, 'elecaion': 0.0, 'elecaoral': 0.0, 'elecatoral': 0.0, 'elecioral': 0.0, 'elecition': 0.0, 'elecitoral': 0.0, 'elecitors': 0.0, 'elect': 0.06666666666666667, 'elected': 0.0, 'electing': 0.2, 'election': 0.4666666666666667, 'elections': 0.0, 'electoion': 0.0, 'electooral': 0.0, 'electoors': 0.0, 'elector': 0.0, 'electoral': 0.5333333333333333, 'electoralvote': 0.0, 'electori': 0.0, 'electorial': 0.0, 'electoris': 0.0, 'electors': 0.4666666666666667, 'electorsal': 0.0, 'electorss': 0.0, 'electric': 0.2, 'electricity': 0.0, 'elects': 0.0, 'eligible': 0.0, 'eliiabeth': 0.0, 'eliminate': 0.0, 'eliminated': 0.0, 'eliminates': 0.13333333333333333, 'eliminating': 0.13333333333333333, 'elimination': 0.0, 'elisabeth': 0.0, 'elizabeth': 0.0, 'else': 0.0, 'elses': 0.0, 'elsewhere': 0.0, 'embraced': 0.06666666666666667, 'embracing': 0.26666666666666666, 'emergency': 0.0, 'emiiiioni': 0.0, 'emission': 0.0, 'emissions': 0.2, 'emit': 0.0, 'emitted': 0.0, 'emitting': 0.0, 'emmisions': 0.0, 'emmisons': 0.0, 'emotional': 0.0, 'emphasis': 0.0, 'emphasizes': 0.4666666666666667, 'empty': 0.0, 'enact': 0.0, 'enacted': 0.0, 'encourage': 0.06666666666666667, 'encouraged': 0.0, 'encouragement': 0.26666666666666666, 'encourages': 0.4, 'encouraging': 0.0, 'end': 0.0, 'endangering': 0.0, 'ended': 0.0, 'ending': 0.0, 'endless': 0.0, 'ends': 0.0, 'energy': 0.0, 'enforce': 0.0, 'enforced': 0.0, 'enforcing': 0.0, 'engine': 0.06666666666666667, 'engines': 0.0, 'enhance': 0.13333333333333333, 'enjoy': 0.0, 'enjoyable': 0.0, 'enjoyed': 0.0, 'enjoying': 0.0, 'enjoys': 0.0, 'enormous': 0.0, 'enough': 0.2, 'enrique': 0.0, 'ensure': 0.13333333333333333, 'ensures': 0.26666666666666666, 'ensuring': 0.3333333333333333, 'enter': 0.0, 'enthusiastic': 0.0, 'entire': 0.3333333333333333, 'entirely': 0.0, 'entirety': 0.0, 'entitled': 0.0, 'enviorment': 0.0, 'enviornment': 0.0, 'enviroment': 0.0, 'environment': 0.26666666666666666, 'environmental': 0.4666666666666667, 'environmentally': 0.06666666666666667, 'environments': 0.13333333333333333, 'eonviroonmeont': 0.0, 'epa': 0.0, 'epidemic': 0.0, 'equal': 0.13333333333333333, 'equality': 0.0, 'equally': 0.06666666666666667, 'equals': 0.0, 'equation': 0.0, 'equivalent': 0.0, 'era': 0.13333333333333333, 'errands': 0.0, 'error': 0.0, 'escape': 0.0, 'especially': 0.13333333333333333, 'essay': 0.13333333333333333, 'essential': 0.3333333333333333, 'essentially': 0.0, 'establish': 0.0, 'established': 0.4, 'establishing': 0.0, 'estimated': 0.06666666666666667, 'etc': 0.0, 'euro': 0.0, 'europe': 0.0, 'european': 0.0, 'euros': 0.0, 'evei': 0.0, 'even': 0.13333333333333333, 'evenly': 0.0, 'evennumbered': 0.0, 'evens': 0.0, 'event': 0.0, 'events': 0.0, 'eventually': 0.06666666666666667, 'ever': 0.0, 'every': 0.2, 'everybody': 0.0, 'everyday': 0.0, 'everyone': 0.0, 'everyones': 0.0, 'everything': 0.0, 'everywhere': 0.0, 'eveyone': 0.0, 'evidence': 0.06666666666666667, 'evident': 0.06666666666666667, 'evidently': 0.0, 'evils': 0.0, 'evolution': 0.06666666666666667, 'evolving': 0.26666666666666666, 'exact': 0.0, 'exactly': 0.0, 'example': 0.06666666666666667, 'examples': 0.0, 'exceeds': 0.0, 'excellent': 0.0, 'except': 0.0, 'exception': 0.0, 'exceptions': 0.0, 'excercise': 0.0, 'excerpt': 0.0, 'excersie': 0.0, 'excersise': 0.0, 'excersize': 0.0, 'excess': 0.0, 'excessive': 0.06666666666666667, 'excluding': 0.0, 'excuse': 0.0, 'executive': 0.0, 'executives': 0.0, 'exercise': 0.0, 'exercising': 0.0, 'exhaust': 0.0, 'exist': 0.0, 'existence': 0.0, 'exists': 0.0, 'expand': 0.0, 'expanding': 0.0, 'expect': 0.0, 'expected': 0.0, 'expense': 0.0, 'expenses': 0.0, 'expensive': 0.0, 'experience': 0.0, 'experienced': 0.0, 'experiences': 0.0, 'experiencing': 0.0, 'experiment': 0.06666666666666667, 'experimental': 0.0, 'experiments': 0.13333333333333333, 'experts': 0.0, 'expiration': 0.0, 'explain': 0.0, 'explained': 0.0, 'explaining': 0.0, 'explains': 0.0, 'explanation': 0.0, 'explore': 0.06666666666666667, 'exposed': 0.0, 'exposure': 0.0, 'express': 0.4666666666666667, 'expressed': 0.0, 'extend': 0.3333333333333333, 'extensive': 0.06666666666666667, 'extent': 0.0, 'extinct': 0.0, 'extra': 0.0, 'extreme': 0.0, 'extremely': 0.0, 'eye': 0.0, 'eyes': 0.0, 'f': 0.0, 'face': 0.0, 'faced': 0.0, 'faces': 0.0, 'facilitated': 0.0, 'facing': 0.06666666666666667, 'fact': 0.06666666666666667, 'factor': 0.0, 'factories': 0.0, 'factors': 0.0, 'facts': 0.0, 'fail': 0.0, 'failed': 0.0, 'failing': 0.0, 'failure': 0.0, 'fair': 0.13333333333333333, 'fairly': 0.0, 'fairness': 0.13333333333333333, 'faith': 0.0, 'faithful': 0.0, 'faithless': 0.3333333333333333, 'fall': 0.0, 'falling': 0.0, 'falls': 0.0, 'false': 0.0, 'familiar': 0.0, 'families': 0.13333333333333333, 'family': 0.0, 'famous': 0.0, 'fantastic': 0.0, 'far': 0.2, 'farther': 0.0, 'fast': 0.0, 'faster': 0.06666666666666667, 'fastest': 0.0, 'fat': 0.0, 'fatal': 0.0, 'fate': 0.0, 'father': 0.0, 'fathers': 0.26666666666666666, 'fault': 0.0, 'faults': 0.0, 'faulty': 0.0, 'favor': 0.0, 'favored': 0.0, 'favoring': 0.0, 'favorite': 0.0, 'favoritism': 0.0, 'favors': 0.0, 'fear': 0.0, 'features': 0.0, 'federal': 0.0, 'fee': 0.0, 'feel': 0.0, 'feeling': 0.0, 'feelings': 0.0, 'feels': 0.0, 'feet': 0.0, 'fellow': 0.13333333333333333, 'felt': 0.0, 'fewer': 0.26666666666666666, 'fiasco': 0.0, 'field': 0.0, 'fifteen': 0.0, 'fifth': 0.0, 'fifty': 0.0, 'fiftyseven': 0.0, 'fight': 0.0, 'fighting': 0.0, 'figure': 0.0, 'figures': 0.0, 'fill': 0.0, 'filled': 0.0, 'filling': 0.0, 'final': 0.0, 'finally': 0.06666666666666667, 'financial': 0.0, 'financially': 0.0, 'find': 0.0, 'finding': 0.0, 'finds': 0.3333333333333333, 'fine': 0.0, 'fined': 0.0, 'fines': 0.0, 'fining': 0.0, 'finish': 0.0, 'finished': 0.0, 'fiom': 0.0, 'fire': 0.0, 'first': 0.0, 'firstly': 0.0, 'fit': 0.0, 'five': 0.0, 'fivedays': 0.0, 'fix': 0.0, 'fixed': 0.0, 'fixing': 0.0, 'flat': 0.0, 'flaw': 0.0, 'flawed': 0.0, 'flaws': 0.13333333333333333, 'flexible': 0.0, 'florida': 0.0, 'flourish': 0.0, 'flow': 0.06666666666666667, 'flying': 0.0, 'fo': 0.0, 'focus': 0.13333333333333333, 'focused': 0.0, 'focuses': 0.0, 'focusing': 0.3333333333333333, 'fog': 0.0, 'foi': 0.0, 'follow': 0.0, 'followed': 0.0, 'following': 0.0, 'follows': 0.0, 'food': 0.0, 'foor': 0.0, 'foot': 0.0, 'footprint': 0.0, 'forbidden': 0.0, 'forbidding': 0.0, 'force': 0.0, 'forced': 0.0, 'forces': 0.0, 'forcing': 0.0, 'ford': 0.0, 'fore': 0.0, 'foreign': 0.0, 'foremost': 0.0, 'forever': 0.0, 'forget': 0.0, 'form': 0.0, 'formed': 0.0, 'former': 0.0, 'forms': 0.0, 'forth': 0.0, 'fortuitous': 0.0, 'forty': 0.0, 'forward': 0.13333333333333333, 'fossil': 0.26666666666666666, 'fostering': 0.3333333333333333, 'fought': 0.0, 'found': 0.0, 'foundation': 0.13333333333333333, 'founded': 0.13333333333333333, 'founding': 0.4666666666666667, 'four': 0.0, 'fourteen': 0.0, 'fourth': 0.0, 'france': 0.0, 'francisco': 0.0, 'frankly': 0.0, 'fraud': 0.0, 'free': 0.06666666666666667, 'freedom': 0.0, 'freely': 0.0, 'freiburg': 0.0, 'french': 0.0, 'frequently': 0.0, 'fresh': 0.0, 'friday': 0.0, 'friend': 0.0, 'friendly': 0.0, 'friends': 0.0, 'fro': 0.0, 'front': 0.0, 'frustrated': 0.0, 'frustrating': 0.0, 'fuel': 0.0, 'fuels': 0.13333333333333333, 'fulfill': 0.0, 'full': 0.0, 'fully': 0.0, 'fumes': 0.0, 'fun': 0.0, 'function': 0.0, 'functionality': 0.0, 'functioning': 0.0, 'fundamental': 0.06666666666666667, 'furthermore': 0.0, 'future': 0.6, 'gai': 0.0, 'gain': 0.0, 'gained': 0.13333333333333333, 'gaining': 0.06666666666666667, 'gains': 0.0, 'gallon': 0.0, 'gallons': 0.0, 'gallop': 0.0, 'gallup': 0.0, 'game': 0.0, 'garage': 0.0, 'garages': 0.0, 'gas': 0.4, 'gases': 0.0, 'gasoline': 0.06666666666666667, 'gass': 0.0, 'gasses': 0.0, 'gather': 0.0, 'gave': 0.0, 'general': 0.0, 'generally': 0.0, 'generating': 0.0, 'generation': 0.0, 'generations': 0.0, 'george': 0.0, 'german': 0.0, 'germany': 0.0, 'get': 0.0, 'geto': 0.0, 'gets': 0.06666666666666667, 'getting': 0.0, 'give': 0.06666666666666667, 'given': 0.0, 'gives': 0.0, 'giving': 0.0, 'global': 0.2, 'globally': 0.0, 'globe': 0.0, 'go': 0.2, 'goal': 0.0, 'goals': 0.0, 'god': 0.0, 'goes': 0.13333333333333333, 'going': 0.0, 'goldberg': 0.0, 'gon': 0.0, 'gone': 0.0, 'good': 0.2, 'goodbye': 0.0, 'goods': 0.0, 'gore': 0.0, 'gorethanks': 0.0, 'got': 0.0, 'gote': 0.0, 'gotes': 0.0, 'gotten': 0.0, 'goverment': 0.0, 'govern': 0.0, 'governed': 0.0, 'government': 0.0, 'governments': 0.0, 'governor': 0.0, 'gradually': 0.0, 'grand': 0.0, 'granted': 0.0, 'gray': 0.0, 'great': 0.0, 'greater': 0.0, 'greatest': 0.0, 'greatly': 0.0, 'green': 0.13333333333333333, 'greener': 0.0, 'greenhouie': 0.0, 'greenhouse': 0.3333333333333333, 'grey': 0.0, 'groceries': 0.0, 'grocery': 0.0, 'ground': 0.2, 'group': 0.0, 'groups': 0.0, 'grow': 0.0, 'growing': 0.0, 'grown': 0.0, 'grows': 0.0, 'growth': 0.0, 'guarantee': 0.0, 'guaranteed': 0.0, 'guarantees': 0.0, 'guess': 0.0, 'guy': 0.0, 'guys': 0.0, 'gym': 0.0, 'haa': 0.0, 'habit': 0.0, 'habits': 0.0, 'hai': 0.0, 'hais': 0.0, 'half': 0.0, 'hand': 0.0, 'handed': 0.0, 'handful': 0.0, 'handle': 0.0, 'handled': 0.0, 'hands': 0.0, 'handy': 0.0, 'hang': 0.0, 'hanging': 0.0, 'hao': 0.0, 'happen': 0.0, 'happend': 0.0, 'happened': 0.0, 'happening': 0.0, 'happens': 0.0, 'happier': 0.06666666666666667, 'happiness': 0.0, 'happy': 0.0, 'hard': 0.0, 'harder': 0.0, 'hardly': 0.0, 'harm': 0.0, 'harmful': 0.0, 'harming': 0.06666666666666667, 'harms': 0.0, 'harsh': 0.0, 'hasnt': 0.0, 'hassle': 0.0, 'hat': 0.0, 'hate': 0.0, 'hawaii': 0.0, 'hazard': 0.0, 'hazardous': 0.0, 'hazards': 0.0, 'head': 0.0, 'headed': 0.0, 'heading': 0.0, 'heads': 0.0, 'health': 0.4, 'healthcare': 0.26666666666666666, 'healthe': 0.0, 'healtheier': 0.0, 'healthier': 0.26666666666666666, 'healthy': 0.06666666666666667, 'hear': 0.0, 'heard': 0.0, 'hearing': 0.0, 'heart': 0.0, 'heat': 0.0, 'heathier': 0.0, 'heavily': 0.13333333333333333, 'heavy': 0.0, 'hectic': 0.0, 'heidrum': 0.0, 'heidrun': 0.0, 'held': 0.0, 'hello': 0.0, 'help': 0.0, 'helped': 0.0, 'helpful': 0.0, 'helping': 0.0, 'helps': 0.06666666666666667, 'hence': 0.0, 'henry': 0.0, 'heshe': 0.0, 'high': 0.0, 'higher': 0.06666666666666667, 'highest': 0.0, 'highlighted': 0.4666666666666667, 'highlights': 0.13333333333333333, 'highly': 0.0, 'highway': 0.0, 'highways': 0.0, 'hike': 0.0, 'hiked': 0.0, 'hiking': 0.0, 'himher': 0.0, 'hisher': 0.0, 'historical': 0.4, 'history': 0.0, 'hit': 0.06666666666666667, 'hitting': 0.0, 'hold': 0.0, 'holding': 0.0, 'holds': 0.13333333333333333, 'hole': 0.0, 'holes': 0.0, 'holiday': 0.0, 'home': 0.13333333333333333, 'homes': 0.0, 'honest': 0.0, 'honestly': 0.0, 'honesty': 0.0, 'honking': 0.0, 'hop': 0.0, 'hope': 0.3333333333333333, 'hopefully': 0.0, 'hopes': 0.0, 'hoping': 0.0, 'horns': 0.0, 'horrible': 0.0, 'hospital': 0.0, 'hot': 0.0, 'hour': 0.0, 'hours': 0.0, 'house': 0.0, 'household': 0.0, 'houses': 0.0, 'housing': 0.0, 'however': 0.0, 'huge': 0.0, 'human': 0.0, 'humanity': 0.0, 'humans': 0.0, 'hundred': 0.0, 'hundreds': 0.0, 'hungry': 0.0, 'hurry': 0.0, 'hurt': 0.0, 'hurting': 0.0, 'hurts': 0.0, 'hybrid': 0.0, 'hybrids': 0.0, 'ia': 0.0, 'iat': 0.0, 'iay': 0.0, 'ice': 0.0, 'idea': 0.13333333333333333, 'ideal': 0.13333333333333333, 'ideals': 0.0, 'ideas': 0.0, 'ie': 0.0, 'ielected': 0.0, 'ignore': 0.0, 'ignored': 0.0, 'ignores': 0.0, 'ignoring': 0.0, 'ihai': 0.0, 'ihe': 0.0, 'ihey': 0.0, 'ihould': 0.0, 'ii': 0.0, 'iis': 0.0, 'iit': 0.0, 'illnesses': 0.0, 'illogical': 0.0, 'im': 0.0, 'image': 0.0, 'imagine': 0.0, 'immediately': 0.0, 'immense': 0.0, 'immensely': 0.0, 'immortalized': 0.0, 'imog': 0.0, 'impact': 0.3333333333333333, 'impacted': 0.0, 'impactful': 0.0, 'impacts': 0.13333333333333333, 'impediment': 0.06666666666666667, 'imperative': 0.13333333333333333, 'implement': 0.0, 'implemented': 0.0, 'implementing': 0.0, 'implications': 0.06666666666666667, 'implies': 0.0, 'importance': 0.13333333333333333, 'important': 0.2, 'importantly': 0.0, 'imposed': 0.0, 'impossible': 0.0, 'impounded': 0.0, 'impractical': 0.0, 'improve': 0.0, 'improved': 0.06666666666666667, 'improvement': 0.06666666666666667, 'improvements': 0.0, 'improves': 0.2, 'improving': 0.13333333333333333, 'inaccurate': 0.0, 'incentive': 0.0, 'incident': 0.0, 'incidents': 0.0, 'incipient': 0.0, 'inclined': 0.0, 'include': 0.0, 'included': 0.0, 'includes': 0.0, 'including': 0.4666666666666667, 'inconvenient': 0.0, 'increase': 0.0, 'increased': 0.2, 'increases': 0.06666666666666667, 'increasing': 0.0, 'increasingly': 0.13333333333333333, 'incredible': 0.0, 'incredibly': 0.0, 'indeed': 0.0, 'indefensible': 0.0, 'independence': 0.0, 'independent': 0.0, 'indirect': 0.0, 'indirectly': 0.0, 'individual': 0.3333333333333333, 'individually': 0.0, 'individuals': 0.13333333333333333, 'induces': 0.0, 'industrial': 0.0, 'industries': 0.0, 'industry': 0.06666666666666667, 'ineffective': 0.0, 'inefficient': 0.0, 'inequality': 0.0, 'inevitable': 0.0, 'infact': 0.0, 'infamous': 0.0, 'influence': 0.13333333333333333, 'influenced': 0.0, 'influential': 0.0, 'inform': 0.06666666666666667, 'information': 0.2, 'informed': 0.0, 'informs': 0.0, 'infrastructure': 0.0, 'inhabitants': 0.0, 'inhale': 0.0, 'inherent': 0.2, 'initially': 0.13333333333333333, 'initiative': 0.13333333333333333, 'initiatives': 0.26666666666666666, 'injured': 0.0, 'injuries': 0.0, 'injury': 0.0, 'injustice': 0.0, 'innocent': 0.0, 'innovation': 0.0, 'innovations': 0.0, 'innovative': 0.06666666666666667, 'inorder': 0.0, 'input': 0.0, 'insane': 0.0, 'inside': 0.0, 'insights': 0.3333333333333333, 'insignificant': 0.0, 'inspired': 0.0, 'instance': 0.0, 'instances': 0.26666666666666666, 'instead': 0.0, 'insted': 0.0, 'institute': 0.0, 'insurance': 0.0, 'insure': 0.0, 'int': 0.0, 'intact': 0.0, 'integrity': 0.0, 'intended': 0.0, 'intense': 0.0, 'intensifying': 0.0, 'intensive': 0.0, 'intentions': 0.0, 'interact': 0.0, 'interaction': 0.0, 'interactions': 0.0, 'interest': 0.0, 'interested': 0.0, 'interesting': 0.0, 'interests': 0.3333333333333333, 'international': 0.0, 'internet': 0.0, 'intrigues': 0.0, 'introduce': 0.0, 'introduced': 0.0, 'invariably': 0.0, 'invented': 0.0, 'invention': 0.0, 'inventions': 0.0, 'invest': 0.0, 'investment': 0.0, 'involved': 0.0, 'involves': 0.06666666666666667, 'involving': 0.0, 'io': 0.0, 'iome': 0.0, 'iot': 0.0, 'irrational': 0.0, 'irrelevant': 0.0, 'isayis': 0.0, 'island': 0.0, 'isnt': 0.0, 'issue': 0.4, 'issued': 0.0, 'issues': 0.3333333333333333, 'isyistem': 0.0, 'itate': 0.0, 'itatei': 0.0, 'item': 0.0, 'items': 0.0, 'ithait': 0.0, 'ithe': 0.0, 'itheir': 0.0, 'ithey': 0.0, 'ithis': 0.0, 'itie': 0.0, 'ito': 0.0, 'itreii': 0.0, 'itrusit': 0.0, 'iuburbi': 0.0, 'iut': 0.0, 'iy': 0.0, 'jam': 0.0, 'jams': 0.0, 'january': 0.0, 'jimmy': 0.0, 'job': 0.0, 'jobs': 0.0, 'jog': 0.0, 'john': 0.0, 'join': 0.0, 'joined': 0.06666666666666667, 'joining': 0.0, 'jones': 0.0, 'journey': 0.0, 'joy': 0.0, 'judge': 0.0, 'judgement': 0.0, 'juit': 0.0, 'jump': 0.0, 'jumping': 0.0, 'justice': 0.0, 'justified': 0.0, 'keep': 0.0, 'keeping': 0.0, 'keeps': 0.0, 'kennedy': 0.0, 'kept': 0.0, 'kerry': 0.0, 'key': 0.26666666666666666, 'keys': 0.0, 'kid': 0.0, 'kids': 0.0, 'kill': 0.0, 'killed': 0.0, 'killing': 0.0, 'kind': 0.0, 'kinds': 0.0, 'knew': 0.0, 'knit': 0.0, 'knock': 0.0, 'know': 0.0, 'knowing': 0.0, 'knowledge': 0.0, 'known': 0.06666666666666667, 'knows': 0.0, 'lack': 0.0, 'lacks': 0.0, 'laid': 0.0, 'land': 0.0, 'landslide': 0.0, 'lanes': 0.0, 'large': 0.3333333333333333, 'largely': 0.0, 'larger': 0.13333333333333333, 'largest': 0.0, 'last': 0.0, 'lastly': 0.0, 'late': 0.0, 'lately': 0.0, 'later': 0.0, 'latin': 0.0, 'law': 0.0, 'laws': 0.0, 'layer': 0.0, 'layers': 0.0, 'laziness': 0.0, 'lazy': 0.0, 'lead': 0.2, 'leader': 0.0, 'leaders': 0.0, 'leading': 0.4, 'leads': 0.13333333333333333, 'learn': 0.0, 'learned': 0.0, 'learning': 0.0, 'least': 0.0, 'leave': 0.0, 'leaves': 0.0, 'leaving': 0.0, 'led': 0.06666666666666667, 'left': 0.0, 'legal': 0.0, 'legally': 0.0, 'legislative': 0.2, 'legislators': 0.0, 'legislature': 0.0, 'legislatures': 0.26666666666666666, 'legitimate': 0.0, 'legs': 0.0, 'leii': 0.0, 'leisis': 0.0, 'lengthy': 0.0, 'less': 0.2, 'lessen': 0.0, 'lessened': 0.0, 'lessening': 0.0, 'lesser': 0.0, 'let': 0.13333333333333333, 'lets': 0.0, 'letter': 0.3333333333333333, 'letting': 0.0, 'level': 0.0, 'levels': 0.0, 'liberal': 0.0, 'liberty': 0.0, 'licence': 0.0, 'licences': 0.0, 'licens': 0.0, 'license': 0.0, 'licenses': 0.0, 'lie': 0.0, 'lied': 0.0, 'lies': 0.13333333333333333, 'life': 0.13333333333333333, 'lifes': 0.0, 'lifestyle': 0.06666666666666667, 'lifestyles': 0.06666666666666667, 'lift': 0.0, 'lifted': 0.0, 'light': 0.06666666666666667, 'lights': 0.0, 'like': 0.06666666666666667, 'liked': 0.0, 'likely': 0.0, 'likes': 0.0, 'likewise': 0.0, 'liking': 0.0, 'likley': 0.0, 'limit': 0.0, 'limitation': 0.0, 'limitations': 0.0, 'limited': 0.0, 'limiting': 0.4, 'limits': 0.0, 'limting': 0.0, 'linchpin': 0.0, 'lincoln': 0.0, 'line': 0.0, 'lines': 0.0, 'liscense': 0.0, 'list': 0.0, 'listed': 0.0, 'listen': 0.0, 'listening': 0.0, 'lists': 0.0, 'literally': 0.0, 'litotole': 0.0, 'little': 0.2, 'livable': 0.13333333333333333, 'live': 0.0, 'lived': 0.0, 'lives': 0.0, 'living': 0.2, 'load': 0.0, 'local': 0.26666666666666666, 'located': 0.06666666666666667, 'location': 0.06666666666666667, 'locations': 0.0, 'locked': 0.0, 'logic': 0.0, 'logical': 0.0, 'logically': 0.0, 'london': 0.0, 'long': 0.0, 'longer': 0.0, 'longterm': 0.0, 'look': 0.13333333333333333, 'looked': 0.06666666666666667, 'looking': 0.0, 'looks': 0.0, 'loopholes': 0.0, 'loose': 0.0, 'loosing': 0.0, 'lose': 0.0, 'loser': 0.0, 'loses': 0.0, 'losing': 0.06666666666666667, 'loss': 0.0, 'lost': 0.2, 'lot': 0.0, 'lots': 0.0, 'loud': 0.0, 'louisiana': 0.0, 'love': 0.06666666666666667, 'loved': 0.0, 'low': 0.0, 'lowcar': 0.0, 'lower': 0.0, 'lowered': 0.0, 'lowering': 0.0, 'lowers': 0.0, 'loyal': 0.0, 'loyalty': 0.0, 'luckily': 0.0, 'lucky': 0.0, 'lunch': 0.0, 'lung': 0.0, 'lungs': 0.0, 'luxury': 0.0, 'lying': 0.0, 'machine': 0.0, 'machines': 0.0, 'mad': 0.0, 'made': 0.0, 'magazine': 0.0, 'main': 0.0, 'maine': 0.0, 'mainly': 0.0, 'maintain': 0.0, 'maintaining': 0.13333333333333333, 'maintenance': 0.0, 'major': 0.2, 'majoriay': 0.0, 'majority': 0.26666666666666666, 'majorly': 0.0, 'make': 0.26666666666666666, 'makes': 0.06666666666666667, 'making': 0.13333333333333333, 'malapportionment': 0.0, 'mall': 0.0, 'malls': 0.0, 'man': 0.0, 'manage': 0.0, 'manages': 0.0, 'mandatory': 0.0, 'manipulated': 0.0, 'mankind': 0.0, 'manner': 0.0, 'many': 0.0, 'map': 0.0, 'margin': 0.0, 'market': 0.0, 'markets': 0.0, 'mask': 0.0, 'masks': 0.0, 'mass': 0.0, 'masses': 0.0, 'massive': 0.0, 'matter': 0.0, 'matters': 0.13333333333333333, 'may': 0.13333333333333333, 'maybe': 0.0, 'mayor': 0.0, 'mcdonald': 0.0, 'mean': 0.0, 'meani': 0.0, 'meaning': 0.0, 'means': 0.06666666666666667, 'meant': 0.0, 'meanwhile': 0.0, 'measures': 0.0, 'media': 0.0, 'meet': 0.0, 'meeting': 0.2, 'meeto': 0.0, 'melt': 0.0, 'melting': 0.0, 'member': 0.0, 'members': 0.0, 'men': 0.0, 'mental': 0.0, 'mentally': 0.0, 'mention': 0.0, 'mentioned': 0.2, 'mentions': 0.0, 'mercedes': 0.0, 'mere': 0.0, 'merely': 0.06666666666666667, 'mess': 0.0, 'messed': 0.0, 'met': 0.13333333333333333, 'metal': 0.0, 'meter': 0.0, 'metheod': 0.0, 'method': 0.4666666666666667, 'methods': 0.06666666666666667, 'metro': 0.0, 'mexico': 0.0, 'miami': 0.0, 'michael': 0.0, 'michigan': 0.0, 'micrograms': 0.0, 'mid': 0.0, 'middle': 0.2, 'middleclass': 0.0, 'might': 0.13333333333333333, 'mile': 0.0, 'miles': 0.06666666666666667, 'million': 0.06666666666666667, 'millions': 0.06666666666666667, 'mimi': 0.0, 'mind': 0.0, 'minds': 0.0, 'mindset': 0.06666666666666667, 'mine': 0.0, 'minimize': 0.0, 'minimizing': 0.0, 'minimum': 0.0, 'miniscule': 0.0, 'minor': 0.0, 'minority': 0.06666666666666667, 'minute': 0.0, 'minutes': 0.0, 'mishaps': 0.0, 'misrepresented': 0.0, 'miss': 0.0, 'missing': 0.0, 'mistake': 0.0, 'mistakes': 0.0, 'mitt': 0.0, 'mix': 0.0, 'mixed': 0.0, 'mobile': 0.0, 'mobility': 0.06666666666666667, 'mockus': 0.0, 'mode': 0.0, 'model': 0.13333333333333333, 'models': 0.0, 'modern': 0.0, 'moderon': 0.0, 'modes': 0.3333333333333333, 'modified': 0.0, 'moit': 0.0, 'mom': 0.0, 'moment': 0.0, 'moments': 0.0, 'moms': 0.0, 'monday': 0.0, 'mondays': 0.0, 'money': 0.13333333333333333, 'monoxide': 0.0, 'montana': 0.0, 'month': 0.0, 'monthly': 0.0, 'months': 0.0, 'mood': 0.0, 'moods': 0.0, 'moreover': 0.0, 'morning': 0.0, 'mostly': 0.06666666666666667, 'mother': 0.0, 'mothers': 0.0, 'motion': 0.0, 'motivated': 0.13333333333333333, 'motivation': 0.0, 'motor': 0.0, 'motorcycles': 0.0, 'motorist': 0.0, 'motorists': 0.0, 'motorized': 0.0, 'motors': 0.0, 'move': 0.0, 'moved': 0.0, 'movement': 0.06666666666666667, 'movemeont': 0.0, 'movies': 0.0, 'moving': 0.0, 'mr': 0.0, 'much': 0.06666666666666667, 'multiple': 0.06666666666666667, 'multitude': 0.0, 'municipal': 0.0, 'music': 0.0, 'must': 0.06666666666666667, 'mustang': 0.0, 'musto': 0.0, 'myriad': 0.13333333333333333, 'na': 0.0, 'name': 0.0, 'named': 0.0, 'names': 0.0, 'narrow': 0.0, 'nasty': 0.0, 'nation': 0.13333333333333333, 'national': 0.0, 'nations': 0.0, 'nationwide': 0.0, 'natural': 0.0, 'naturally': 0.0, 'nature': 0.0, 'near': 0.0, 'nearby': 0.0, 'nearest': 0.0, 'nearly': 0.0, 'nearrecord': 0.0, 'nebraska': 0.0, 'necessarily': 0.0, 'necessary': 0.2, 'necessities': 0.0, 'necessity': 0.06666666666666667, 'need': 0.5333333333333333, 'needed': 0.0, 'needing': 0.0, 'needs': 0.06666666666666667, 'negative': 0.0, 'negatively': 0.0, 'negatives': 0.0, 'neighbor': 0.0, 'neighborhood': 0.0, 'neighborhoods': 0.0, 'neighbors': 0.0, 'neither': 0.0, 'net': 0.0, 'network': 0.0, 'never': 0.06666666666666667, 'nevertheless': 0.0, 'new': 0.0, 'newer': 0.0, 'news': 0.0, 'next': 0.0, 'nice': 0.0, 'nicer': 0.0, 'night': 0.0, 'nights': 0.0, 'nine': 0.0, 'nixon': 0.0, 'noa': 0.0, 'nobody': 0.0, 'noi': 0.0, 'noise': 0.0, 'noises': 0.0, 'noit': 0.0, 'nominee': 0.06666666666666667, 'non': 0.0, 'nondemocratic': 0.0, 'none': 0.0, 'nonexistent': 0.0, 'nonrenewable': 0.0, 'nonswing': 0.0, 'noone': 0.0, 'normal': 0.0, 'normally': 0.0, 'north': 0.0, 'northeast': 0.0, 'note': 0.0, 'noted': 0.0, 'notes': 0.13333333333333333, 'nothing': 0.0, 'notice': 0.0, 'noticeable': 0.0, 'noticed': 0.0, 'noticing': 0.0, 'noto': 0.0, 'november': 0.0, 'nowadays': 0.0, 'number': 0.06666666666666667, 'numbered': 0.0, 'numbers': 0.0, 'numerous': 0.2, 'obama': 0.0, 'obese': 0.0, 'obesity': 0.13333333333333333, 'objects': 0.0, 'observed': 0.0, 'obsolete': 0.0, 'obtain': 0.0, 'obtaining': 0.06666666666666667, 'obvious': 0.0, 'obviously': 0.0, 'occasion': 0.0, 'occasional': 0.06666666666666667, 'occasionally': 0.0, 'occasions': 0.0, 'occur': 0.0, 'occurance': 0.0, 'occured': 0.0, 'occuring': 0.0, 'occurred': 0.0, 'occurrence': 0.0, 'occurring': 0.0, 'occurs': 0.0, 'ocean': 0.0, 'odd': 0.0, 'oddnumbered': 0.0, 'odds': 0.0, 'offer': 0.0, 'offers': 0.2, 'officals': 0.0, 'office': 0.0, 'official': 0.06666666666666667, 'officials': 0.0, 'often': 0.2, 'oh': 0.0, 'ohio': 0.0, 'oil': 0.06666666666666667, 'okay': 0.0, 'old': 0.0, 'older': 0.0, 'olds': 0.0, 'one': 0.13333333333333333, 'onehalf': 0.0, 'ones': 0.0, 'ongoing': 0.06666666666666667, 'onto': 0.06666666666666667, 'oon': 0.0, 'oone': 0.0, 'open': 0.0, 'opened': 0.0, 'opening': 0.0, 'operate': 0.0, 'operating': 0.0, 'opinion': 0.0, 'opinions': 0.0, 'opponent': 0.0, 'opponents': 0.0, 'opportunities': 0.0, 'opportunity': 0.13333333333333333, 'oppose': 0.0, 'opposed': 0.0, 'opposing': 0.0, 'opposite': 0.0, 'opposition': 0.0, 'oppurtunity': 0.0, 'option': 0.0, 'options': 0.13333333333333333, 'order': 0.0, 'ordered': 0.0, 'ordinary': 0.0, 'organization': 0.0, 'organizations': 0.0, 'organize': 0.0, 'organized': 0.0, 'original': 0.0, 'originally': 0.0, 'otheer': 0.0, 'others': 0.06666666666666667, 'otherwise': 0.0, 'otoher': 0.0, 'ought': 0.0, 'oui': 0.0, 'outcome': 0.0, 'outcomes': 0.26666666666666666, 'outdated': 0.0, 'outdoor': 0.0, 'outdoors': 0.0, 'outlined': 0.26666666666666666, 'outlook': 0.0, 'output': 0.0, 'outrageous': 0.0, 'outright': 0.0, 'outside': 0.0, 'outskirts': 0.0, 'outstanding': 0.0, 'outweigh': 0.0, 'overall': 0.4, 'overcome': 0.0, 'overlook': 0.0, 'overly': 0.0, 'overruled': 0.0, 'overtime': 0.0, 'overuse': 0.0, 'overweight': 0.0, 'overwhelming': 0.0, 'owned': 0.0, 'owner': 0.0, 'owners': 0.0, 'ownership': 0.2, 'owning': 0.0, 'owns': 0.0, 'oxygen': 0.0, 'ozone': 0.0, 'pace': 0.0, 'packed': 0.0, 'paid': 0.0, 'pain': 0.0, 'pairs': 0.0, 'pait': 0.0, 'paper': 0.0, 'par': 0.0, 'paragragh': 0.0, 'paragraph': 0.0, 'paragraphs': 0.0, 'paraguay': 0.0, 'parent': 0.0, 'parents': 0.0, 'parii': 0.0, 'paris': 0.0, 'park': 0.0, 'parked': 0.0, 'parking': 0.06666666666666667, 'parklarge': 0.0, 'parks': 0.0, 'part': 0.0, 'partial': 0.06666666666666667, 'partially': 0.0, 'participants': 0.0, 'participate': 0.13333333333333333, 'participated': 0.0, 'participating': 0.0, 'participation': 0.0, 'particular': 0.0, 'particularly': 0.2, 'particulate': 0.0, 'parties': 0.0, 'partnering': 0.0, 'parts': 0.0, 'party': 0.0, 'partys': 0.0, 'pass': 0.0, 'passage': 0.06666666666666667, 'passages': 0.06666666666666667, 'passed': 0.0, 'passenger': 0.0, 'passengers': 0.0, 'passes': 0.0, 'passing': 0.0, 'past': 0.0, 'path': 0.0, 'paths': 0.0, 'pattern': 0.0, 'patterns': 0.0, 'pavement': 0.0, 'pay': 0.2, 'payed': 0.0, 'paying': 0.0, 'payment': 0.0, 'payments': 0.0, 'pays': 0.0, 'pbds': 0.0, 'peace': 0.0, 'peaceful': 0.0, 'peak': 0.13333333333333333, 'peaked': 0.0, 'pedestrian': 0.0, 'pedestrians': 0.0, 'pedigree': 0.0, 'peope': 0.0, 'people': 0.13333333333333333, 'peoples': 0.0, 'per': 0.0, 'percent': 0.13333333333333333, 'percentage': 0.0, 'percentages': 0.0, 'perfect': 0.0, 'perfectly': 0.0, 'perfer': 0.0, 'perhaps': 0.0, 'period': 0.0, 'periods': 0.0, 'perks': 0.0, 'permanently': 0.0, 'permit': 0.0, 'permitted': 0.0, 'persists': 0.0, 'persistsand': 0.0, 'person': 0.0, 'personal': 0.26666666666666666, 'personally': 0.0, 'persons': 0.0, 'perspective': 0.06666666666666667, 'perspectives': 0.06666666666666667, 'persuade': 0.0, 'persuaded': 0.0, 'phenomenon': 0.0, 'phone': 0.0, 'phones': 0.0, 'phrase': 0.0, 'physical': 0.2, 'physically': 0.0, 'pick': 0.0, 'picked': 0.0, 'pickett': 0.0, 'picking': 0.0, 'picks': 0.0, 'picture': 0.0, 'piece': 0.0, 'pile': 0.0, 'pioneers': 0.0, 'pipe': 0.0, 'pipes': 0.0, 'pitch': 0.0, 'pitted': 0.0, 'place': 0.06666666666666667, 'placed': 0.0, 'places': 0.06666666666666667, 'placing': 0.0, 'plagued': 0.0, 'plain': 0.0, 'plan': 0.0, 'planet': 0.0, 'planned': 0.0, 'planners': 0.0, 'planning': 0.06666666666666667, 'plans': 0.0, 'plant': 0.0, 'plants': 0.0, 'plate': 0.0, 'plates': 0.0, 'play': 0.13333333333333333, 'played': 0.0, 'playing': 0.0, 'plays': 0.3333333333333333, 'plaza': 0.0, 'pleasant': 0.0, 'please': 0.0, 'pleased': 0.0, 'pledge': 0.0, 'pledged': 0.0, 'plenty': 0.0, 'plethora': 0.0, 'plugin': 0.0, 'plumber': 0.0, 'plumer': 0.0, 'plumers': 0.0, 'plummer': 0.0, 'plurality': 0.0, 'plus': 0.0, 'pm': 0.0, 'pocket': 0.0, 'pockets': 0.0, 'poeple': 0.0, 'point': 0.0, 'pointed': 0.0, 'pointless': 0.0, 'points': 0.3333333333333333, 'poison': 0.0, 'polar': 0.0, 'police': 0.0, 'policies': 0.0, 'policy': 0.0, 'political': 0.13333333333333333, 'politically': 0.0, 'politicans': 0.0, 'politician': 0.0, 'politicians': 0.0, 'politics': 0.0, 'poll': 0.0, 'polling': 0.0, 'polls': 0.0, 'pollutants': 0.0, 'pollute': 0.0, 'polluted': 0.06666666666666667, 'pollutes': 0.0, 'polluting': 0.0, 'pollution': 0.3333333333333333, 'polute': 0.0, 'poluted': 0.0, 'poluting': 0.0, 'polution': 0.0, 'pool': 0.0, 'pooling': 0.0, 'poor': 0.0, 'poorly': 0.0, 'popluar': 0.0, 'popped': 0.0, 'populace': 0.0, 'popular': 0.5333333333333333, 'popularity': 0.0, 'populated': 0.3333333333333333, 'population': 0.0, 'populations': 0.0, 'populatioon': 0.0, 'populous': 0.13333333333333333, 'poresident': 0.0, 'porocess': 0.0, 'portion': 0.0, 'portray': 0.0, 'poses': 0.2, 'position': 0.0, 'positions': 0.0, 'positive': 0.4, 'positively': 0.0, 'positives': 0.0, 'posner': 0.0, 'possibilities': 0.0, 'possibility': 0.2, 'possible': 0.0, 'possibleit': 0.0, 'possibly': 0.0, 'poster': 0.0, 'postive': 0.0, 'potential': 0.6666666666666666, 'potentially': 0.26666666666666666, 'poular': 0.0, 'power': 0.26666666666666666, 'powered': 0.0, 'powerful': 0.0, 'powers': 0.0, 'practical': 0.2, 'practically': 0.0, 'practice': 0.0, 'practiced': 0.0, 'preamble': 0.0, 'precedent': 0.0, 'precepts': 0.0, 'precious': 0.0, 'precise': 0.0, 'predicted': 0.0, 'prefer': 0.0, 'preference': 0.0, 'preferences': 0.2, 'preferred': 0.13333333333333333, 'preiident': 0.0, 'preisident': 0.0, 'prepare': 0.0, 'prepares': 0.0, 'presence': 0.0, 'present': 0.13333333333333333, 'presented': 0.13333333333333333, 'presents': 0.06666666666666667, 'preserve': 0.0, 'preserving': 0.0, 'presideit': 0.0, 'presidenat': 0.0, 'presidency': 0.13333333333333333, 'presideni': 0.0, 'presidenit': 0.0, 'president': 0.26666666666666666, 'presidential': 0.5333333333333333, 'presidento': 0.0, 'presidents': 0.0, 'presidentt': 0.0, 'presiding': 0.0, 'pressure': 0.0, 'pretty': 0.0, 'prevent': 0.06666666666666667, 'prevented': 0.0, 'preventing': 0.26666666666666666, 'prevents': 0.13333333333333333, 'previous': 0.0, 'previously': 0.0, 'price': 0.06666666666666667, 'prices': 0.0, 'pride': 0.0, 'primarily': 0.0, 'primary': 0.06666666666666667, 'prime': 0.0, 'principle': 0.4, 'principles': 0.13333333333333333, 'print': 0.0, 'priorities': 0.0, 'priority': 0.0, 'private': 0.0, 'privilege': 0.0, 'pro': 0.0, 'proactive': 0.0, 'probably': 0.0, 'problem': 0.0, 'problematic': 0.0, 'problems': 0.0, 'procces': 0.0, 'procedure': 0.0, 'process': 0.2, 'processes': 0.0, 'produce': 0.0, 'produced': 0.0, 'produces': 0.0, 'producing': 0.2, 'product': 0.0, 'production': 0.0, 'productive': 0.0, 'productivity': 0.2, 'products': 0.0, 'professional': 0.0, 'professor': 0.0, 'profit': 0.0, 'program': 0.0, 'programs': 0.0, 'progress': 0.0, 'progressing': 0.0, 'project': 0.0, 'projects': 0.0, 'proliferation': 0.0, 'prolonged': 0.26666666666666666, 'promise': 0.0, 'promised': 0.0, 'promises': 0.0, 'promising': 0.06666666666666667, 'promote': 0.13333333333333333, 'promoted': 0.0, 'promotes': 0.13333333333333333, 'promoting': 0.5333333333333333, 'promotion': 0.2, 'prone': 0.0, 'proof': 0.0, 'propaganda': 0.0, 'proper': 0.0, 'properly': 0.0, 'proportional': 0.0, 'propose': 0.0, 'proposed': 0.0, 'pros': 0.0, 'prospect': 0.0, 'prosper': 0.0, 'prosperity': 0.0, 'protect': 0.0, 'protected': 0.0, 'protecting': 0.0, 'protection': 0.0, 'protects': 0.0, 'proud': 0.0, 'prove': 0.0, 'proved': 0.0, 'proven': 0.0, 'proves': 0.0, 'provide': 0.13333333333333333, 'provided': 0.13333333333333333, 'provides': 0.3333333333333333, 'providing': 0.13333333333333333, 'proving': 0.0, 'psychological': 0.0, 'public': 0.4666666666666667, 'published': 0.0, 'pull': 0.0, 'pulling': 0.0, 'purchase': 0.0, 'purchased': 0.06666666666666667, 'purchases': 0.0, 'purchasing': 0.0, 'purely': 0.0, 'purpose': 0.13333333333333333, 'purposes': 0.0, 'push': 0.0, 'pushed': 0.06666666666666667, 'pushing': 0.0, 'put': 0.0, 'puts': 0.0, 'putting': 0.0, 'qoute': 0.0, 'qualified': 0.0, 'qualities': 0.0, 'quality': 0.06666666666666667, 'quantity': 0.06666666666666667, 'question': 0.06666666666666667, 'questioned': 0.0, 'questions': 0.0, 'quick': 0.0, 'quicker': 0.0, 'quickly': 0.0, 'quirks': 0.0, 'quite': 0.0, 'quote': 0.0, 'quoted': 0.0, 'quotes': 0.0, 'race': 0.0, 'races': 0.0, 'radiation': 0.0, 'radio': 0.0, 'rage': 0.0, 'rain': 0.06666666666666667, 'rains': 0.0, 'raise': 0.0, 'raises': 0.13333333333333333, 'ran': 0.0, 'random': 0.0, 'randomly': 0.0, 'range': 0.3333333333333333, 'rapid': 0.0, 'rapidly': 0.13333333333333333, 'rare': 0.2, 'rarely': 0.0, 'rate': 0.06666666666666667, 'rates': 0.0, 'ratheer': 0.0, 'rather': 0.0, 'ratio': 0.0, 'rational': 0.0, 'rays': 0.0, 'reach': 0.0, 'reached': 0.06666666666666667, 'reaching': 0.13333333333333333, 'reaction': 0.0, 'reactions': 0.0, 'read': 0.0, 'reader': 0.0, 'readily': 0.0, 'reading': 0.0, 'reads': 0.0, 'ready': 0.0, 'real': 0.0, 'realistic': 0.0, 'reality': 0.0, 'realization': 0.0, 'realize': 0.0, 'realized': 0.0, 'realizing': 0.0, 'really': 0.0, 'reason': 0.0, 'reasonable': 0.0, 'reasoning': 0.0, 'reasons': 0.2, 'rebranding': 0.06666666666666667, 'recall': 0.0, 'receive': 0.06666666666666667, 'received': 0.0, 'receives': 0.0, 'receiving': 0.0, 'recent': 0.13333333333333333, 'recently': 0.0, 'recession': 0.0, 'recieve': 0.0, 'recieved': 0.0, 'recieves': 0.0, 'recieving': 0.0, 'recipe': 0.0, 'reckless': 0.0, 'recognition': 0.0, 'recognize': 0.4, 'recognized': 0.0, 'record': 0.2, 'recorded': 0.0, 'records': 0.0, 'recount': 0.0, 'recounts': 0.0, 'recreational': 0.13333333333333333, 'rectangular': 0.0, 'red': 0.0, 'reduce': 0.2, 'reduced': 0.3333333333333333, 'reduces': 0.3333333333333333, 'reducing': 0.3333333333333333, 'reduction': 0.2, 'reductions': 0.13333333333333333, 'referred': 0.0, 'referring': 0.0, 'refers': 0.0, 'reflect': 0.06666666666666667, 'reflecting': 0.13333333333333333, 'reflects': 0.0, 'refuse': 0.0, 'refused': 0.0, 'refusing': 0.0, 'regard': 0.0, 'regarded': 0.0, 'regarding': 0.2, 'regardless': 0.2, 'regards': 0.0, 'region': 0.2, 'regional': 0.3333333333333333, 'regions': 0.0, 'register': 0.0, 'regular': 0.13333333333333333, 'regulate': 0.0, 'regulations': 0.06666666666666667, 'relate': 0.0, 'related': 0.2, 'relationship': 0.0, 'relatively': 0.0, 'relax': 0.0, 'relaxed': 0.06666666666666667, 'relaxing': 0.0, 'release': 0.0, 'released': 0.0, 'releases': 0.0, 'releasing': 0.0, 'relevant': 0.0, 'reliable': 0.0, 'reliance': 0.0, 'reliant': 0.0, 'relied': 0.0, 'relief': 0.0, 'relies': 0.0, 'relieve': 0.0, 'relieved': 0.0, 'reliever': 0.0, 'relieves': 0.0, 'relieving': 0.0, 'religion': 0.0, 'relive': 0.0, 'rely': 0.0, 'relying': 0.13333333333333333, 'remain': 0.06666666666666667, 'remaining': 0.0, 'remains': 0.2, 'remember': 0.0, 'removal': 0.0, 'remove': 0.0, 'removed': 0.0, 'removing': 0.0, 'renewal': 0.0, 'repair': 0.0, 'repaired': 0.0, 'repairing': 0.0, 'repairs': 0.0, 'repeat': 0.0, 'replace': 0.0, 'replaced': 0.0, 'replacement': 0.0, 'replaces': 0.0, 'replacing': 0.0, 'report': 0.0, 'reported': 0.0, 'reports': 0.0, 'repreoentativeo': 0.0, 'represent': 0.2, 'representation': 0.2, 'representative': 0.3333333333333333, 'representatives': 0.0, 'represented': 0.0, 'representing': 0.0, 'represents': 0.0, 'reps': 0.0, 'republic': 0.0, 'republican': 0.0, 'republicans': 0.0, 'require': 0.0, 'required': 0.0, 'requires': 0.0, 'rescind': 0.0, 'rescinded': 0.0, 'research': 0.0, 'researchers': 0.0, 'residence': 0.0, 'resident': 0.0, 'residents': 0.13333333333333333, 'residing': 0.0, 'resolve': 0.0, 'resolved': 0.0, 'resort': 0.0, 'resoucers': 0.0, 'resource': 0.0, 'resources': 0.06666666666666667, 'respect': 0.0, 'respective': 0.0, 'respectively': 0.0, 'response': 0.0, 'responsibilities': 0.0, 'responsibility': 0.13333333333333333, 'responsible': 0.3333333333333333, 'rest': 0.0, 'restaurants': 0.0, 'restore': 0.0, 'restores': 0.0, 'restraints': 0.0, 'restrict': 0.0, 'restricted': 0.0, 'restricting': 0.0, 'restriction': 0.0, 'restrictions': 0.0, 'resturants': 0.0, 'result': 0.0, 'resulted': 0.0, 'resulting': 0.2, 'results': 0.06666666666666667, 'resume': 0.0, 'retain': 0.0, 'retaining': 0.3333333333333333, 'rethink': 0.0, 'retrospect': 0.0, 'return': 0.0, 'reuters': 0.0, 'reveals': 0.0, 'revenue': 0.0, 'reverse': 0.0, 'revolution': 0.0, 'revolutionary': 0.06666666666666667, 'revolve': 0.0, 'rhode': 0.0, 'rich': 0.0, 'richard': 0.0, 'rid': 0.0, 'ride': 0.0, 'rides': 0.0, 'ridiculous': 0.0, 'riding': 0.0, 'right': 0.0, 'rights': 0.0, 'rise': 0.0, 'risen': 0.0, 'rising': 0.0, 'risk': 0.13333333333333333, 'risks': 0.0, 'risky': 0.0, 'rival': 0.0, 'rivaled': 0.0, 'rivaling': 0.0, 'rivera': 0.0, 'road': 0.0, 'roads': 0.0, 'roadways': 0.0, 'robert': 0.0, 'rode': 0.0, 'rodney': 0.0, 'roienthal': 0.0, 'role': 0.4666666666666667, 'romantic': 0.0, 'romeny': 0.0, 'romney': 0.0, 'roof': 0.0, 'room': 0.0, 'root': 0.0, 'roots': 0.0, 'rosenthal': 0.0, 'rosentheal': 0.0, 'roughly': 0.0, 'route': 0.0, 'routes': 0.0, 'routine': 0.0, 'routines': 0.0, 'row': 0.0, 'ruin': 0.0, 'ruining': 0.0, 'rule': 0.0, 'ruled': 0.0, 'rules': 0.0, 'ruling': 0.0, 'run': 0.0, 'runner': 0.0, 'running': 0.06666666666666667, 'runoff': 0.4666666666666667, 'runoffs': 0.0, 'runs': 0.0, 'rush': 0.0, 'rushhour': 0.0, 'rushing': 0.0, 'saaaes': 0.0, 'sabotage': 0.0, 'sad': 0.0, 'sadly': 0.0, 'safe': 0.0, 'safely': 0.0, 'safer': 0.0, 'safety': 0.0, 'saftey': 0.0, 'said': 0.0, 'sake': 0.0, 'sales': 0.0, 'sally': 0.0, 'san': 0.0, 'sates': 0.0, 'satisfied': 0.0, 'satisfy': 0.0, 'save': 0.0, 'saved': 0.0, 'saves': 0.13333333333333333, 'saving': 0.0, 'saw': 0.0, 'say': 0.0, 'saying': 0.0, 'says': 0.0, 'scale': 0.0, 'scandals': 0.0, 'scared': 0.0, 'scary': 0.0, 'scenario': 0.0, 'scenarios': 0.13333333333333333, 'scenery': 0.0, 'schedule': 0.0, 'school': 0.0, 'schools': 0.0, 'science': 0.0, 'scientists': 0.0, 'scooters': 0.0, 'sea': 0.0, 'seas': 0.0, 'seat': 0.0, 'seattle': 0.0, 'second': 0.0, 'secondly': 0.0, 'seconds': 0.0, 'section': 0.0, 'secure': 0.0, 'security': 0.0, 'see': 0.0, 'seeing': 0.0, 'seeking': 0.2, 'seem': 0.0, 'seemed': 0.0, 'seemingly': 0.0, 'seems': 0.0, 'seen': 0.0, 'segragationists': 0.0, 'segregation': 0.0, 'segregationist': 0.0, 'segregationists': 0.0, 'select': 0.0, 'selected': 0.0, 'selecting': 0.0, 'selection': 0.3333333333333333, 'selects': 0.0, 'self': 0.0, 'selfish': 0.0, 'sell': 0.0, 'selling': 0.0, 'selsky': 0.0, 'selves': 0.0, 'senate': 0.0, 'senator': 0.0, 'senators': 0.0, 'send': 0.13333333333333333, 'sending': 0.0, 'sends': 0.0, 'sense': 0.06666666666666667, 'sent': 0.0, 'sentence': 0.0, 'separate': 0.0, 'separated': 0.0, 'separation': 0.06666666666666667, 'seperate': 0.0, 'serious': 0.0, 'seriously': 0.0, 'serve': 0.0, 'served': 0.13333333333333333, 'serves': 0.2, 'service': 0.0, 'services': 0.06666666666666667, 'serving': 0.0, 'set': 0.0, 'sets': 0.0, 'setting': 0.0, 'settled': 0.0, 'seven': 0.0, 'seventeen': 0.0, 'seventy': 0.0, 'several': 0.2, 'severe': 0.06666666666666667, 'severely': 0.0, 'shall': 0.0, 'shame': 0.0, 'shanghai': 0.0, 'shape': 0.2, 'share': 0.0, 'shared': 0.0, 'shares': 0.0, 'sharing': 0.0, 'sheller': 0.0, 'shift': 0.4, 'shifting': 0.0, 'shifts': 0.0, 'shine': 0.0, 'shocking': 0.0, 'shoes': 0.0, 'shop': 0.0, 'shopping': 0.0, 'shops': 0.0, 'short': 0.0, 'shorter': 0.0, 'shortly': 0.0, 'shot': 0.0, 'shoulders': 0.0, 'shouldnt': 0.0, 'show': 0.06666666666666667, 'showed': 0.0, 'showers': 0.0, 'showing': 0.0, 'shown': 0.0, 'shows': 0.0, 'sick': 0.0, 'sickness': 0.0, 'side': 0.0, 'sides': 0.0, 'sidewalk': 0.0, 'sidewalks': 0.0, 'sight': 0.0, 'sign': 0.0, 'significance': 0.0, 'significant': 0.4, 'significantly': 0.2, 'signs': 0.0, 'similar': 0.13333333333333333, 'similarly': 0.0, 'simple': 0.0, 'simpler': 0.0, 'simplifies': 0.0, 'simply': 0.06666666666666667, 'since': 0.13333333333333333, 'sincerely': 0.0, 'single': 0.2, 'sir': 0.0, 'sit': 0.0, 'sitaite': 0.0, 'sitaites': 0.0, 'sits': 0.0, 'sitting': 0.0, 'situation': 0.0, 'situations': 0.0, 'siva': 0.0, 'sivak': 0.0, 'six': 0.0, 'sixty': 0.0, 'sixyear': 0.0, 'size': 0.0, 'sizes': 0.0, 'skate': 0.0, 'skateboard': 0.0, 'skateboards': 0.0, 'skated': 0.0, 'skates': 0.0, 'skating': 0.0, 'skies': 0.0, 'skip': 0.0, 'sky': 0.0, 'skyrocketing': 0.0, 'slate': 0.0, 'slates': 0.13333333333333333, 'sleep': 0.0, 'slight': 0.0, 'slightest': 0.0, 'slightly': 0.0, 'slim': 0.0, 'slow': 0.0, 'slowing': 0.0, 'slowly': 0.0, 'small': 0.0, 'smaller': 0.0, 'smallest': 0.0, 'smart': 0.06666666666666667, 'smarter': 0.0, 'smell': 0.0, 'smog': 0.06666666666666667, 'smogs': 0.0, 'smoke': 0.0, 'smooth': 0.0, 'smoother': 0.0, 'smoothly': 0.0, 'smug': 0.0, 'soccer': 0.0, 'social': 0.06666666666666667, 'socialize': 0.0, 'societal': 0.13333333333333333, 'societies': 0.0, 'society': 0.0, 'sociologist': 0.0, 'sociologists': 0.0, 'sociology': 0.0, 'sold': 0.06666666666666667, 'solely': 0.3333333333333333, 'solid': 0.0, 'solution': 0.13333333333333333, 'solutions': 0.0, 'solve': 0.0, 'solved': 0.0, 'somebody': 0.0, 'somehow': 0.0, 'someone': 0.0, 'someones': 0.0, 'something': 0.0, 'sometime': 0.0, 'sometimes': 0.0, 'sometoimes': 0.0, 'somewhat': 0.0, 'somewhere': 0.0, 'son': 0.0, 'soon': 0.0, 'sooner': 0.0, 'sort': 0.0, 'sound': 0.0, 'sounds': 0.0, 'source': 0.0, 'sources': 0.13333333333333333, 'south': 0.0, 'southe': 0.0, 'southern': 0.0, 'space': 0.0, 'spaces': 0.13333333333333333, 'spain': 0.0, 'span': 0.0, 'spark': 0.0, 'speak': 0.0, 'speaking': 0.0, 'speaks': 0.0, 'special': 0.0, 'species': 0.0, 'specific': 0.26666666666666666, 'specifically': 0.0, 'spectrum': 0.13333333333333333, 'speech': 0.0, 'speeches': 0.0, 'speed': 0.0, 'speeding': 0.0, 'spend': 0.0, 'spending': 0.0, 'spends': 0.0, 'spent': 0.0, 'spinning': 0.06666666666666667, 'split': 0.0, 'spoken': 0.0, 'sport': 0.0, 'sports': 0.0, 'spot': 0.0, 'spots': 0.0, 'spread': 0.0, 'spreading': 0.0, 'spreads': 0.0, 'spurious': 0.0, 'square': 0.0, 'stable': 0.0, 'staes': 0.0, 'stand': 0.0, 'standard': 0.0, 'standards': 0.0, 'standing': 0.0, 'stands': 0.06666666666666667, 'stanza': 0.0, 'stars': 0.0, 'start': 0.0, 'started': 0.0, 'starters': 0.0, 'starting': 0.0, 'starts': 0.0, 'state': 0.3333333333333333, 'stated': 0.0, 'statei': 0.0, 'statement': 0.0, 'statements': 0.0, 'states': 0.4, 'statewide': 0.0, 'stating': 0.0, 'station': 0.0, 'statistic': 0.0, 'statistics': 0.0, 'stay': 0.0, 'staying': 0.0, 'stays': 0.0, 'steadily': 0.0, 'steady': 0.0, 'steering': 0.0, 'step': 0.06666666666666667, 'stepping': 0.0, 'steps': 0.0, 'stick': 0.0, 'sticking': 0.0, 'still': 0.13333333333333333, 'stoatoe': 0.0, 'stoatoes': 0.0, 'stone': 0.0, 'stop': 0.0, 'stopped': 0.0, 'stopping': 0.0, 'stops': 0.0, 'store': 0.0, 'stores': 0.06666666666666667, 'stories': 0.0, 'story': 0.0, 'straight': 0.0, 'strain': 0.0, 'strange': 0.0, 'stranger': 0.0, 'strapped': 0.0, 'strategy': 0.0, 'street': 0.06666666666666667, 'streets': 0.13333333333333333, 'stress': 0.0, 'stressed': 0.0, 'stresses': 0.0, 'stressfree': 0.0, 'stressful': 0.0, 'stressing': 0.0, 'strict': 0.06666666666666667, 'strictly': 0.0, 'strive': 0.13333333333333333, 'striving': 0.06666666666666667, 'stroll': 0.0, 'strong': 0.13333333333333333, 'stronger': 0.0, 'strongest': 0.0, 'strongly': 0.06666666666666667, 'struggle': 0.0, 'struggling': 0.0, 'stuck': 0.0, 'student': 0.0, 'studies': 0.06666666666666667, 'study': 0.13333333333333333, 'stuff': 0.0, 'stupid': 0.0, 'style': 0.0, 'subject': 0.0, 'subsequent': 0.3333333333333333, 'substantial': 0.0, 'substantially': 0.06666666666666667, 'suburb': 0.0, 'suburban': 0.06666666666666667, 'suburbs': 0.06666666666666667, 'subway': 0.0, 'subways': 0.0, 'succeed': 0.0, 'succeeded': 0.0, 'success': 0.13333333333333333, 'successful': 0.06666666666666667, 'successfully': 0.0, 'sudden': 0.0, 'suffer': 0.0, 'suffering': 0.0, 'suggest': 0.06666666666666667, 'suggested': 0.0, 'suggesting': 0.06666666666666667, 'suggests': 0.2, 'suit': 0.0, 'suited': 0.0, 'suits': 0.0, 'sum': 0.0, 'summarize': 0.0, 'summary': 0.0, 'summation': 0.0, 'summer': 0.0, 'sun': 0.0, 'super': 0.0, 'supply': 0.0, 'support': 0.4, 'supported': 0.0, 'supporters': 0.0, 'supporting': 0.0, 'supports': 0.0, 'suppose': 0.0, 'supposed': 0.0, 'supposedly': 0.0, 'sure': 0.0, 'surely': 0.0, 'surface': 0.0, 'surprise': 0.0, 'surprisingly': 0.0, 'surrounded': 0.0, 'surrounding': 0.0, 'surroundings': 0.0, 'survive': 0.0, 'sustainable': 0.3333333333333333, 'sway': 0.0, 'swayed': 0.0, 'swell': 0.0, 'swing': 0.4666666666666667, 'swings': 0.0, 'swish': 0.0, 'swiss': 0.0, 'switch': 0.0, 'switched': 0.0, 'switching': 0.0, 'symbol': 0.0, 'sysitem': 0.0, 'system': 0.4666666666666667, 'systemm': 0.0, 'systems': 0.0, 'systoem': 0.0, 'sytem': 0.0, 'tail': 0.0, 'tailpipe': 0.0, 'take': 0.0, 'taken': 0.0, 'takes': 0.0, 'taking': 0.0, 'talk': 0.0, 'talked': 0.0, 'talking': 0.0, 'talkis': 0.0, 'talks': 0.0, 'tank': 0.0, 'task': 0.0, 'tasks': 0.0, 'taught': 0.0, 'tax': 0.0, 'taxes': 0.0, 'taxi': 0.0, 'taxis': 0.0, 'te': 0.0, 'teacher': 0.0, 'team': 0.0, 'technically': 0.0, 'technological': 0.0, 'technologies': 0.0, 'technology': 0.13333333333333333, 'teenage': 0.0, 'teenager': 0.0, 'teenagers': 0.0, 'teens': 0.0, 'telecommunication': 0.0, 'telecommunications': 0.0, 'telecommuting': 0.0, 'television': 0.0, 'tell': 0.0, 'telling': 0.0, 'tells': 0.0, 'temperature': 0.0, 'temperatures': 0.0, 'temporarily': 0.0, 'temporary': 0.06666666666666667, 'ten': 0.0, 'tend': 0.06666666666666667, 'tends': 0.0, 'tense': 0.0, 'tension': 0.0, 'term': 0.0, 'terms': 0.0, 'terrible': 0.0, 'terrifying': 0.0, 'test': 0.0, 'tested': 0.0, 'texas': 0.0, 'text': 0.0, 'texting': 0.0, 'texts': 0.13333333333333333, 'thank': 0.0, 'thanks': 0.0, 'thats': 0.0, 'thean': 0.0, 'theat': 0.0, 'thee': 0.0, 'theeir': 0.0, 'theem': 0.0, 'theen': 0.0, 'theere': 0.0, 'theese': 0.0, 'theey': 0.0, 'theii': 0.0, 'theing': 0.0, 'theings': 0.0, 'theink': 0.0, 'theis': 0.0, 'themself': 0.0, 'theory': 0.0, 'theose': 0.0, 'ther': 0.0, 'thereafter': 0.0, 'therefor': 0.0, 'therefore': 0.0, 'theres': 0.0, 'thers': 0.0, 'thick': 0.0, 'thier': 0.0, 'thii': 0.0, 'thiis': 0.0, 'thing': 0.0, 'things': 0.0, 'think': 0.06666666666666667, 'thinking': 0.0, 'thinks': 0.0, 'thio': 0.0, 'third': 0.06666666666666667, 'thirdly': 0.0, 'thirty': 0.0, 'thoie': 0.0, 'thoroughfare': 0.0, 'thoroughly': 0.06666666666666667, 'though': 0.13333333333333333, 'thought': 0.0, 'thoughtful': 0.13333333333333333, 'thoughts': 0.0, 'thousand': 0.0, 'thousands': 0.0, 'threat': 0.2, 'three': 0.0, 'thrive': 0.06666666666666667, 'throughout': 0.0, 'throw': 0.0, 'throwing': 0.0, 'thrown': 0.0, 'throws': 0.0, 'thus': 0.0, 'ticket': 0.0, 'tickets': 0.0, 'tie': 0.13333333333333333, 'tied': 0.0, 'ties': 0.0, 'tight': 0.0, 'till': 0.0, 'time': 0.5333333333333333, 'timeline': 0.0, 'times': 0.0, 'tiny': 0.0, 'tip': 0.0, 'tire': 0.0, 'tired': 0.0, 'tires': 0.0, 'title': 0.0, 'titled': 0.0, 'today': 0.0, 'todays': 0.0, 'together': 0.0, 'tohan': 0.0, 'tohato': 0.0, 'tohe': 0.0, 'toheir': 0.0, 'tohem': 0.0, 'tohey': 0.0, 'tohis': 0.0, 'told': 0.0, 'toll': 0.0, 'tolls': 0.06666666666666667, 'tomorrow': 0.0, 'ton': 0.0, 'tons': 0.0, 'took': 0.0, 'tool': 0.0, 'toowards': 0.0, 'top': 0.0, 'topic': 0.0, 'topics': 0.0, 'toss': 0.0, 'tossup': 0.0, 'total': 0.0, 'totally': 0.0, 'touch': 0.0, 'tourist': 0.0, 'tourists': 0.0, 'toward': 0.0, 'towards': 0.26666666666666666, 'town': 0.0, 'towns': 0.0, 'toxic': 0.0, 'toxins': 0.0, 'track': 0.2, 'tradition': 0.0, 'traditional': 0.2, 'traffic': 0.2, 'tragic': 0.0, 'train': 0.0, 'trainer': 0.0, 'trains': 0.0, 'tram': 0.0, 'traniportation': 0.0, 'transit': 0.0, 'transition': 0.2, 'transitioning': 0.26666666666666666, 'transport': 0.06666666666666667, 'transportaion': 0.0, 'transportation': 0.4, 'transportations': 0.0, 'transporting': 0.0, 'transportion': 0.0, 'transregional': 0.0, 'traonsportatioon': 0.0, 'trap': 0.0, 'trapped': 0.0, 'trapping': 0.0, 'traps': 0.0, 'trash': 0.0, 'travel': 0.0, 'traveling': 0.0, 'travels': 0.0, 'treat': 0.0, 'treated': 0.0, 'tree': 0.0, 'trees': 0.0, 'tremendous': 0.0, 'tremendously': 0.0, 'trend': 0.06666666666666667, 'trends': 0.06666666666666667, 'tribune': 0.0, 'tricks': 0.0, 'tried': 0.0, 'tries': 0.0, 'trip': 0.0, 'trips': 0.06666666666666667, 'trouble': 0.0, 'truck': 0.0, 'trucks': 0.0, 'true': 0.13333333333333333, 'truely': 0.0, 'truly': 0.0, 'trust': 0.0, 'trusted': 0.0, 'trusting': 0.0, 'trustworthy': 0.0, 'truth': 0.0, 'try': 0.0, 'trying': 0.0, 'tuesday': 0.0, 'tuesdays': 0.0, 'tunnel': 0.0, 'turn': 0.0, 'turned': 0.0, 'turning': 0.0, 'turnout': 0.13333333333333333, 'turns': 0.0, 'tv': 0.0, 'twelve': 0.0, 'twenty': 0.0, 'twentyfive': 0.0, 'twentyseven': 0.0, 'twentythree': 0.0, 'twentytwo': 0.0, 'twice': 0.0, 'two': 0.06666666666666667, 'twoseat': 0.0, 'twoseated': 0.0, 'type': 0.06666666666666667, 'types': 0.0, 'typical': 0.0, 'typically': 0.0, 'u': 0.0, 'uaage': 0.0, 'uae': 0.0, 'ui': 0.0, 'uiage': 0.0, 'uie': 0.0, 'uisage': 0.0, 'ultimate': 0.0, 'ultimately': 0.0, 'unable': 0.0, 'unappealing': 0.0, 'unbalanced': 0.0, 'unbearable': 0.0, 'unbelievable': 0.0, 'unbiased': 0.0, 'uncertainty': 0.0, 'unconstitutional': 0.0, 'undecided': 0.0, 'undemocratic': 0.0, 'understand': 0.0, 'understandable': 0.0, 'understanding': 0.13333333333333333, 'understood': 0.0, 'undesirable': 0.0, 'uneducated': 0.0, 'unemployed': 0.0, 'unemployment': 0.0, 'unequal': 0.0, 'uneven': 0.0, 'unfaior': 0.0, 'unfair': 0.2, 'unfairly': 0.0, 'unfairness': 0.13333333333333333, 'unfaithful': 0.0, 'unfit': 0.0, 'unfortunately': 0.0, 'unhappy': 0.0, 'unhealthy': 0.0, 'unheard': 0.0, 'unifies': 0.0, 'unimportant': 0.0, 'unique': 0.13333333333333333, 'united': 0.0, 'unites': 0.0, 'unity': 0.0, 'university': 0.0, 'unjust': 0.0, 'unknown': 0.0, 'unless': 0.06666666666666667, 'unlike': 0.0, 'unlikely': 0.0, 'unnecessary': 0.06666666666666667, 'unneeded': 0.0, 'unorganized': 0.0, 'unpredictable': 0.0, 'unreliable': 0.0, 'unsafe': 0.0, 'untrustworthy': 0.0, 'unveiled': 0.0, 'unwanted': 0.0, 'unwilling': 0.0, 'update': 0.0, 'updated': 0.0, 'uphold': 0.13333333333333333, 'upon': 0.2, 'upper': 0.0, 'ups': 0.0, 'upscale': 0.06666666666666667, 'upset': 0.0, 'upside': 0.0, 'upsides': 0.0, 'urban': 0.7333333333333333, 'urge': 0.4, 'us': 0.26666666666666666, 'usa': 0.0, 'usage': 0.4666666666666667, 'usages': 0.0, 'use': 0.06666666666666667, 'used': 0.0, 'useful': 0.0, 'useing': 0.0, 'useless': 0.0, 'users': 0.06666666666666667, 'uses': 0.0, 'using': 0.0, 'usual': 0.0, 'usually': 0.06666666666666667, 'utterly': 0.0, 'valid': 0.0, 'validated': 0.0, 'validity': 0.0, 'valledupar': 0.0, 'valuable': 0.0, 'value': 0.0, 'values': 0.0, 'van': 0.0, 'variation': 0.0, 'variety': 0.0, 'various': 0.26666666666666666, 'vary': 0.0, 'varying': 0.0, 'vast': 0.06666666666666667, 'vauban': 0.0, 'vaubanlike': 0.0, 'vaughn': 0.0, 'vehicle': 0.13333333333333333, 'vehicles': 0.2, 'vehicular': 0.13333333333333333, 'vein': 0.0, 'verdant': 0.0, 'versa': 0.0, 'versus': 0.0, 'via': 0.0, 'viable': 0.06666666666666667, 'vice': 0.0, 'vicepresident': 0.0, 'victory': 0.0, 'view': 0.06666666666666667, 'viewed': 0.0, 'views': 0.0, 'violated': 0.0, 'violaters': 0.0, 'violators': 0.0, 'virtually': 0.0, 'virtue': 0.0, 'vise': 0.0, 'visit': 0.0, 'visited': 0.0, 'visiting': 0.0, 'visits': 0.0, 'vital': 0.2, 'voae': 0.0, 'voaes': 0.0, 'voate': 0.0, 'voice': 0.0, 'voices': 0.0, 'voie': 0.0, 'voite': 0.0, 'voiters': 0.0, 'voites': 0.0, 'voiting': 0.0, 'vote': 0.5333333333333333, 'voted': 0.06666666666666667, 'voter': 0.13333333333333333, 'voteri': 0.0, 'voters': 0.3333333333333333, 'votes': 0.4, 'voting': 0.2, 'votoe': 0.0, 'votoers': 0.0, 'votoes': 0.0, 'wa': 0.0, 'wai': 0.0, 'wait': 0.0, 'waiting': 0.0, 'wake': 0.0, 'waking': 0.0, 'walk': 0.0, 'walked': 0.0, 'walker': 0.0, 'walking': 0.3333333333333333, 'walks': 0.0, 'wallet': 0.0, 'walter': 0.0, 'wandering': 0.0, 'wanit': 0.0, 'want': 0.06666666666666667, 'wanted': 0.0, 'wanting': 0.0, 'wants': 0.0, 'war': 0.0, 'warm': 0.0, 'warmer': 0.0, 'warming': 0.0, 'washington': 0.0, 'waste': 0.0, 'wasted': 0.13333333333333333, 'wasting': 0.0, 'watch': 0.0, 'watching': 0.0, 'water': 0.0, 'way': 0.06666666666666667, 'ways': 0.0, 'weak': 0.0, 'wear': 0.0, 'weather': 0.0, 'week': 0.0, 'weeks': 0.0, 'weigh': 0.06666666666666667, 'weighs': 0.0, 'weight': 0.06666666666666667, 'weighted': 0.0, 'well': 0.0, 'wellbeing': 0.0, 'wellness': 0.0, 'went': 0.0, 'werent': 0.0, 'western': 0.0, 'wether': 0.0, 'whatever': 0.0, 'whato': 0.0, 'whats': 0.0, 'whatsoever': 0.0, 'wheel': 0.0, 'wheels': 0.0, 'whenever': 0.0, 'whereas': 0.0, 'wherever': 0.0, 'whether': 0.06666666666666667, 'whichever': 0.0, 'whichh': 0.0, 'white': 0.0, 'whoever': 0.0, 'whole': 0.0, 'whomever': 0.0, 'whopping': 0.0, 'whos': 0.0, 'whose': 0.0, 'wide': 0.2, 'widely': 0.0, 'wider': 0.0, 'widespread': 0.06666666666666667, 'wife': 0.0, 'wiih': 0.0, 'wiith': 0.0, 'wil': 0.0, 'willing': 0.0, 'willit': 0.0, 'wilson': 0.0, 'win': 0.06666666666666667, 'window': 0.0, 'winner': 0.2, 'winners': 0.2, 'winnertake': 0.0, 'winnertakeall': 0.0, 'winnertakesall': 0.0, 'winning': 0.26666666666666666, 'wins': 0.06666666666666667, 'winwin': 0.0, 'wise': 0.0, 'wisely': 0.0, 'wiser': 0.0, 'wish': 0.0, 'wishes': 0.0, 'withe': 0.0, 'witheout': 0.0, 'within': 0.13333333333333333, 'without': 0.3333333333333333, 'witness': 0.0, 'witnessing': 0.0, 'witoh': 0.0, 'wo': 0.0, 'woman': 0.0, 'women': 0.0, 'wonder': 0.0, 'wondered': 0.0, 'wonderful': 0.0, 'wonders': 0.0, 'wont': 0.0, 'word': 0.0, 'words': 0.0, 'work': 0.06666666666666667, 'worked': 0.0, 'worker': 0.0, 'working': 0.0, 'workout': 0.0, 'works': 0.06666666666666667, 'world': 0.13333333333333333, 'worlds': 0.0, 'worldwide': 0.06666666666666667, 'worried': 0.0, 'worries': 0.0, 'worry': 0.0, 'worrying': 0.0, 'worse': 0.0, 'worst': 0.0, 'worth': 0.2, 'worthless': 0.0, 'worthy': 0.0, 'would': 0.2, 'wouldnt': 0.0, 'woven': 0.0, 'wrap': 0.0, 'wreck': 0.0, 'wrecks': 0.0, 'write': 0.0, 'writen': 0.0, 'writer': 0.0, 'writes': 0.0, 'writing': 0.4666666666666667, 'written': 0.0, 'wrong': 0.0, 'wrote': 0.0, 'wyoming': 0.0, 'yeah': 0.0, 'year': 0.0, 'yearly': 0.0, 'years': 0.0, 'yelling': 0.0, 'yes': 0.0, 'yesterday': 0.0, 'yet': 0.0, 'york': 0.0, 'yote': 0.0, 'young': 0.0, 'younger': 0.0, 'youor': 0.0, 'youth': 0.0, 'zone': 0.0, 'zones': 0.13333333333333333}\n"
     ]
    }
   ],
   "source": [
    "cond_probabilities = {word: pos_documents_containing_words_count[word] / len(LLM_documents) for word in vocabulary_nltk_dataset}\n",
    "print(\"Probability of the occurrence for each word:\")\n",
    "print(word_probabilities)"
   ]
  },
  {
   "cell_type": "markdown",
   "id": "f70114bc",
   "metadata": {},
   "source": [
    "## Model"
   ]
  },
  {
   "cell_type": "code",
   "execution_count": 212,
   "id": "c8e3147e",
   "metadata": {},
   "outputs": [
    {
     "data": {
      "text/plain": [
       "6157"
      ]
     },
     "execution_count": 212,
     "metadata": {},
     "output_type": "execute_result"
    }
   ],
   "source": [
    "len(vocab)"
   ]
  },
  {
   "cell_type": "code",
   "execution_count": 240,
   "id": "d28586f6",
   "metadata": {},
   "outputs": [
    {
     "name": "stderr",
     "output_type": "stream",
     "text": [
      "[nltk_data] Downloading package stopwords to\n",
      "[nltk_data]     /Users/renitasequeira/nltk_data...\n",
      "[nltk_data]   Package stopwords is already up-to-date!\n"
     ]
    },
    {
     "name": "stdout",
     "output_type": "stream",
     "text": [
      "Accuracy on the development set: 0.989247311827957\n"
     ]
    }
   ],
   "source": [
    "import pandas as pd\n",
    "from collections import defaultdict\n",
    "from sklearn.model_selection import train_test_split\n",
    "from nltk.corpus import stopwords\n",
    "import nltk\n",
    "\n",
    "# Load the dataset\n",
    "df_train = pd.read_csv(\"./input/train_essays.csv\")\n",
    "\n",
    "# Split the dataset into train and development sets\n",
    "train_data, dev_data = train_test_split(df_train, test_size=0.2, random_state=45)\n",
    "\n",
    "\n",
    "# Step 3: Build a vocabulary and reverse index\n",
    "\n",
    "# Download the NLTK stopwords if you haven't already\n",
    "nltk.download('stopwords')\n",
    "\n",
    "def build_vocab(data, min_occurrence=5):\n",
    "    stop_words = set(stopwords.words('english'))\n",
    "\n",
    "    word_counts = defaultdict(int)\n",
    "    for essay in data['text']:\n",
    "        for word in essay.split():\n",
    "            # Exclude stopwords\n",
    "            if word.lower() not in stop_words:\n",
    "                word_counts[word] += 1\n",
    "    \n",
    "    vocab = [word for word, count in word_counts.items() if count >= min_occurrence]\n",
    "    reverse_index = {word: idx for idx, word in enumerate(vocab)}\n",
    "    \n",
    "    return vocab, reverse_index\n",
    "\n",
    "vocab, reverse_index = build_vocab(train_data)\n",
    "\n",
    "# Calculate probabilities with Laplace smoothing\n",
    "def calculate_probabilities(data, vocab, reverse_index, alpha=1):\n",
    "    total_documents = len(data)\n",
    "    class_counts = defaultdict(int)\n",
    "    word_counts = defaultdict(int)\n",
    "    class_word_counts = defaultdict(lambda: defaultdict(int))\n",
    "\n",
    "    for _, row in data.iterrows():\n",
    "        is_llm = row['generated']\n",
    "        class_counts[is_llm] += 1\n",
    "        for word in row['text'].split():\n",
    "            word_id = reverse_index.get(word)\n",
    "            if word_id is not None:\n",
    "                word_counts[word_id] += 1\n",
    "                class_word_counts[is_llm][word_id] += 1\n",
    "\n",
    "    vocab_size = len(vocab)\n",
    "    \n",
    "    prior_prob = class_counts[True] / total_documents\n",
    "    \n",
    "    p_class_generated_true = class_counts[True]/total_documents\n",
    "    probabilities = {}\n",
    "    for word_id, word in enumerate(vocab):\n",
    "        p_occurrence = (word_counts[word_id] + alpha) / (total_documents + alpha * vocab_size)\n",
    "        p_occurrence_llm = (class_word_counts[True][word_id] + alpha) / (class_counts[True] + alpha * vocab_size)\n",
    "        \n",
    "        probabilities[word] = {'p_occurrence': p_occurrence, 'p_occurrence_llm': p_occurrence_llm}\n",
    "\n",
    "    return probabilities, prior_prob\n",
    "\n",
    "probabilities, prior_probability_llm_generated = calculate_probabilities(train_data, vocab, reverse_index)\n",
    "\n",
    "\n",
    "# Calculate probabilities\n",
    "# def calculate_probabilities(data, vocab, reverse_index):\n",
    "#     total_documents = len(data)\n",
    "#     class_counts = defaultdict(int)\n",
    "#     word_counts = defaultdict(int)\n",
    "#     class_word_counts = defaultdict(lambda: defaultdict(int))\n",
    "\n",
    "#     for _, row in data.iterrows():\n",
    "#         is_llm = row['generated']\n",
    "#         class_counts[is_llm] += 1\n",
    "#         for word in row['text'].split():\n",
    "#             word_id = reverse_index.get(word)\n",
    "#             if word_id is not None:\n",
    "#                 word_counts[word_id] += 1\n",
    "#                 class_word_counts[is_llm][word_id] += 1\n",
    "\n",
    "#     probabilities = {}\n",
    "#     for word_id, word in enumerate(vocab):\n",
    "#         p_occurrence = word_counts[word_id] / total_documents\n",
    "#         p_occurrence_llm = class_word_counts[True][word_id] / class_counts[True]\n",
    "        \n",
    "#         probabilities[word] = {'p_occurrence': p_occurrence, 'p_occurrence_llm': p_occurrence_llm}\n",
    "\n",
    "#     return probabilities\n",
    "\n",
    "# probabilities = calculate_probabilities(train_data, vocab, reverse_index)\n",
    "\n",
    "# Calculate accuracy using dev dataset\n",
    "def classify(essay, probabilities, prior_probability_llm_generated):\n",
    "    score = 1.0\n",
    "    score_denom1 = 1.0\n",
    "    score_denom2 = 1.0\n",
    "    for word in essay.split():\n",
    "        word_id = reverse_index.get(word)\n",
    "        if word_id is not None:\n",
    "            score *= probabilities[word]['p_occurrence_llm']\n",
    "            score_denom1 *= probabilities[word]['p_occurrence_llm']\n",
    "            score_denom2 *= (1-probabilities[word]['p_occurrence_llm'])\n",
    "    return (score * prior_probability_llm_generated)/ (score_denom1 + score_denom2)\n",
    "\n",
    "correct_predictions = 0\n",
    "for _, row in dev_data.iterrows():\n",
    "    essay = row['text']\n",
    "    is_llm = row['generated']\n",
    "    prediction = classify(essay, probabilities, prior_probability_llm_generated)\n",
    "    if (prediction >= 0.5 and is_llm) or (prediction < 0.5 and not is_llm):\n",
    "        correct_predictions += 1\n",
    "\n",
    "accuracy = correct_predictions / len(dev_data)\n",
    "print(f\"Accuracy on the development set: {accuracy}\")\n"
   ]
  },
  {
   "cell_type": "code",
   "execution_count": 241,
   "id": "ab568c57",
   "metadata": {},
   "outputs": [
    {
     "name": "stdout",
     "output_type": "stream",
     "text": [
      "Top 10 words predicting LLM-generated essays:\n",
      "['Electoral', 'car', 'College', 'usage', 'urban', 'vote', 'candidates', 'electoral', 'limiting', 'cities']\n",
      "\n",
      "Top 10 words predicting human-generated essays:\n",
      "['congress', 'qualified', '538', '270', 'requires', 'elect', 'president.', 'held', '4', 'years']\n"
     ]
    }
   ],
   "source": [
    "# Sort the vocabulary based on conditional probability for LLM\n",
    "sorted_vocab_llm = sorted(vocab, key=lambda word: probabilities[word]['p_occurrence_llm'], reverse=True)\n",
    "\n",
    "# Sort the vocabulary based on conditional probability for human (not LLM)\n",
    "sorted_vocab_human = sorted(vocab, key=lambda word: (1 - probabilities[word]['p_occurrence_llm']), reverse=True)\n",
    "\n",
    "# Derive the top 10 words for each class\n",
    "top_words_llm = sorted_vocab_llm[:10]\n",
    "top_words_human = sorted_vocab_human[:10]\n",
    "\n",
    "print(\"Top 10 words predicting LLM-generated essays:\")\n",
    "print(top_words_llm)\n",
    "\n",
    "print(\"\\nTop 10 words predicting human-generated essays:\")\n",
    "print(top_words_human)\n"
   ]
  },
  {
   "cell_type": "code",
   "execution_count": 243,
   "id": "2a1d9941",
   "metadata": {},
   "outputs": [],
   "source": [
    "# Load the test dataset\n",
    "df_test = pd.read_csv(\"./input/test_essays.csv\")\n",
    "\n",
    "# Classify the test dataset\n",
    "def classify_test(essay, probabilities, prior_probability_llm_generated):\n",
    "    score = 1.0\n",
    "    score_denom1 = 1.0\n",
    "    score_denom2 = 1.0\n",
    "    for word in essay.split():\n",
    "        word_id = reverse_index.get(word)\n",
    "        if word_id is not None:\n",
    "            score *= probabilities[word]['p_occurrence_llm']\n",
    "            score_denom1 *= probabilities[word]['p_occurrence_llm']\n",
    "            score_denom2 *= (1-probabilities[word]['p_occurrence_llm'])\n",
    "    return (score * prior_probability_llm_generated)/ (score_denom1 + score_denom2)\n",
    "\n",
    "# Apply the classifier to the test dataset\n",
    "df_test['predicted_generated'] = df_test['text'].apply(lambda x: classify_test(x, probabilities,prior_probability_llm_generated))\n",
    "\n",
    "# Threshold for classification (adjust as needed)\n",
    "# threshold = 0.5\n",
    "# df_test['predicted_label'] = (df_test['predicted_generated'] >= threshold).astype(int)\n",
    "\n",
    "# Save the results for Kaggle submission\n",
    "submission_df = df_test[['id', 'predicted_generated']]\n",
    "submission_df.to_csv(\"submission.csv\", index=False)"
   ]
  },
  {
   "cell_type": "code",
   "execution_count": null,
   "id": "1fa7737b",
   "metadata": {},
   "outputs": [],
   "source": []
  }
 ],
 "metadata": {
  "kernelspec": {
   "display_name": "Python 3 (ipykernel)",
   "language": "python",
   "name": "python3"
  },
  "language_info": {
   "codemirror_mode": {
    "name": "ipython",
    "version": 3
   },
   "file_extension": ".py",
   "mimetype": "text/x-python",
   "name": "python",
   "nbconvert_exporter": "python",
   "pygments_lexer": "ipython3",
   "version": "3.9.13"
  }
 },
 "nbformat": 4,
 "nbformat_minor": 5
}
