{
 "cells": [
  {
   "cell_type": "markdown",
   "id": "1f11ca1d",
   "metadata": {},
   "source": [
    "# Building a Naive Bayes Classifer"
   ]
  },
  {
   "cell_type": "code",
   "execution_count": 1,
   "id": "ab9c5757",
   "metadata": {},
   "outputs": [],
   "source": [
    "#import the necessary libraries\n",
    "import numpy as np\n",
    "import pandas as pd"
   ]
  },
  {
   "cell_type": "code",
   "execution_count": 5,
   "id": "06e6fea4",
   "metadata": {},
   "outputs": [],
   "source": [
    "import os\n",
    "for dirname, _, filenames in os.walk('/input'):\n",
    "    print(\"In here\")\n",
    "    for filename in filenames:\n",
    "        print(os.path.join(dirname, filename))"
   ]
  },
  {
   "cell_type": "code",
   "execution_count": 6,
   "id": "b38baa4a",
   "metadata": {},
   "outputs": [
    {
     "name": "stdout",
     "output_type": "stream",
     "text": [
      "/Users/renitasequeira/Desktop/Python/LLM - Detect AI generated text\n"
     ]
    }
   ],
   "source": [
    "print(os.getcwd())"
   ]
  },
  {
   "cell_type": "code",
   "execution_count": 7,
   "id": "de7d31bb",
   "metadata": {},
   "outputs": [
    {
     "name": "stdout",
     "output_type": "stream",
     "text": [
      "In here\n",
      "/Users/renitasequeira/Desktop/Python/LLM - Detect AI generated text/input/.DS_Store\n",
      "/Users/renitasequeira/Desktop/Python/LLM - Detect AI generated text/input/train_prompts.csv\n",
      "/Users/renitasequeira/Desktop/Python/LLM - Detect AI generated text/input/test_essays.csv\n",
      "/Users/renitasequeira/Desktop/Python/LLM - Detect AI generated text/input/train_essays.csv\n",
      "/Users/renitasequeira/Desktop/Python/LLM - Detect AI generated text/input/sample_submission.csv\n"
     ]
    }
   ],
   "source": [
    "import os\n",
    "for dirname, _, filenames in os.walk('/Users/renitasequeira/Desktop/Python/LLM - Detect AI generated text/input'):\n",
    "    print(\"In here\")\n",
    "    for filename in filenames:\n",
    "        print(os.path.join(dirname, filename))"
   ]
  },
  {
   "cell_type": "code",
   "execution_count": 8,
   "id": "e42d3e5c",
   "metadata": {},
   "outputs": [],
   "source": [
    "train_data = pd.read_csv(\"./input/train_essays.csv\")"
   ]
  },
  {
   "cell_type": "code",
   "execution_count": 9,
   "id": "023732a8",
   "metadata": {},
   "outputs": [],
   "source": [
    "test_data = pd.read_csv(\"./input/test_essays.csv\")"
   ]
  },
  {
   "cell_type": "code",
   "execution_count": 10,
   "id": "991223a8",
   "metadata": {},
   "outputs": [
    {
     "data": {
      "text/html": [
       "<div>\n",
       "<style scoped>\n",
       "    .dataframe tbody tr th:only-of-type {\n",
       "        vertical-align: middle;\n",
       "    }\n",
       "\n",
       "    .dataframe tbody tr th {\n",
       "        vertical-align: top;\n",
       "    }\n",
       "\n",
       "    .dataframe thead th {\n",
       "        text-align: right;\n",
       "    }\n",
       "</style>\n",
       "<table border=\"1\" class=\"dataframe\">\n",
       "  <thead>\n",
       "    <tr style=\"text-align: right;\">\n",
       "      <th></th>\n",
       "      <th>id</th>\n",
       "      <th>prompt_id</th>\n",
       "      <th>text</th>\n",
       "      <th>generated</th>\n",
       "    </tr>\n",
       "  </thead>\n",
       "  <tbody>\n",
       "    <tr>\n",
       "      <th>0</th>\n",
       "      <td>0059830c</td>\n",
       "      <td>0</td>\n",
       "      <td>Cars. Cars have been around since they became ...</td>\n",
       "      <td>0</td>\n",
       "    </tr>\n",
       "    <tr>\n",
       "      <th>1</th>\n",
       "      <td>005db917</td>\n",
       "      <td>0</td>\n",
       "      <td>Transportation is a large necessity in most co...</td>\n",
       "      <td>0</td>\n",
       "    </tr>\n",
       "    <tr>\n",
       "      <th>2</th>\n",
       "      <td>008f63e3</td>\n",
       "      <td>0</td>\n",
       "      <td>\"America's love affair with it's vehicles seem...</td>\n",
       "      <td>0</td>\n",
       "    </tr>\n",
       "    <tr>\n",
       "      <th>3</th>\n",
       "      <td>00940276</td>\n",
       "      <td>0</td>\n",
       "      <td>How often do you ride in a car? Do you drive a...</td>\n",
       "      <td>0</td>\n",
       "    </tr>\n",
       "    <tr>\n",
       "      <th>4</th>\n",
       "      <td>00c39458</td>\n",
       "      <td>0</td>\n",
       "      <td>Cars are a wonderful thing. They are perhaps o...</td>\n",
       "      <td>0</td>\n",
       "    </tr>\n",
       "  </tbody>\n",
       "</table>\n",
       "</div>"
      ],
      "text/plain": [
       "         id  prompt_id                                               text  \\\n",
       "0  0059830c          0  Cars. Cars have been around since they became ...   \n",
       "1  005db917          0  Transportation is a large necessity in most co...   \n",
       "2  008f63e3          0  \"America's love affair with it's vehicles seem...   \n",
       "3  00940276          0  How often do you ride in a car? Do you drive a...   \n",
       "4  00c39458          0  Cars are a wonderful thing. They are perhaps o...   \n",
       "\n",
       "   generated  \n",
       "0          0  \n",
       "1          0  \n",
       "2          0  \n",
       "3          0  \n",
       "4          0  "
      ]
     },
     "execution_count": 10,
     "metadata": {},
     "output_type": "execute_result"
    }
   ],
   "source": [
    "train_data.head()"
   ]
  },
  {
   "cell_type": "code",
   "execution_count": 11,
   "id": "998dec2f",
   "metadata": {},
   "outputs": [
    {
     "data": {
      "text/html": [
       "<div>\n",
       "<style scoped>\n",
       "    .dataframe tbody tr th:only-of-type {\n",
       "        vertical-align: middle;\n",
       "    }\n",
       "\n",
       "    .dataframe tbody tr th {\n",
       "        vertical-align: top;\n",
       "    }\n",
       "\n",
       "    .dataframe thead th {\n",
       "        text-align: right;\n",
       "    }\n",
       "</style>\n",
       "<table border=\"1\" class=\"dataframe\">\n",
       "  <thead>\n",
       "    <tr style=\"text-align: right;\">\n",
       "      <th></th>\n",
       "      <th>id</th>\n",
       "      <th>prompt_id</th>\n",
       "      <th>text</th>\n",
       "    </tr>\n",
       "  </thead>\n",
       "  <tbody>\n",
       "    <tr>\n",
       "      <th>0</th>\n",
       "      <td>0000aaaa</td>\n",
       "      <td>2</td>\n",
       "      <td>Aaa bbb ccc.</td>\n",
       "    </tr>\n",
       "    <tr>\n",
       "      <th>1</th>\n",
       "      <td>1111bbbb</td>\n",
       "      <td>3</td>\n",
       "      <td>Bbb ccc ddd.</td>\n",
       "    </tr>\n",
       "    <tr>\n",
       "      <th>2</th>\n",
       "      <td>2222cccc</td>\n",
       "      <td>4</td>\n",
       "      <td>CCC ddd eee.</td>\n",
       "    </tr>\n",
       "  </tbody>\n",
       "</table>\n",
       "</div>"
      ],
      "text/plain": [
       "         id  prompt_id          text\n",
       "0  0000aaaa          2  Aaa bbb ccc.\n",
       "1  1111bbbb          3  Bbb ccc ddd.\n",
       "2  2222cccc          4  CCC ddd eee."
      ]
     },
     "execution_count": 11,
     "metadata": {},
     "output_type": "execute_result"
    }
   ],
   "source": [
    "test_data.head()"
   ]
  },
  {
   "cell_type": "code",
   "execution_count": 12,
   "id": "4629aa8f",
   "metadata": {},
   "outputs": [],
   "source": [
    "prompt_data = pd.read_csv(\"./input/train_prompts.csv\")"
   ]
  },
  {
   "cell_type": "code",
   "execution_count": 13,
   "id": "1d2335af",
   "metadata": {},
   "outputs": [
    {
     "data": {
      "text/html": [
       "<div>\n",
       "<style scoped>\n",
       "    .dataframe tbody tr th:only-of-type {\n",
       "        vertical-align: middle;\n",
       "    }\n",
       "\n",
       "    .dataframe tbody tr th {\n",
       "        vertical-align: top;\n",
       "    }\n",
       "\n",
       "    .dataframe thead th {\n",
       "        text-align: right;\n",
       "    }\n",
       "</style>\n",
       "<table border=\"1\" class=\"dataframe\">\n",
       "  <thead>\n",
       "    <tr style=\"text-align: right;\">\n",
       "      <th></th>\n",
       "      <th>prompt_id</th>\n",
       "      <th>prompt_name</th>\n",
       "      <th>instructions</th>\n",
       "      <th>source_text</th>\n",
       "    </tr>\n",
       "  </thead>\n",
       "  <tbody>\n",
       "    <tr>\n",
       "      <th>0</th>\n",
       "      <td>0</td>\n",
       "      <td>Car-free cities</td>\n",
       "      <td>Write an explanatory essay to inform fellow ci...</td>\n",
       "      <td># In German Suburb, Life Goes On Without Cars ...</td>\n",
       "    </tr>\n",
       "    <tr>\n",
       "      <th>1</th>\n",
       "      <td>1</td>\n",
       "      <td>Does the electoral college work?</td>\n",
       "      <td>Write a letter to your state senator in which ...</td>\n",
       "      <td># What Is the Electoral College? by the Office...</td>\n",
       "    </tr>\n",
       "  </tbody>\n",
       "</table>\n",
       "</div>"
      ],
      "text/plain": [
       "   prompt_id                       prompt_name  \\\n",
       "0          0                   Car-free cities   \n",
       "1          1  Does the electoral college work?   \n",
       "\n",
       "                                        instructions  \\\n",
       "0  Write an explanatory essay to inform fellow ci...   \n",
       "1  Write a letter to your state senator in which ...   \n",
       "\n",
       "                                         source_text  \n",
       "0  # In German Suburb, Life Goes On Without Cars ...  \n",
       "1  # What Is the Electoral College? by the Office...  "
      ]
     },
     "execution_count": 13,
     "metadata": {},
     "output_type": "execute_result"
    }
   ],
   "source": [
    "prompt_data.head()"
   ]
  },
  {
   "cell_type": "code",
   "execution_count": 14,
   "id": "eb4a8eba",
   "metadata": {},
   "outputs": [
    {
     "name": "stdout",
     "output_type": "stream",
     "text": [
      "   prompt_id                       prompt_name  \\\n",
      "0          0                   Car-free cities   \n",
      "1          1  Does the electoral college work?   \n",
      "\n",
      "                                        instructions  \\\n",
      "0  Write an explanatory essay to inform fellow ci...   \n",
      "1  Write a letter to your state senator in which ...   \n",
      "\n",
      "                                         source_text  \n",
      "0  # In German Suburb, Life Goes On Without Cars ...  \n",
      "1  # What Is the Electoral College? by the Office...  \n"
     ]
    }
   ],
   "source": [
    "print(prompt_data)"
   ]
  },
  {
   "cell_type": "code",
   "execution_count": 17,
   "id": "d1dffa28",
   "metadata": {
    "scrolled": true
   },
   "outputs": [
    {
     "name": "stdout",
     "output_type": "stream",
     "text": [
      "prompt_id,prompt_name,instructions,source_text\n",
      "0,Car-free cities,Write an explanatory essay to inform fellow citizens about the advantages of limiting car usage. Your essay must be based on ideas and information that can be found in the passage set. Manage your time carefully so that you can read the passages; plan your response; write your response; and revise and edit your response. Be sure to use evidence from multiple sources; and avoid overly relying on one source. Your response should be in the form of a multiparagraph essay. Write your essay in the space provided.,\"# In German Suburb, Life Goes On Without Cars by Elisabeth Rosenthal\n",
      "\n",
      "1 VAUBAN, Germany—Residents of this upscale community are suburban pioneers, going where few soccer moms or commuting executives have ever gone before: they have given up their cars.\n",
      "\n",
      "2 Street parking, driveways and home garages are generally forbidden in this experimental new district on the outskirts of Freiburg, near the French and Swiss borders. Vauban’s streets are completely “car-free”—except the main thoroughfare, where the tram to downtown Freiburg runs, and a few streets on one edge of the community. Car ownership is allowed, but there are only two places to park—large garages at the edge of the development, where a car-owner buys a space, for $40,000, along with a home.\n",
      "\n",
      "3 As a result, 70 percent of Vauban’s families do not own cars, and 57 percent sold a car to move here. “When I had a car I was always tense. I’m much happier this way,” said Heidrun Walter, a media trainer and mother of two, as she walked verdant streets where the swish of bicycles and the chatter of wandering children drown out the occasional distant motor.\n",
      "\n",
      "4 Vauban, completed in 2006, is an example of a growing trend in Europe, the United States and elsewhere to separate suburban life from auto use, as a component of a movement called “smart planning.”\n",
      "\n",
      "5 Automobiles are the linchpin of suburbs, where middle-class families from Chicago to Shanghai tend to make their homes. And that, experts say, is a huge impediment to current efforts to drastically reduce greenhouse gas emissions from tailpipes . . . . Passenger cars are responsible for 12 percent of greenhouse gas emissions in Europe . . . and up to 50 percent in some car-intensive areas in the United States.\n",
      "\n",
      "6 While there have been efforts in the past two decades to make cities denser, and better for walking, planners are now taking the concept to the suburbs . . . . Vauban, home to 5,500 residents within a rectangular square mile, may be the most advanced experiment in low-car suburban life. But its basic precepts are being adopted around the world in attempts to make suburbs more compact and more accessible to public transportation, with less space for parking. In this new approach, stores are placed a walk away, on a main street, rather than in malls along some distant highway.\n",
      "\n",
      "7 “All of our development since World War II has been centered on the car, and that will have to change,” said David Goldberg, an official of Transportation for America, a fast-growing coalition of hundreds of groups in the United States . . . who are promoting new communities that are less dependent on cars. Mr. Goldberg added: “How much you drive is as important as whether you have a hybrid.”\n",
      "\n",
      "8 Levittown and Scarsdale, New York suburbs with spread-out homes and private garages, were the dream towns of the 1950s and still exert a strong appeal. But some new suburbs may well look more Vauban-like, not only in developed countries but also in the developing world, where emissions from an increasing number of private cars owned by the burgeoning middle class are choking cities.\n",
      "\n",
      "9 In the United States, the Environmental Protection Agency is promoting “car reduced” communities, and legislators are starting to act, if cautiously. Many experts expect public transport serving suburbs to play a much larger role in a new six-year federal transportation bill to be approved this year, Mr. Goldberg said. In previous bills, 80 percent of appropriations have by law gone to highways and only 20 percent to other transport. \n",
      "\n",
      "Excerpt from “In German Suburb, Life Goes On Without Cars” by Elisabeth Rosenthal, from the New York Times. Copyright © 2009 by the New York Times Company. Reprinted by permission of the New York Times Company via Copyright Clearance Center.\n",
      "\n",
      "# Paris bans driving due to smog by Robert Duffer\n",
      "\n",
      "10 After days of near-record pollution, Paris enforced a partial driving ban to clear the air of the global city.\n",
      "\n",
      "11 On Monday motorists with even-numbered license plates were ordered to leave their cars at home or suffer a 22-euro fine ($31). The same would apply to odd-numbered plates the following day.\n",
      "\n",
      "12 Almost 4,000 drivers were fined, according to Reuters1 . . . [Twenty-seven] people had their cars impounded for their reaction to the fine.\n",
      "\n",
      "13 That’s easier to imagine than a car-free Champs-Elysees.2\n",
      "\n",
      "14 Congestion 3 was down 60 percent in the capital of France, after five-days of intensifying smog . . . [The smog] rivaled Beijing, China, which is known as one of the most polluted cities in the world.\n",
      "\n",
      "15 Cold nights and warm days caused the warmer layer of air to trap car emissions.\n",
      "\n",
      "16 Diesel fuel was blamed, since France has . . . [a] tax policy that favors diesel over gasoline. Diesels make up 67 percent of vehicles in France, compared to a 53.3 percent average of diesel engines in the rest of Western Europe, according to Reuters.\n",
      "\n",
      "17 Paris typically has more smog than other European capitals . . . [Last] week Paris had 147 micrograms of particulate matter (PM) per cubic meter compared with 114 in Brussels and 79.7 in London, Reuters found.\n",
      "\n",
      "18 Delivery companies complained of lost revenue, while exceptions were made for plug-in cars, hybrids, and cars carrying three or more passengers. Public transit was free of charge from Friday to Monday, according to the BBC.\n",
      "\n",
      "19 The smog cleared enough Monday for the ruling French party to rescind the ban for oddnumbered plates on Tuesday. 1\n",
      "\n",
      "Excerpt from “Paris bans driving due to smog” by Robert Duffer, from the Chicago Tribune. Copyright © 2014 by the Chicago Tribune. Reprinted by permission of the Chicago Tribune via Copyright Clearance Center.\n",
      "\n",
      "# Car-free day is spinning into a big hit in Bogota by Andrew Selsky\n",
      "\n",
      "BOGOTA, Colombia—In a program that’s set to spread to other countries, millions of Colombians hiked, biked, skated or took buses to work during a car-free day yesterday, leaving the streets of this capital city eerily devoid of traffic jams.\n",
      "\n",
      "21 It was the third straight year cars have been banned with only buses and taxis permitted for the Day Without Cars in this capital city of 7 million. The goal is to promote alternative transportation and reduce smog. Violators faced $25 fines.\n",
      "\n",
      "22 The turnout was large, despite gray clouds that dumped occasional rain showers on Bogota.\n",
      "\n",
      "23 “The rain hasn’t stopped people from participating,” said Bogota Mayor Antanas Mockus . . . .\n",
      "\n",
      "24 “It’s a good opportunity to take away stress and lower air pollution,” said businessman Carlos Arturo Plaza as he rode a two-seat bicycle with his wife.\n",
      "\n",
      "25 For the first time, two other Colombian cities, Cali and Valledupar, joined the event.\n",
      "\n",
      "26 Municipal authorities from other countries came to Bogota to see the event and were enthusiastic. “These people are generating a revolutionary change, and this is crossing borders,” said Enrique Riera, the mayor of Asunción, Paraguay. . . .\n",
      "\n",
      "27 The day without cars is part of an improvement campaign that began in Bogota in the mid1990s. It has seen the construction of 118 miles of bicycle paths, the most of any Latin American city, according to Mockus, the city’s mayor.\n",
      "\n",
      "28 Parks and sports centers also have bloomed throughout the city; uneven, pitted sidewalks have been replaced by broad, smooth sidewalks; rush-hour restrictions have dramatically cut traffic; and new restaurants and upscale shopping districts have cropped up.\n",
      "\n",
      "Excerpt from “Car-free day is spinning into a big hit in Bogota” by Andrew Selsky, from the Seattle Times. Copyright © 2002 by the Seattle Times Company. Reprinted by permission of the Seattle Times Company via Copyright Clearance Center.\n",
      "\n",
      "# The End of Car Culture by Elisabeth Rosenthal\n",
      "\n",
      "29 President Obama’s ambitious goals to curb the United States’ greenhouse gas emissions, unveiled last week, will get a fortuitous assist from an incipient1 shift in American behavior: recent studies suggest that Americans are buying fewer cars, driving less and getting fewer licenses as each year goes by.\n",
      "\n",
      "30 That has left researchers pondering a fundamental question: Has America passed peak driving?\n",
      "\n",
      "31 The United States, with its broad expanses and suburban ideals, had long been one of the world’s prime car cultures. It is the birthplace of the Model T; the home of Detroit; the place where Wilson Pickett immortalized “Mustang Sally” . . . .\n",
      "\n",
      "32 But America’s love affair with its vehicles seems to be cooling. When adjusted for population growth, the number of miles driven in the United States peaked in 2005 and dropped steadily thereafter, according to an analysis by Doug Short of Advisor Perspectives, an investment research company. As of April 2013, the number of miles driven per person was nearly 9 percent below the peak and equal to where the country was in January 1995. Part of the explanation certainly lies in the recession, because cash-strapped Americans could not afford new cars, and the unemployed weren’t going to work anyway. But by many measures the decrease in driving preceded the downturn and appears to be persisting now that recovery is under way. The next few years will be telling.\n",
      "\n",
      "33 “What most intrigues me is that rates of car ownership per household and per person started to come down two to three years before the downturn,” said Michael Sivak, who studies the trend and who is a research professor at the University of Michigan’s Transportation Research Institute. “I think that means something more fundamental is going on.”\n",
      "\n",
      "34 If the pattern persists—and many sociologists believe it will—it will have beneficial implications for carbon emissions and the environment, since transportation is the second largest source of America’s emissions, just behind power plants. But it could have negative implications for the car industry. Indeed, companies like Ford and Mercedes are already rebranding themselves “mobility” companies with a broader product range beyond the personal vehicle.\n",
      "\n",
      "35 “Different things are converging which suggest that we are witnessing a long-term cultural shift,” said Mimi Sheller, a sociology professor at Drexel University and director of its Mobilities Research and Policy Center. She cites various factors: the Internet makes telecommuting possible and allows people to feel more connected without driving to meet friends. The renewal of center cities has made the suburbs less appealing and has drawn empty nesters back in. Likewise the rise in cellphones and car-pooling apps has facilitated more flexible commuting arrangements, including the evolution of shared van services for getting to work.\n",
      "\n",
      "36 With all these changes, people who stopped car commuting as a result of the recession may find less reason to resume the habit. . . .\n",
      "\n",
      "37 New York’s new bike-sharing program and its skyrocketing bridge and tunnel tolls reflect those new priorities, as do a proliferation of car-sharing programs across the nation.\n",
      "\n",
      "38 Demographic shifts in the driving population suggest that the trend may accelerate. There has been a large drop in the percentage of 16- to 39-year-olds getting a license, while older people are likely to retain their licenses as they age, Mr. Sivak’s research has found.\n",
      "\n",
      "39 He and I have similar observations about our children. Mine (19 and 21) have not bothered to get a driver’s license, even though they both live in places where one could come in handy. They are interested, but it’s not a priority. They organize their summer jobs and social life around where they can walk or take public transportation or car-pool with friends.\n",
      "\n",
      "40 Mr. Sivak’s son lives in San Francisco and has a car but takes Bay Area Rapid Transit, when he can, even though that often takes longer than driving. “When I was in my 20s and 30s,” Mr. Sivak said, “I was curious about what kind of car people drove, but young people don’t really care. A car is just a means of getting from A to B when BART doesn’t work.”\n",
      "\n",
      "41 A study last year found that driving by young people decreased 23 percent between 2001 and 2009. . . .\n",
      "\n",
      "42 Whether members of the millennial generation will start buying more cars once they have kids to take to soccer practice and school plays remains an open question. But such projections have important business implications, even if car buyers are merely older or buying fewer cars in a lifetime rather than rejecting car culture outright.\n",
      "\n",
      "43 At the Mobile World Congress last year in Barcelona, Spain, Bill Ford, executive chairman of the Ford Motor Company, laid out a business plan for a world in which personal vehicle ownership is impractical or undesirable. He proposed partnering with the telecommunications industry to create cities in which “pedestrian, bicycle, private cars, commercial and public transportation traffic are woven into a connected network to save time, conserve resources, lower emissions and improve safety.”\n",
      "\n",
      "Excerpt from “The End of Car Culture” by Elisabeth Rosenthal, from the New York Times. Copyright © 2013 by the New York Times Company. Reprinted by permission of the New York Times Company via Copyright Clearance Center.\n",
      "\"\n",
      "1,Does the electoral college work?,Write a letter to your state senator in which you argue in favor of keeping the Electoral College or changing to election by popular vote for the president of the United States. Use the information from the texts in your essay. Manage your time carefully so that you can read the passages; plan your response; write your response; and revise and edit your response. Be sure to include a claim; address counterclaims; use evidence from multiple sources; and avoid overly relying on one source. Your response should be in the form of a multiparagraph essay. Write your response in the space provided.,\"# What Is the Electoral College? by the Office of the Federal Register\n",
      "\n",
      "1 The Electoral College is a process, not a place. The founding fathers established it in the Constitution as a compromise between election of the President by a vote in Congress and election of the President by a popular vote of qualified citizens.\n",
      "\n",
      "2 The Electoral College process consists of the selection of the electors, the meeting of the electors where they vote for President and Vice President, and the counting of the electoral votes by Congress.\n",
      "\n",
      "3 The Electoral College consists of 538 electors. A majority of 270 electoral votes is required to elect the President. Your state’s entitled allotment of electors equals the number of members in its Congressional delegation: one for each member in the House of Representatives plus two for your Senators. . . .\n",
      "\n",
      "4 Under the 23rd Amendment of the Constitution, the District of Columbia is allocated 3 electors and treated like a state for purposes of the Electoral College. For this reason, in the following discussion, the word “state” also refers to the District of Columbia.\n",
      "\n",
      "5 Each candidate running for President in your state has his or her own group of electors. The electors are generally chosen by the candidate’s political party, but state laws vary on how the electors are selected and what their responsibilities are. . . .\n",
      "\n",
      "6 The presidential election is held every four years on the Tuesday after the first Monday in November. You help choose your state’s electors when you vote for President because when you vote for your candidate you are actually voting for your candidate’s electors.\n",
      "\n",
      "7 Most states have a “winner-take-all” system that awards all electors to the winning presidential candidate. However, Maine and Nebraska each have a variation of “proportional representation.” . . .\n",
      "\n",
      "8 After the presidential election, your governor prepares a “Certificate of Ascertainment” listing all of the candidates who ran for President in your state along with the names of their respective electors. The Certificate of Ascertainment also declares the winning presidential candidate in your state and shows which electors will represent your state at the meeting of the electors in December of the election year. Your state’s Certificates of Ascertainments are sent to the Congress and the National Archives as part of the official records of the presidential election.\n",
      "\n",
      "# The Indefensible Electoral College: Why even the best-laid defenses of the system are wrong by Bradford Plumer\n",
      "\n",
      "9 What have Richard Nixon, Jimmy Carter, Bob Dole, the U.S. Chamber of Commerce, and the AFL-CIO all, in their time, agreed on? Answer: Abolishing the electoral college! They’re not alone; according to a Gallup poll in 2000, taken shortly after Al Gore—thanks to the quirks of the electoral college—won the popular vote but lost the presidency,1 over 60 percent of voters would prefer a direct election to the kind we have now. This year voters can expect another close election in which the popular vote winner could again lose the presidency. And yet, the electoral college still has its defenders. What gives? . . . What’s wrong with the electoral college\n",
      "\n",
      "10 Under the electoral college system, voters vote not for the president, but for a slate of electors, who in turn elect the president. If you lived in Texas, for instance, and wanted to vote for John Kerry, you’d vote for a slate of 34 Democratic electors pledged to Kerry. On the offchance that those electors won the statewide election, they would go to Congress and Kerry would get 34 electoral votes. Who are the electors? They can be anyone not holding public office. Who picks the electors in the first place? It depends on the state. Sometimes state conventions, sometimes the state party’s central committee, sometimes the presidential candidates themselves. Can voters control whom their electors vote for? Not always. Do voters sometimes get confused about the electors and vote for the wrong candidate? Sometimes.\n",
      "\n",
      "11 The single best argument against the electoral college is what we might call the disaster factor. The American people should consider themselves lucky that the 2000 fiasco was the biggest election crisis in a century; the system allows for much worse. Consider that state legislatures are technically responsible for picking electors, and that those electors could always defy the will of the people. Back in 1960, segregationists in the Louisiana legislature nearly succeeded in replacing the Democratic electors with new electors who would oppose John F. Kennedy. (So that a popular vote for Kennedy would not have actually gone to Kennedy.) In the same vein, “faithless” electors have occasionally refused to vote for their party’s candidate and cast a deciding vote for whomever they please. . . . Oh, and what if a state sends two slates of electors to Congress? It happened in Hawaii in 1960. Luckily, Vice President Richard Nixon, who was presiding over the Senate, validated only his opponent’s electors, but he made sure to do so “without establishing a precedent.” What if it happened again?\n",
      "\n",
      "12 Perhaps most worrying is the prospect of a tie in the electoral vote. In that case, the election would be thrown to the House of Representatives, where state delegations vote on the president. (The Senate would choose the vice-president.) Because each state casts only one vote, the single representative from Wyoming, representing 500,000 voters, would have as much say as the 55 representatives from California, who represent 35 million voters. Given that many voters vote one party for president and another for Congress, the House’s selection can hardly be expected to reflect the will of the people. And if an electoral tie seems unlikely, consider this: In 1968, a shift of just 41,971 votes would have deadlocked the election; In 1976, a tie would have occurred if a mere 5,559 voters in Ohio and 3,687 voters in Hawaii had voted the other way. The election is only a few swing voters away from catastrophe.\n",
      "\n",
      "13 At the most basic level, the electoral college is unfair to voters. Because of the winner-takeall system in each state, candidates don't spend time in states they know they have no chance of winning, focusing only on the tight races in the “swing” states. During the 2000 campaign, seventeen states didn’t see the candidates at all, including Rhode Island and South Carolina, and voters in 25 of the largest media markets didn’t get to see a single campaign ad. If anyone has a good argument for putting the fate of the presidency in the hands of a few swing voters in Ohio, they have yet to make it. . . .\n",
      "\n",
      "14 It’s official: The electoral college is unfair, outdated, and irrational. The best arguments in favor of it are mostly assertions without much basis in reality. And the arguments against direct elections are spurious at best. It’s hard to say this, but Bob Dole was right: Abolish the electoral college!\n",
      "\n",
      "# In Defense of the Electoral College: Five reasons to keep our despised method of choosing the President by Judge Richard A. Posner\n",
      "\n",
      "15 The Electoral College is widely regarded as an anachronism,1 a non-democratic method of selecting a president that ought to be overruled by declaring the candidate who receives the most popular votes the winner. The advocates of this position are correct in arguing that the Electoral College method is not democratic in a modern sense . . . it is the electors who elect the president, not the people. When you vote for a presidential candidate you’re actually voting for a slate of electors.\n",
      "\n",
      "16 But each party selects a slate of electors trusted to vote for the party’s nominee (and that trust is rarely betrayed) . . . however, it is entirely possible that the winner of the electoral vote will not win the national popular vote. Yet that has happened very rarely. It happened in 2000, when Gore had more popular votes than Bush yet fewer electoral votes, but that was the first time since 1888.\n",
      "\n",
      "17 There are five reasons for retaining the Electoral College despite its lack of democratic pedigree;2 all are practical reasons, not liberal or conservative3 reasons.\n",
      "\n",
      "## 1) Certainty of Outcome\n",
      "\n",
      "18 A dispute over the outcome of an Electoral College vote is possible—--it happened in 2000--—but it’s less likely than a dispute over the popular vote. The reason is that the winning candidate’s share of the Electoral College invariably exceeds his share of the popular vote. In 2012’s election, for example, Obama4 received 61.7 percent of the electoral vote compared to only 51.3 percent of the popular votes cast for him and Romney.5 . . . Because almost all states award electoral votes on a winner-take-all basis, even a very slight plurality6 in a state creates a landslide electoral-vote victory in that state. A tie in the nationwide electoral vote is possible because the total number of votes—--538—--is an even number, but it is highly unlikely. . . .\n",
      "\n",
      "## 2) Everyone’s President\n",
      "\n",
      "19 The Electoral College requires a presidential candidate to have trans-regional appeal. No region (South, Northeast, etc.) has enough electoral votes to elect a president. So a solid regional favorite, such as Romney was in the South, has no incentive to campaign heavily in those states, for he gains no electoral votes by increasing his plurality in states that he knows he will win. This is a desirable result because a candidate with only regional appeal is unlikely to be a successful president. The residents of the other regions are likely to feel disenfranchised—to feel that their votes do not count, that the new president will have no regard for their interests, that he really isn’t their president.\n",
      "\n",
      "## 3) Swing States\n",
      "\n",
      "20 The winner-take-all method of awarding electoral votes induces the candidates—as we saw in 2012’s election—to focus their campaign efforts on the toss-up states . . . . Voters in toss-up states are more likely to pay close attention to the campaign—to really listen to the competing candidates—knowing that they are going to decide the election. They are likely to be the most thoughtful voters, on average (and for the further reason that they will have received the most information and attention from the candidates), and the most thoughtful voters should be the ones to decide the election.\n",
      "\n",
      "## 4) Big States\n",
      "\n",
      "21 The Electoral College restores some of the weight in the political balance that large states (by population) lose by virtue of the mal-apportionment of the Senate decreed in the Constitution. . . . The popular vote was very close in Florida in 2012; nevertheless Obama, who won that vote, got 29 electoral votes. A victory by the same margin in Wyoming would net the winner only 3 electoral votes. So, other things being equal, a large state gets more attention from presidential candidates in a campaign than a small state does. . . .\n",
      "\n",
      "## 5) Avoid Run-Off Elections\n",
      "\n",
      "22 The Electoral College avoids the problem of elections in which no candidate receives a majority of the votes cast. For example, Nixon in 1968 and Clinton in 1992 both had only a 43 percent plurality of the popular votes, while winning a majority in the Electoral College (301 and 370 electoral votes, respectively). There is pressure for run-off elections when no candidate wins a majority of the votes cast; that pressure, which would greatly complicate the presidential election process, is reduced by the Electoral College, which invariably produces a clear winner. . . .\n",
      "\n",
      "23 It can be argued that the Electoral College method of selecting the president may turn off potential voters for a candidate who has no hope of carrying their state—Democrats in Texas, for example, or Republicans in California. Knowing their vote will have no effect, they have less incentive to pay attention to the campaign than they would have if the president were picked by popular vote . . . . But of course no voter’s vote swings a national election, and in spite of that, about one-half the eligible American population did vote in 2012’s election. Voters in presidential elections are people who want to express a political preference rather than people who think that a single vote may decide an election. . . .\n",
      "\"\n"
     ]
    }
   ],
   "source": [
    "import csv\n",
    "with open('./input/train_prompts.csv', newline='') as csvfile:\n",
    "    spamreader = csv.reader(csvfile, delimiter=' ', quotechar='|')\n",
    "    for row in spamreader:\n",
    "        print(' '.join(row))"
   ]
  },
  {
   "cell_type": "markdown",
   "id": "b69c3cd8",
   "metadata": {},
   "source": [
    "Splitting the data into train and development datasets"
   ]
  },
  {
   "cell_type": "code",
   "execution_count": null,
   "id": "fef5fc51",
   "metadata": {},
   "outputs": [],
   "source": [
    "train = train_data.sample(frac = 0.9, random_state = 43)\n",
    "dev = train_data.drop(train.index)\n",
    "train.shape, dev.shape"
   ]
  },
  {
   "cell_type": "code",
   "execution_count": null,
   "id": "6d5f3bba",
   "metadata": {},
   "outputs": [],
   "source": [
    "import csv\n",
    "with open('./input/train_essays.csv', 'w', newline='') as csvfile:\n",
    "    spamwriter = csv.writer(csvfile, delimiter=' ',\n",
    "                            quotechar='|', quoting=csv.QUOTE_MINIMAL)\n",
    "    spamwriter.writerow(['Spam'] * 5 + ['Baked Beans'])\n",
    "    spamwriter.writerow(['Spam', 'Lovely Spam', 'Wonderful Spam'])"
   ]
  },
  {
   "cell_type": "code",
   "execution_count": 21,
   "id": "230908ba",
   "metadata": {},
   "outputs": [
    {
     "data": {
      "text/plain": [
       "UUID('b3df159a-a5e5-40b9-a5e7-b14f60f295c1')"
      ]
     },
     "execution_count": 21,
     "metadata": {},
     "output_type": "execute_result"
    }
   ],
   "source": [
    "import uuid\n",
    "uuid.uuid4()"
   ]
  },
  {
   "cell_type": "code",
   "execution_count": 22,
   "id": "5be3d63d",
   "metadata": {},
   "outputs": [
    {
     "name": "stdout",
     "output_type": "stream",
     "text": [
      "02a53332\n"
     ]
    }
   ],
   "source": [
    "import secrets\n",
    "\n",
    "random_id = '{:08x}'.format(secrets.randbelow(16**8))\n",
    "print(random_id)"
   ]
  },
  {
   "cell_type": "code",
   "execution_count": 24,
   "id": "e3ec71ab",
   "metadata": {},
   "outputs": [
    {
     "name": "stdout",
     "output_type": "stream",
     "text": [
      "Row added successfully.\n"
     ]
    }
   ],
   "source": [
    "import csv\n",
    "\n",
    "text = \"\"\" Title: Embracing the Benefits of Limiting Car Usage for a Sustainable Future\n",
    "\n",
    "In our rapidly evolving world, the issue of sustainable living has become more critical than ever. One avenue through which individuals can actively contribute to a more sustainable future is by limiting their car usage. This approach, though initially met with skepticism, is underpinned by numerous advantages that extend beyond individual well-being to encompass broader societal and environmental benefits.\n",
    "\n",
    "One key advantage of reducing car usage is the positive impact on air quality. According to a study conducted by the World Health Organization (WHO), vehicular emissions are a significant contributor to air pollution, leading to a host of respiratory and cardiovascular issues. Limiting car usage translates to fewer vehicles on the road, resulting in reduced emissions and subsequently improving air quality. Cleaner air is not only beneficial for individual health but also contributes to a healthier environment for all citizens.\n",
    "\n",
    "Moreover, limiting car usage has the potential to alleviate traffic congestion, a pervasive issue in urban areas. The Urban Mobility Report by the Texas A&M Transportation Institute highlights the economic cost of congestion, with billions of dollars lost annually due to wasted time and fuel. By embracing alternative modes of transportation such as public transit, cycling, or walking, individuals can collectively reduce traffic congestion, making cities more efficient and livable. This shift not only saves time and money for citizens but also enhances the overall productivity of urban centers.\n",
    "\n",
    "A reduction in car usage also aligns with global efforts to combat climate change. The Intergovernmental Panel on Climate Change (IPCC) emphasizes the need for significant reductions in greenhouse gas emissions to mitigate the impacts of climate change. Cars, particularly those relying on fossil fuels, are major contributors to these emissions. Limiting car usage, especially through the adoption of electric vehicles and sustainable transportation options, can play a pivotal role in achieving the necessary emissions reductions to address climate change.\n",
    "\n",
    "Furthermore, the promotion of active transportation modes, such as walking and cycling, offers additional health benefits. The Centers for Disease Control and Prevention (CDC) notes that regular physical activity reduces the risk of chronic diseases and improves overall well-being. By limiting car usage and incorporating more active modes of transportation into daily routines, individuals can contribute to a healthier populace, simultaneously reducing the burden on healthcare systems.\n",
    "\n",
    "In conclusion, the advantages of limiting car usage extend far beyond individual preferences, reaching into the realms of public health, urban efficiency, environmental sustainability, and personal well-being. Embracing alternative transportation options is a collective responsibility that, when realized, can contribute significantly to a more sustainable and resilient future for our communities. As we celebrate the benefits of reducing car usage on this occasion, let us recognize the power each citizen holds to shape a healthier, more sustainable world through thoughtful and responsible transportation choices.\n",
    "\"\"\"\n",
    "# Assuming the new data\n",
    "new_row = {\n",
    "    'id': random_id,\n",
    "    'prompt_id': 0,\n",
    "    'text': text,\n",
    "    'generated': 1\n",
    "}\n",
    "\n",
    "# CSV file path\n",
    "csv_file_path = './input/train_essays.csv'\n",
    "\n",
    "# Open the file in append mode\n",
    "with open(csv_file_path, 'a', newline='') as csv_file:\n",
    "    # Create a CSV writer object\n",
    "    csv_writer = csv.DictWriter(csv_file, fieldnames=['id', 'prompt_id', 'text', 'generated'])\n",
    "\n",
    "    # If the file is empty, write the header\n",
    "    if csv_file.tell() == 0:\n",
    "        csv_writer.writeheader()\n",
    "\n",
    "    # Write the new row\n",
    "    csv_writer.writerow(new_row)\n",
    "\n",
    "print(\"Row added successfully.\")\n"
   ]
  },
  {
   "cell_type": "code",
   "execution_count": null,
   "id": "a54f28a6",
   "metadata": {},
   "outputs": [],
   "source": [
    "def add_row_csv(text):\n",
    "    import secrets\n",
    "\n",
    "    random_id = '{:08x}'.format(secrets.randbelow(16**8))\n",
    "    print(random_id)\n",
    "    \n",
    "#     text = \"\"\"\"\"\"\n",
    "    \n",
    "    # Assuming the new data\n",
    "    new_row = {\n",
    "        'id': random_id,\n",
    "        'prompt_id': 0,\n",
    "        'text': text,\n",
    "        'generated': 1\n",
    "    }\n",
    "\n",
    "    # CSV file path\n",
    "    csv_file_path = './input/train_essays.csv'\n",
    "\n",
    "    # Open the file in append mode\n",
    "    with open(csv_file_path, 'a', newline='') as csv_file:\n",
    "        # Create a CSV writer object\n",
    "        csv_writer = csv.DictWriter(csv_file, fieldnames=['id', 'prompt_id', 'text', 'generated'])\n",
    "\n",
    "        # If the file is empty, write the header\n",
    "        if csv_file.tell() == 0:\n",
    "            csv_writer.writeheader()\n",
    "\n",
    "        # Write the new row\n",
    "        csv_writer.writerow(new_row)\n",
    "\n",
    "    print(\"Row added successfully.\")"
   ]
  }
 ],
 "metadata": {
  "kernelspec": {
   "display_name": "Python 3 (ipykernel)",
   "language": "python",
   "name": "python3"
  },
  "language_info": {
   "codemirror_mode": {
    "name": "ipython",
    "version": 3
   },
   "file_extension": ".py",
   "mimetype": "text/x-python",
   "name": "python",
   "nbconvert_exporter": "python",
   "pygments_lexer": "ipython3",
   "version": "3.9.13"
  }
 },
 "nbformat": 4,
 "nbformat_minor": 5
}
